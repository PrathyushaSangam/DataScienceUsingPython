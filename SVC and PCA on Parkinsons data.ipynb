{
 "cells": [
  {
   "cell_type": "markdown",
   "metadata": {},
   "source": [
    "## SVC and PCA on Parkinson's Data\n",
    "**Author: Prathyusha Sangam**\n",
    "\n",
    "### Document Outline\n",
    "* [About the data](#About-the-data)\n",
    "* [Project objective](#Project-objective)\n",
    "* [Step 1: Load and Inspect Data](#Step-1:-Load-and-Inspect-Data)\n",
    "* [Step 2: Understanding and Cleaning the Data](#Step-2:-Understanding-and-Cleaning-the-Data)\n",
    "     * [Findings](#Findings)\n",
    "* [Step 3: Train Test Splits and Data Normalization](#Step-3:-Train-Test-Splits-and-Data-Normalization)\n",
    "* [Step 4: Linear SVC](#Step-4:-Linear-SVC)\n",
    "* [Step 5: Investigating RBF and Polynomial kernels](#Step-5:-Investigating-RBF-and-Polynomial-kernels)\n",
    "* [Step 6: PCA](#Step-6:-PCA)\n",
    "\n",
    "\n",
    "\n",
    "### About the Data\n",
    "* The data is obtained from UCI repository, which was originally contributed by the University of Oxford, in  collaboration with the National Centre for Voice and Speech, Denver, Colorado.\n",
    "* This dataset is composed of a range of biomedical voice measurements from  31 people, 23 with Parkinson's disease (PD).\n",
    "* Each column is a particular voice measure, and each row corresponds one of 195 voice recording from these individuals (\"name\" column).\n",
    "* Target values correspond to \"status\" column which is set to 0 for healthy and 1 for PD.\n",
    "\n",
    "### Project objective\n",
    "* Perform Classification using SVC and its variants to classify between healthy samples and PD samples.\n",
    "* Perform PCA by retaining 95% variance\n",
    "* Comment on the performance\n",
    "\n",
    "### Step 1: Load and Inspect Data"
   ]
  },
  {
   "cell_type": "code",
   "execution_count": 21,
   "metadata": {},
   "outputs": [],
   "source": [
    "#Data manipulation\n",
    "import pandas as pd\n",
    "import numpy as np\n",
    "\n",
    "# Visualization\n",
    "import matplotlib.pyplot as plt\n",
    "import seaborn as sns\n",
    "\n",
    "#ignore warnings\n",
    "import warnings\n",
    "warnings.filterwarnings('ignore')\n",
    "\n",
    "# allowing multiple/scrollable outputs\n",
    "from IPython.core.interactiveshell import InteractiveShell\n",
    "InteractiveShell.ast_node_interactivity = \"all\"\n",
    "\n",
    "#sklearn metrics\n",
    "from sklearn.metrics import classification_report\n",
    "from sklearn.model_selection import cross_val_score"
   ]
  },
  {
   "cell_type": "code",
   "execution_count": 2,
   "metadata": {},
   "outputs": [
    {
     "data": {
      "text/html": [
       "<div>\n",
       "<style scoped>\n",
       "    .dataframe tbody tr th:only-of-type {\n",
       "        vertical-align: middle;\n",
       "    }\n",
       "\n",
       "    .dataframe tbody tr th {\n",
       "        vertical-align: top;\n",
       "    }\n",
       "\n",
       "    .dataframe thead th {\n",
       "        text-align: right;\n",
       "    }\n",
       "</style>\n",
       "<table border=\"1\" class=\"dataframe\">\n",
       "  <thead>\n",
       "    <tr style=\"text-align: right;\">\n",
       "      <th></th>\n",
       "      <th>name</th>\n",
       "      <th>MDVP:Fo(Hz)</th>\n",
       "      <th>MDVP:Fhi(Hz)</th>\n",
       "      <th>MDVP:Flo(Hz)</th>\n",
       "      <th>MDVP:Jitter(%)</th>\n",
       "      <th>MDVP:Jitter(Abs)</th>\n",
       "      <th>MDVP:RAP</th>\n",
       "      <th>MDVP:PPQ</th>\n",
       "      <th>Jitter:DDP</th>\n",
       "      <th>MDVP:Shimmer</th>\n",
       "      <th>...</th>\n",
       "      <th>Shimmer:DDA</th>\n",
       "      <th>NHR</th>\n",
       "      <th>HNR</th>\n",
       "      <th>status</th>\n",
       "      <th>RPDE</th>\n",
       "      <th>DFA</th>\n",
       "      <th>spread1</th>\n",
       "      <th>spread2</th>\n",
       "      <th>D2</th>\n",
       "      <th>PPE</th>\n",
       "    </tr>\n",
       "  </thead>\n",
       "  <tbody>\n",
       "    <tr>\n",
       "      <th>0</th>\n",
       "      <td>phon_R01_S01_1</td>\n",
       "      <td>119.992</td>\n",
       "      <td>157.302</td>\n",
       "      <td>74.997</td>\n",
       "      <td>0.00784</td>\n",
       "      <td>0.00007</td>\n",
       "      <td>0.00370</td>\n",
       "      <td>0.00554</td>\n",
       "      <td>0.01109</td>\n",
       "      <td>0.04374</td>\n",
       "      <td>...</td>\n",
       "      <td>0.06545</td>\n",
       "      <td>0.02211</td>\n",
       "      <td>21.033</td>\n",
       "      <td>1</td>\n",
       "      <td>0.414783</td>\n",
       "      <td>0.815285</td>\n",
       "      <td>-4.813031</td>\n",
       "      <td>0.266482</td>\n",
       "      <td>2.301442</td>\n",
       "      <td>0.284654</td>\n",
       "    </tr>\n",
       "    <tr>\n",
       "      <th>1</th>\n",
       "      <td>phon_R01_S01_2</td>\n",
       "      <td>122.400</td>\n",
       "      <td>148.650</td>\n",
       "      <td>113.819</td>\n",
       "      <td>0.00968</td>\n",
       "      <td>0.00008</td>\n",
       "      <td>0.00465</td>\n",
       "      <td>0.00696</td>\n",
       "      <td>0.01394</td>\n",
       "      <td>0.06134</td>\n",
       "      <td>...</td>\n",
       "      <td>0.09403</td>\n",
       "      <td>0.01929</td>\n",
       "      <td>19.085</td>\n",
       "      <td>1</td>\n",
       "      <td>0.458359</td>\n",
       "      <td>0.819521</td>\n",
       "      <td>-4.075192</td>\n",
       "      <td>0.335590</td>\n",
       "      <td>2.486855</td>\n",
       "      <td>0.368674</td>\n",
       "    </tr>\n",
       "    <tr>\n",
       "      <th>2</th>\n",
       "      <td>phon_R01_S01_3</td>\n",
       "      <td>116.682</td>\n",
       "      <td>131.111</td>\n",
       "      <td>111.555</td>\n",
       "      <td>0.01050</td>\n",
       "      <td>0.00009</td>\n",
       "      <td>0.00544</td>\n",
       "      <td>0.00781</td>\n",
       "      <td>0.01633</td>\n",
       "      <td>0.05233</td>\n",
       "      <td>...</td>\n",
       "      <td>0.08270</td>\n",
       "      <td>0.01309</td>\n",
       "      <td>20.651</td>\n",
       "      <td>1</td>\n",
       "      <td>0.429895</td>\n",
       "      <td>0.825288</td>\n",
       "      <td>-4.443179</td>\n",
       "      <td>0.311173</td>\n",
       "      <td>2.342259</td>\n",
       "      <td>0.332634</td>\n",
       "    </tr>\n",
       "    <tr>\n",
       "      <th>3</th>\n",
       "      <td>phon_R01_S01_4</td>\n",
       "      <td>116.676</td>\n",
       "      <td>137.871</td>\n",
       "      <td>111.366</td>\n",
       "      <td>0.00997</td>\n",
       "      <td>0.00009</td>\n",
       "      <td>0.00502</td>\n",
       "      <td>0.00698</td>\n",
       "      <td>0.01505</td>\n",
       "      <td>0.05492</td>\n",
       "      <td>...</td>\n",
       "      <td>0.08771</td>\n",
       "      <td>0.01353</td>\n",
       "      <td>20.644</td>\n",
       "      <td>1</td>\n",
       "      <td>0.434969</td>\n",
       "      <td>0.819235</td>\n",
       "      <td>-4.117501</td>\n",
       "      <td>0.334147</td>\n",
       "      <td>2.405554</td>\n",
       "      <td>0.368975</td>\n",
       "    </tr>\n",
       "    <tr>\n",
       "      <th>4</th>\n",
       "      <td>phon_R01_S01_5</td>\n",
       "      <td>116.014</td>\n",
       "      <td>141.781</td>\n",
       "      <td>110.655</td>\n",
       "      <td>0.01284</td>\n",
       "      <td>0.00011</td>\n",
       "      <td>0.00655</td>\n",
       "      <td>0.00908</td>\n",
       "      <td>0.01966</td>\n",
       "      <td>0.06425</td>\n",
       "      <td>...</td>\n",
       "      <td>0.10470</td>\n",
       "      <td>0.01767</td>\n",
       "      <td>19.649</td>\n",
       "      <td>1</td>\n",
       "      <td>0.417356</td>\n",
       "      <td>0.823484</td>\n",
       "      <td>-3.747787</td>\n",
       "      <td>0.234513</td>\n",
       "      <td>2.332180</td>\n",
       "      <td>0.410335</td>\n",
       "    </tr>\n",
       "  </tbody>\n",
       "</table>\n",
       "<p>5 rows × 24 columns</p>\n",
       "</div>"
      ],
      "text/plain": [
       "             name  MDVP:Fo(Hz)  MDVP:Fhi(Hz)  MDVP:Flo(Hz)  MDVP:Jitter(%)  \\\n",
       "0  phon_R01_S01_1      119.992       157.302        74.997         0.00784   \n",
       "1  phon_R01_S01_2      122.400       148.650       113.819         0.00968   \n",
       "2  phon_R01_S01_3      116.682       131.111       111.555         0.01050   \n",
       "3  phon_R01_S01_4      116.676       137.871       111.366         0.00997   \n",
       "4  phon_R01_S01_5      116.014       141.781       110.655         0.01284   \n",
       "\n",
       "   MDVP:Jitter(Abs)  MDVP:RAP  MDVP:PPQ  Jitter:DDP  MDVP:Shimmer    ...     \\\n",
       "0           0.00007   0.00370   0.00554     0.01109       0.04374    ...      \n",
       "1           0.00008   0.00465   0.00696     0.01394       0.06134    ...      \n",
       "2           0.00009   0.00544   0.00781     0.01633       0.05233    ...      \n",
       "3           0.00009   0.00502   0.00698     0.01505       0.05492    ...      \n",
       "4           0.00011   0.00655   0.00908     0.01966       0.06425    ...      \n",
       "\n",
       "   Shimmer:DDA      NHR     HNR  status      RPDE       DFA   spread1  \\\n",
       "0      0.06545  0.02211  21.033       1  0.414783  0.815285 -4.813031   \n",
       "1      0.09403  0.01929  19.085       1  0.458359  0.819521 -4.075192   \n",
       "2      0.08270  0.01309  20.651       1  0.429895  0.825288 -4.443179   \n",
       "3      0.08771  0.01353  20.644       1  0.434969  0.819235 -4.117501   \n",
       "4      0.10470  0.01767  19.649       1  0.417356  0.823484 -3.747787   \n",
       "\n",
       "    spread2        D2       PPE  \n",
       "0  0.266482  2.301442  0.284654  \n",
       "1  0.335590  2.486855  0.368674  \n",
       "2  0.311173  2.342259  0.332634  \n",
       "3  0.334147  2.405554  0.368975  \n",
       "4  0.234513  2.332180  0.410335  \n",
       "\n",
       "[5 rows x 24 columns]"
      ]
     },
     "execution_count": 2,
     "metadata": {},
     "output_type": "execute_result"
    },
    {
     "data": {
      "text/plain": [
       "(195, 24)"
      ]
     },
     "execution_count": 2,
     "metadata": {},
     "output_type": "execute_result"
    }
   ],
   "source": [
    "#load data\n",
    "parkinsons = pd.read_csv(\"Datasets/parkinsons.data\", sep = ',')\n",
    "\n",
    "#inspecting how data looks like\n",
    "parkinsons.head()\n",
    "parkinsons.shape\n",
    "# parkinsons.info()"
   ]
  },
  {
   "cell_type": "markdown",
   "metadata": {},
   "source": [
    "### Step 2: Understanding and Cleaning the Data"
   ]
  },
  {
   "cell_type": "code",
   "execution_count": 3,
   "metadata": {},
   "outputs": [
    {
     "name": "stdout",
     "output_type": "stream",
     "text": [
      "Null Values in data: 0\n"
     ]
    }
   ],
   "source": [
    "#data cleaning\n",
    "print(\"Null Values in data:\" , parkinsons.isnull().sum().sum())\n",
    "\n",
    "parkinsons = parkinsons.drop('name', axis=1)"
   ]
  },
  {
   "cell_type": "code",
   "execution_count": 4,
   "metadata": {},
   "outputs": [
    {
     "data": {
      "image/png": "[encoded data removed]",
      "text/plain": [
       "<matplotlib.figure.Figure at 0x10b2e0940>"
      ]
     },
     "metadata": {},
     "output_type": "display_data"
    }
   ],
   "source": [
    "#Histogram to understand - distribution of the attributes\n",
    "_= parkinsons.hist(layout = (5,5),figsize=(25,25), grid = False)"
   ]
  },
  {
   "cell_type": "code",
   "execution_count": 5,
   "metadata": {},
   "outputs": [
    {
     "data": {
      "text/plain": [
       "Text(0.5,1,'Disproportionate distribution of \"Status\" values')"
      ]
     },
     "execution_count": 5,
     "metadata": {},
     "output_type": "execute_result"
    },
    {
     "data": {
      "image/png": "[encoded data removed]",
      "text/plain": [
       "<matplotlib.figure.Figure at 0x10b572cc0>"
      ]
     },
     "metadata": {},
     "output_type": "display_data"
    }
   ],
   "source": [
    "#class distributions\n",
    "sns.countplot('status',data= parkinsons).set_title('Disproportionate distribution of \"Status\" values')"
   ]
  },
  {
   "cell_type": "markdown",
   "metadata": {},
   "source": [
    "#### Findings\n",
    "* There are no null values in the data to clean\n",
    "* 'name' column can be dropped since it has no relationship to a patient's status; all other columns will be used.\n",
    "* The histograms of the attributes show that values are of different scales, also we see their distributions are not normal, **Decision: Scale the features using Standard Scaler.**\n",
    "* The values of status : 0 and 1 labels are have disproportionate number of samples in the data set. **Decision: We will perform stratified test train splits.**\n",
    "\n",
    "\n",
    "\n",
    "### Step 3: Train Test Splits and Data Normalization\n",
    "Before performing the classification task, we will make Train Test splits in 80:20 ratio (industry recommended). Since there are huge variations in number of samples of each category, we perform stratified sampling.\n",
    "\n",
    "Naming convention of the train-test splits:\n",
    "* X_train: Training data frame containing features - without labels\n",
    "* y_train: Target values for training\n",
    "* X_test: Testing data frame containing features - without targets labels\n",
    "* y_test: Original data target values of test data"
   ]
  },
  {
   "cell_type": "code",
   "execution_count": 6,
   "metadata": {},
   "outputs": [],
   "source": [
    "#Separating X and y from original dataframe\n",
    "\n",
    "X = parkinsons.drop('status',axis=1)\n",
    "y = parkinsons['status']\n",
    "\n",
    "# uncomment to inspect the columns chosen\n",
    "# X.head()\n",
    "# y.head()\n",
    "\n",
    "#Test train splits\n",
    "\n",
    "from sklearn.model_selection import train_test_split\n",
    "\n",
    "X_train, X_test, y_train, y_test = train_test_split(X, y,\n",
    "                                                    stratify=y, \n",
    "                                                    test_size=0.2, random_state = 42)\n",
    "\n",
    "# Data Normalization : Feature scaling using Standard scaler\n",
    "\n",
    "from sklearn.preprocessing import StandardScaler\n",
    "scaler = StandardScaler()\n",
    "\n",
    "X_train = scaler.fit_transform(X_train)\n",
    "X_test = scaler.transform(X_test)"
   ]
  },
  {
   "cell_type": "markdown",
   "metadata": {},
   "source": [
    "### Step 4: Linear SVC\n",
    "* Manual Hyperparameter tuning for was done for C=1 (default), C=10, C=0.5\n",
    "* C=0.5 was found to have best accuracy."
   ]
  },
  {
   "cell_type": "code",
   "execution_count": 7,
   "metadata": {},
   "outputs": [
    {
     "data": {
      "text/plain": [
       "LinearSVC(C=0.5, class_weight=None, dual=True, fit_intercept=True,\n",
       "     intercept_scaling=1, loss='squared_hinge', max_iter=1000,\n",
       "     multi_class='ovr', penalty='l2', random_state=42, tol=0.0001,\n",
       "     verbose=0)"
      ]
     },
     "execution_count": 7,
     "metadata": {},
     "output_type": "execute_result"
    },
    {
     "name": "stdout",
     "output_type": "stream",
     "text": [
      "Accuracy on Train [0.86792453 0.82692308 0.88235294]\n",
      "Accuracy on Test 0.9230769230769231\n",
      "-----------------------------------------------------------------------------------------------------\n",
      "CLASSIFICATION REPORT DURING TRAINING: \n",
      "              precision    recall  f1-score   support\n",
      "\n",
      "          0       0.79      0.71      0.75        38\n",
      "          1       0.91      0.94      0.93       118\n",
      "\n",
      "avg / total       0.88      0.88      0.88       156\n",
      "\n",
      "-----------------------------------------------------------------------------------------------------\n",
      "CLASSIFICATION REPORT DURING TESTING: \n",
      "              precision    recall  f1-score   support\n",
      "\n",
      "          0       0.89      0.80      0.84        10\n",
      "          1       0.93      0.97      0.95        29\n",
      "\n",
      "avg / total       0.92      0.92      0.92        39\n",
      "\n"
     ]
    }
   ],
   "source": [
    "from sklearn.svm import LinearSVC\n",
    "\n",
    "svc_c05 = LinearSVC(random_state=42, C=0.5)\n",
    "svc_c05.fit(X_train,y_train)\n",
    "\n",
    "#For training set\n",
    "from sklearn.model_selection import cross_val_score\n",
    "svc_c05_train_score = cross_val_score(svc_c05, X_train, y_train, cv=3,n_jobs=1)\n",
    "\n",
    "svc_c05_test_score = svc_c05.score(X_test,y_test)\n",
    "\n",
    "print(\"Accuracy on Train\", svc_c05_train_score )\n",
    "print(\"Accuracy on Test\", svc_c05_test_score )\n",
    "\n",
    "#predict for producing classification report\n",
    "svc_c05_predict_train = svc_c05.predict(X_train)\n",
    "svc_c05_predict_test = svc_c05.predict(X_test)\n",
    "\n",
    "\n",
    "#display classification report\n",
    "print(\"-----------------------------------------------------------------------------------------------------\")\n",
    "print(\"CLASSIFICATION REPORT DURING TRAINING: \\n\",classification_report(y_train, svc_c05_predict_train))\n",
    "print(\"-----------------------------------------------------------------------------------------------------\")\n",
    "print(\"CLASSIFICATION REPORT DURING TESTING: \\n\",classification_report(y_test, svc_c05_predict_test))"
   ]
  },
  {
   "cell_type": "markdown",
   "metadata": {},
   "source": [
    "### Step 5: Investigating RBF and Polynomial kernels\n",
    "* Model 1: kernel = rbf, C=0.5\n",
    "* Model 2: kernel = poly, C=0.5"
   ]
  },
  {
   "cell_type": "code",
   "execution_count": 19,
   "metadata": {},
   "outputs": [
    {
     "data": {
      "text/plain": [
       "SVC(C=0.5, cache_size=200, class_weight=None, coef0=0.0,\n",
       "  decision_function_shape='ovr', degree=3, gamma='auto', kernel='rbf',\n",
       "  max_iter=-1, probability=False, random_state=42, shrinking=True,\n",
       "  tol=0.001, verbose=False)"
      ]
     },
     "execution_count": 19,
     "metadata": {},
     "output_type": "execute_result"
    },
    {
     "name": "stdout",
     "output_type": "stream",
     "text": [
      "Accuracy on Train [0.88679245 0.80769231 0.8627451 ]\n",
      "Accuracy on Test 0.8717948717948718\n",
      "-----------------------------------------------------------------------------------------------------\n",
      "CLASSIFICATION REPORT DURING TRAINING: \n",
      "              precision    recall  f1-score   support\n",
      "\n",
      "          0       1.00      0.47      0.64        38\n",
      "          1       0.86      1.00      0.92       118\n",
      "\n",
      "avg / total       0.89      0.87      0.85       156\n",
      "\n",
      "-----------------------------------------------------------------------------------------------------\n",
      "CLASSIFICATION REPORT DURING TESTING: \n",
      "              precision    recall  f1-score   support\n",
      "\n",
      "          0       1.00      0.50      0.67        10\n",
      "          1       0.85      1.00      0.92        29\n",
      "\n",
      "avg / total       0.89      0.87      0.86        39\n",
      "\n"
     ]
    }
   ],
   "source": [
    "from sklearn.svm import SVC\n",
    "svc_rbf = SVC(random_state=42, C=0.5, kernel = 'rbf')\n",
    "svc_rbf.fit(X_train,y_train)\n",
    "\n",
    "\n",
    "# training and testing accuracies\n",
    "svc_rbf_train_score = cross_val_score(svc_rbf, X_train, y_train, cv=3,n_jobs=1)\n",
    "svc_rbf_test_score = svc_rbf.score(X_test,y_test)\n",
    "\n",
    "print(\"Accuracy on Train\", svc_rbf_train_score )\n",
    "print(\"Accuracy on Test\", svc_rbf_test_score )\n",
    "\n",
    "#predict for producing classification report\n",
    "svc_rbf_predict_train = svc_rbf.predict(X_train)\n",
    "svc_rbf_predict_test = svc_rbf.predict(X_test)\n",
    "\n",
    "#display classification report\n",
    "print(\"-----------------------------------------------------------------------------------------------------\")\n",
    "print(\"CLASSIFICATION REPORT DURING TRAINING: \\n\",classification_report(y_train, svc_rbf_predict_train))\n",
    "print(\"-----------------------------------------------------------------------------------------------------\")\n",
    "print(\"CLASSIFICATION REPORT DURING TESTING: \\n\",classification_report(y_test, svc_rbf_predict_test))"
   ]
  },
  {
   "cell_type": "code",
   "execution_count": 56,
   "metadata": {},
   "outputs": [
    {
     "data": {
      "text/plain": [
       "SVC(C=0.5, cache_size=200, class_weight=None, coef0=0.0,\n",
       "  decision_function_shape='ovr', degree=5, gamma='auto', kernel='poly',\n",
       "  max_iter=-1, probability=False, random_state=42, shrinking=True,\n",
       "  tol=0.001, verbose=False)"
      ]
     },
     "execution_count": 56,
     "metadata": {},
     "output_type": "execute_result"
    },
    {
     "name": "stdout",
     "output_type": "stream",
     "text": [
      "Accuracy on Train [0.86792453 0.82692308 0.88235294]\n",
      "Accuracy on Test 0.8717948717948718\n",
      "-----------------------------------------------------------------------------------------------------\n",
      "CLASSIFICATION REPORT DURING TRAINING: \n",
      "              precision    recall  f1-score   support\n",
      "\n",
      "          0       1.00      0.45      0.62        38\n",
      "          1       0.85      1.00      0.92       118\n",
      "\n",
      "avg / total       0.89      0.87      0.85       156\n",
      "\n",
      "-----------------------------------------------------------------------------------------------------\n",
      "CLASSIFICATION REPORT DURING TESTING: \n",
      "              precision    recall  f1-score   support\n",
      "\n",
      "          0       1.00      0.50      0.67        10\n",
      "          1       0.85      1.00      0.92        29\n",
      "\n",
      "avg / total       0.89      0.87      0.86        39\n",
      "\n"
     ]
    }
   ],
   "source": [
    "#poly\n",
    "svc_poly = SVC(random_state=42, C=0.5, kernel = 'poly',degree= 5)\n",
    "svc_poly.fit(X_train,y_train)\n",
    "\n",
    "svc_poly_train_score  = cross_val_score(svc_poly, X_train, y_train, cv=3,n_jobs=1)\n",
    "svc_poly_test_score = svc_poly.score(X_test,y_test)\n",
    "\n",
    "print(\"Accuracy on Train\", svc_poly_train_score)\n",
    "print(\"Accuracy on Test\", svc_poly_test_score)\n",
    "\n",
    "#predict for producing classification report\n",
    "svc_poly_predict_train = svc_poly.predict(X_train)\n",
    "svc_poly_predict_test = svc_poly.predict(X_test)\n",
    "\n",
    "#display classification report\n",
    "print(\"-----------------------------------------------------------------------------------------------------\")\n",
    "print(\"CLASSIFICATION REPORT DURING TRAINING: \\n\",classification_report(y_train, svc_poly_predict_train))\n",
    "print(\"-----------------------------------------------------------------------------------------------------\")\n",
    "print(\"CLASSIFICATION REPORT DURING TESTING: \\n\",classification_report(y_test, svc_poly_predict_test))"
   ]
  },
  {
   "cell_type": "markdown",
   "metadata": {},
   "source": [
    "### Comparing the performances\n",
    "Of Linear SVC, SVC with RBF kernel and SVC with polynomial kernel (degree = 5 ), all with C=0.5\n",
    " \n",
    "* On comparing the performance based on Accuracy, Linear SVC performed the best.\n",
    "* With respect to precision and recall, Linear SVC had decent precision recall tradeoff; precision and recall  were almost equal in both train and test phases, for both labels '0' and '1'.\n",
    "* Both 'rbf' and 'poly' kernels resulted in very low recall and very high precision for label '0' and high recall low precision for label '1' (in both train and test phases)\n",
    "* Curiously, SVC poly(degree=5), SVC RBF  have very similar accuracies.\n",
    "* **Overall, for the parkinsons dataset, Linear SVC produces a good outcome** "
   ]
  },
  {
   "cell_type": "code",
   "execution_count": 57,
   "metadata": {},
   "outputs": [
    {
     "data": {
      "text/html": [
       "<div>\n",
       "<style scoped>\n",
       "    .dataframe tbody tr th:only-of-type {\n",
       "        vertical-align: middle;\n",
       "    }\n",
       "\n",
       "    .dataframe tbody tr th {\n",
       "        vertical-align: top;\n",
       "    }\n",
       "\n",
       "    .dataframe thead th {\n",
       "        text-align: right;\n",
       "    }\n",
       "</style>\n",
       "<table border=\"1\" class=\"dataframe\">\n",
       "  <thead>\n",
       "    <tr style=\"text-align: right;\">\n",
       "      <th></th>\n",
       "      <th>Accuracy on Test</th>\n",
       "      <th>Value</th>\n",
       "    </tr>\n",
       "  </thead>\n",
       "  <tbody>\n",
       "    <tr>\n",
       "      <th>0</th>\n",
       "      <td>SVC linear</td>\n",
       "      <td>0.923077</td>\n",
       "    </tr>\n",
       "    <tr>\n",
       "      <th>1</th>\n",
       "      <td>SVC rbf</td>\n",
       "      <td>0.871795</td>\n",
       "    </tr>\n",
       "    <tr>\n",
       "      <th>2</th>\n",
       "      <td>SVC poly</td>\n",
       "      <td>0.871795</td>\n",
       "    </tr>\n",
       "  </tbody>\n",
       "</table>\n",
       "</div>"
      ],
      "text/plain": [
       "  Accuracy on Test     Value\n",
       "0       SVC linear  0.923077\n",
       "1          SVC rbf  0.871795\n",
       "2         SVC poly  0.871795"
      ]
     },
     "execution_count": 57,
     "metadata": {},
     "output_type": "execute_result"
    }
   ],
   "source": [
    "models = pd.DataFrame({\n",
    "    'Accuracy on Test': ['SVC linear', 'SVC rbf', 'SVC poly'],\n",
    "    'Value': [svc_c05_test_score,svc_rbf_test_score,svc_poly_test_score]})\n",
    "\n",
    "models"
   ]
  },
  {
   "cell_type": "markdown",
   "metadata": {},
   "source": [
    "### Step 6: PCA\n",
    "To retain 95% variance in the data, we use n_components = 0.95\n",
    "\n",
    "Comments / Change in performance of SVC after dimensionality reduction:\n",
    "* PCA has been done on the same data from previous stages to make the comparision valid (scaled test-train split data).\n",
    "\n",
    "* Principal axis tries to preserve information of features and standard scaling manipulates the features to fit them with 0 mean and unit variance. These two tasks affect the variance of the data. As there is a necessity of comparing algorithms with and without PCA, and given that SVC needs feature scaling, the choice of performing PCA on scaled data was indeed a challenge.\n",
    "\n",
    "* After dimensionality reduction, there has been no significant improvement in performance. The accuracies of Linear SVC have decreased, while that of poly SVM increased slightly.\n",
    "\n",
    "* In cases such as image data, PCA is more helpful due to very large dimensionality. Given that the dataset is small, it doesn't make much difference to the computational performance (with respect to time of training)  whether or not dimensionality is reduced.\n",
    "\n",
    "* The results of PCA are as below"
   ]
  },
  {
   "cell_type": "code",
   "execution_count": 44,
   "metadata": {},
   "outputs": [],
   "source": [
    "#perform PCA\n",
    "from sklearn.decomposition import PCA\n",
    "pca = PCA(n_components=0.95)\n",
    "\n",
    "X_train_pca = pca.fit_transform(X_train)\n",
    "X_test_pca = pca.transform(X_test)\n"
   ]
  },
  {
   "cell_type": "code",
   "execution_count": 61,
   "metadata": {},
   "outputs": [
    {
     "name": "stdout",
     "output_type": "stream",
     "text": [
      "22 columns have been reduced to 8\n"
     ]
    },
    {
     "data": {
      "text/plain": [
       "(39, 8)"
      ]
     },
     "execution_count": 61,
     "metadata": {},
     "output_type": "execute_result"
    },
    {
     "data": {
      "text/plain": [
       "(156, 8)"
      ]
     },
     "execution_count": 61,
     "metadata": {},
     "output_type": "execute_result"
    }
   ],
   "source": [
    "#shape of the reduced dimension\n",
    "\n",
    "print(\"22 columns have been reduced to 8\")\n",
    "X_test_pca.shape\n",
    "X_train_pca.shape"
   ]
  },
  {
   "cell_type": "code",
   "execution_count": 58,
   "metadata": {},
   "outputs": [
    {
     "data": {
      "text/plain": [
       "LinearSVC(C=0.5, class_weight=None, dual=True, fit_intercept=True,\n",
       "     intercept_scaling=1, loss='squared_hinge', max_iter=1000,\n",
       "     multi_class='ovr', penalty='l2', random_state=42, tol=0.0001,\n",
       "     verbose=0)"
      ]
     },
     "execution_count": 58,
     "metadata": {},
     "output_type": "execute_result"
    },
    {
     "name": "stdout",
     "output_type": "stream",
     "text": [
      "Linear SVM - PCA, Accuracy on Train 0.8461538461538461\n",
      "Linear SVM - PCA, Accuracy on Test 0.8974358974358975\n",
      "-----------------------------------------------------------------------------------------------------\n"
     ]
    },
    {
     "data": {
      "text/plain": [
       "SVC(C=0.5, cache_size=200, class_weight=None, coef0=0.0,\n",
       "  decision_function_shape='ovr', degree=3, gamma='auto', kernel='rbf',\n",
       "  max_iter=-1, probability=False, random_state=42, shrinking=True,\n",
       "  tol=0.001, verbose=False)"
      ]
     },
     "execution_count": 58,
     "metadata": {},
     "output_type": "execute_result"
    },
    {
     "name": "stdout",
     "output_type": "stream",
     "text": [
      "RBF SVM - PCA, Accuracy on Train 0.8653846153846154\n",
      "RBF SVM - PCA, Accuracy on Test 0.8974358974358975\n",
      "-----------------------------------------------------------------------------------------------------\n"
     ]
    },
    {
     "data": {
      "text/plain": [
       "SVC(C=0.5, cache_size=200, class_weight=None, coef0=0.0,\n",
       "  decision_function_shape='ovr', degree=5, gamma='auto', kernel='poly',\n",
       "  max_iter=-1, probability=False, random_state=42, shrinking=True,\n",
       "  tol=0.001, verbose=False)"
      ]
     },
     "execution_count": 58,
     "metadata": {},
     "output_type": "execute_result"
    },
    {
     "name": "stdout",
     "output_type": "stream",
     "text": [
      "Poly SVM - PCA, Accuracy on Train 0.9423076923076923\n",
      "Poly SVM - PCA, Accuracy on Test 0.8974358974358975\n"
     ]
    }
   ],
   "source": [
    "#Linear SVC with pa\n",
    "svc_pca = LinearSVC(random_state=42, C=0.5)\n",
    "svc_pca.fit(X_train_pca,y_train)\n",
    "\n",
    "# Accuracy scores LSVC\n",
    "print(\"Linear SVM - PCA, Accuracy on Train\", svc_pca.score(X_train_pca, y_train) )\n",
    "print(\"Linear SVM - PCA, Accuracy on Test\", svc_pca.score(X_test_pca,y_test) )\n",
    "print(\"-----------------------------------------------------------------------------------------------------\")\n",
    "\n",
    "\n",
    "#rbf with pca\n",
    "svc_rbf_pca = SVC(random_state=42, C=0.5, kernel = 'rbf')\n",
    "svc_rbf_pca.fit(X_train_pca,y_train)\n",
    "\n",
    "# Accuracy scores poly\n",
    "print(\"RBF SVM - PCA, Accuracy on Train\", svc_rbf_pca.score(X_train_pca, y_train))\n",
    "print(\"RBF SVM - PCA, Accuracy on Test\", svc_rbf_pca.score(X_test_pca,y_test))\n",
    "print(\"-----------------------------------------------------------------------------------------------------\")\n",
    "\n",
    "#poly with pca\n",
    "svc_poly_pca = SVC(random_state=42, C=0.5, kernel = 'poly',degree= 5)\n",
    "svc_poly_pca.fit(X_train_pca,y_train)\n",
    "\n",
    "# Accuracy scores poly\n",
    "print(\"Poly SVM - PCA, Accuracy on Train\", svc_poly_pca.score(X_train_pca, y_train))\n",
    "print(\"Poly SVM - PCA, Accuracy on Test\", svc_poly_pca.score(X_test_pca,y_test))\n",
    "\n"
   ]
  },
  {
   "cell_type": "markdown",
   "metadata": {},
   "source": [
    "**REFERENCES:**\n",
    "\n",
    "Textbook: Hands-On Machine Learning with Scikit-Learn and TensorFlow\n",
    "Python / Scikit Learn documentation"
   ]
  },
  {
   "cell_type": "code",
   "execution_count": null,
   "metadata": {},
   "outputs": [],
   "source": []
  }
 ],
 "metadata": {
  "kernelspec": {
   "display_name": "Python 3",
   "language": "python",
   "name": "python3"
  },
  "language_info": {
   "codemirror_mode": {
    "name": "ipython",
    "version": 3
   },
   "file_extension": ".py",
   "mimetype": "text/x-python",
   "name": "python",
   "nbconvert_exporter": "python",
   "pygments_lexer": "ipython3",
   "version": "3.6.4"
  }
 },
 "nbformat": 4,
 "nbformat_minor": 2
}
