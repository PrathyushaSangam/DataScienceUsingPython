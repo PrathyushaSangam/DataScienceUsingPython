{
 "cells": [
  {
   "cell_type": "markdown",
   "metadata": {},
   "source": [
    "## RNN Timeseries Prediction (on a synthetic dataset)\n",
    "**Author: Prathyusha Sangam**\n",
    "\n",
    "**References:**\n",
    "* Textbook: Hands-On Machine Learning with Scikit-Learn and TensorFlow\n",
    "* Python / Tensor Flow documentation\n",
    "\n",
    "### Document Outline\n",
    "* [About the data](#About-the-data)\n",
    "* [Project objective](#Project-objective)\n",
    "* [Step 0: Set up imports](#Step-0:-Set-up-imports)\n",
    "* [Step 1: Read and visualize data](#Step-1:-Read-and-visualize-data)\n",
    "    * [Descriptive Statistics](#Descriptive-Statistics)\n",
    "    * [Visualize x1, x2, y for timesteps t1-100](#Visualize-x1,-x2,-y-for-timesteps-t1-100)\n",
    "* [Step 2: Train-test splits](#Step-2:-Train-test-splits)\n",
    "* [Step 3: Construct computation graph for basic RNN](#Step-3:-Construct-computation-graph-for-basic-RNN)\n",
    "* [Step 4: Generate mini batches](#Step-4:-Generate-mini-batches)\n",
    "* [Step 5: Train the RNN](#Step-5:-Train-the-RNN)\n",
    "* [Step 6: Test RNN for timesteps 81-100](#Step-6:-Test-RNN-for-timesteps-81-100)\n",
    "* [Step 7: Plot of actual and predicted values of y versus time-step t](#Step-7:-Plot-of-actual-and-predicted-values-of-y-versus-time-step-t)\n",
    "\n",
    "### About the data\n",
    "The data used is a synthetic dataset with 100 rows and 3 columns of numbers. The column names are x(1), x(2), y. Each row contains the data for one time step. The time steps (t1, t2, · · · , t100) are equally spaced and are in increasing order as we move down the rows.\n",
    "\n",
    "### Project objective\n",
    "\n",
    "Goal of the project is\n",
    "* To train a Reccurent Neural Network(RNN) using data of time steps t1-t99\n",
    "* To make a prediction for the outputs y81, y82, · · · , y100, using the inputs x81, x82, · · · , x100, where x = (x(1), x(2)) ∈ R^2  (The number of time steps in each sequence of the RNN are to be set to 20.)\n",
    "\n",
    "### Step 0: Set up imports"
   ]
  },
  {
   "cell_type": "code",
   "execution_count": 1,
   "metadata": {},
   "outputs": [],
   "source": [
    "#Data manipulation\n",
    "import numpy as np\n",
    "import pandas as pd\n",
    "import os\n",
    "\n",
    "# Visualization\n",
    "import matplotlib.pyplot as plt\n",
    "\n",
    "#ignore warnings\n",
    "import warnings\n",
    "warnings.filterwarnings('ignore')\n",
    "\n",
    "# allowing multiple/scrollable outputs\n",
    "from IPython.core.interactiveshell import InteractiveShell\n",
    "InteractiveShell.ast_node_interactivity = \"all\"\n",
    "\n",
    "#tensor flow for NN\n",
    "import tensorflow as tf\n",
    "\n",
    "# randomseed (sourced from textbook)\n",
    "def reset_graph(seed=42):\n",
    "    tf.reset_default_graph()\n",
    "    tf.set_random_seed(seed)\n",
    "    np.random.seed(seed)"
   ]
  },
  {
   "cell_type": "markdown",
   "metadata": {},
   "source": [
    "**[Back To Top](#Document-Outline)**\n",
    "\n",
    "### Step 1: Read and visualize data "
   ]
  },
  {
   "cell_type": "code",
   "execution_count": 2,
   "metadata": {},
   "outputs": [],
   "source": [
    "#load data\n",
    "dataset = pd.read_csv(\"Datasets/synthetic_timeseries.csv\")\n",
    "\n",
    "# uncomment to view 1st 5 rows of data\n",
    "# dataset.head()"
   ]
  },
  {
   "cell_type": "markdown",
   "metadata": {},
   "source": [
    "#### Descriptive Statistics\n",
    "\n",
    "* The data provided is a synthetic timeseries, the values of x(1) lie between -1.53 to 1.45, x(2) lie between -0.0007 to 1.3028 and y lie between -2.6283 to 1.1838.\n",
    "* From the histograms we see y appears to be multimodal. we observe that the data overall is noisy.\n"
   ]
  },
  {
   "cell_type": "code",
   "execution_count": 3,
   "metadata": {},
   "outputs": [
    {
     "name": "stdout",
     "output_type": "stream",
     "text": [
      "Descriptive stats:\n"
     ]
    },
    {
     "data": {
      "text/html": [
       "<div>\n",
       "<style scoped>\n",
       "    .dataframe tbody tr th:only-of-type {\n",
       "        vertical-align: middle;\n",
       "    }\n",
       "\n",
       "    .dataframe tbody tr th {\n",
       "        vertical-align: top;\n",
       "    }\n",
       "\n",
       "    .dataframe thead th {\n",
       "        text-align: right;\n",
       "    }\n",
       "</style>\n",
       "<table border=\"1\" class=\"dataframe\">\n",
       "  <thead>\n",
       "    <tr style=\"text-align: right;\">\n",
       "      <th></th>\n",
       "      <th>x(1)</th>\n",
       "      <th>x(2)</th>\n",
       "      <th>y</th>\n",
       "    </tr>\n",
       "  </thead>\n",
       "  <tbody>\n",
       "    <tr>\n",
       "      <th>count</th>\n",
       "      <td>100.000000</td>\n",
       "      <td>100.000000</td>\n",
       "      <td>100.000000</td>\n",
       "    </tr>\n",
       "    <tr>\n",
       "      <th>mean</th>\n",
       "      <td>-0.060695</td>\n",
       "      <td>0.585287</td>\n",
       "      <td>-0.581978</td>\n",
       "    </tr>\n",
       "    <tr>\n",
       "      <th>std</th>\n",
       "      <td>0.776056</td>\n",
       "      <td>0.352430</td>\n",
       "      <td>1.023663</td>\n",
       "    </tr>\n",
       "    <tr>\n",
       "      <th>min</th>\n",
       "      <td>-1.535600</td>\n",
       "      <td>-0.000700</td>\n",
       "      <td>-2.628300</td>\n",
       "    </tr>\n",
       "    <tr>\n",
       "      <th>25%</th>\n",
       "      <td>-0.628700</td>\n",
       "      <td>0.281950</td>\n",
       "      <td>-1.347675</td>\n",
       "    </tr>\n",
       "    <tr>\n",
       "      <th>50%</th>\n",
       "      <td>-0.012950</td>\n",
       "      <td>0.581350</td>\n",
       "      <td>-0.427950</td>\n",
       "    </tr>\n",
       "    <tr>\n",
       "      <th>75%</th>\n",
       "      <td>0.545725</td>\n",
       "      <td>0.852225</td>\n",
       "      <td>0.292650</td>\n",
       "    </tr>\n",
       "    <tr>\n",
       "      <th>max</th>\n",
       "      <td>1.453300</td>\n",
       "      <td>1.302800</td>\n",
       "      <td>1.183800</td>\n",
       "    </tr>\n",
       "  </tbody>\n",
       "</table>\n",
       "</div>"
      ],
      "text/plain": [
       "             x(1)        x(2)           y\n",
       "count  100.000000  100.000000  100.000000\n",
       "mean    -0.060695    0.585287   -0.581978\n",
       "std      0.776056    0.352430    1.023663\n",
       "min     -1.535600   -0.000700   -2.628300\n",
       "25%     -0.628700    0.281950   -1.347675\n",
       "50%     -0.012950    0.581350   -0.427950\n",
       "75%      0.545725    0.852225    0.292650\n",
       "max      1.453300    1.302800    1.183800"
      ]
     },
     "execution_count": 3,
     "metadata": {},
     "output_type": "execute_result"
    },
    {
     "name": "stdout",
     "output_type": "stream",
     "text": [
      "Histograms of the features and target:\n"
     ]
    },
    {
     "data": {
      "image/png": "[encoded data removed]",
      "text/plain": [
       "<matplotlib.figure.Figure at 0x11e443d30>"
      ]
     },
     "metadata": {},
     "output_type": "display_data"
    }
   ],
   "source": [
    "# understanding the data values\n",
    "print(\"Descriptive stats:\")\n",
    "dataset.describe()\n",
    "\n",
    "print(\"Histograms of the features and target:\")\n",
    "_= dataset.hist(layout = (1,3),figsize=(13,3), grid = False)"
   ]
  },
  {
   "cell_type": "markdown",
   "metadata": {},
   "source": [
    "#### Visualize x1, x2, y for timesteps t1-100\n",
    "\n",
    "* From the time-series plots of data we notice that x(1) seems to have some form of exponential growth with reccuring seasonality.\n",
    "* x(2) seems to have very minute (negligible) seasonality between timesteps, but has an overall V shaped trend. There is a continuous dropping trend until timestep 50 and rise from there on.\n",
    "* y seems to have an overall increasing trend upto timestep 60 and seems to be gradually dropping, we observe strong seasonality after timestep 20 which propogates through to the end."
   ]
  },
  {
   "cell_type": "code",
   "execution_count": 4,
   "metadata": {},
   "outputs": [
    {
     "data": {
      "image/png": "[encoded data removed]",
      "text/plain": [
       "<matplotlib.figure.Figure at 0x11e443278>"
      ]
     },
     "metadata": {},
     "output_type": "display_data"
    },
    {
     "data": {
      "image/png": "[encoded data removed]",
      "text/plain": [
       "<matplotlib.figure.Figure at 0x11e71e630>"
      ]
     },
     "metadata": {},
     "output_type": "display_data"
    },
    {
     "data": {
      "image/png": "[encoded data removed]",
      "text/plain": [
       "<matplotlib.figure.Figure at 0x11e72d828>"
      ]
     },
     "metadata": {},
     "output_type": "display_data"
    }
   ],
   "source": [
    "# visualize x(1), x(2), y for timesteps t[i]\n",
    "\n",
    "_= dataset.plot(y='x(1)',marker = 'o', figsize=(13,3), title = 'Visualize x(1), x(2), y for timesteps t[i]')\n",
    "_= dataset.plot(y='x(2)',marker='o', figsize=(13,3),color = 'red')\n",
    "_= dataset.plot(use_index=True, y='y', marker='o', figsize=(13,3), color = 'green')"
   ]
  },
  {
   "cell_type": "markdown",
   "metadata": {},
   "source": [
    "**[Back To Top](#Document-Outline)**\n",
    "\n",
    "### Step 2: Train test splits\n",
    "\n",
    "* X_train - x(1), x(2) of 1 - 99 time steps\n",
    "* X_test - x(1), x(2) of time steps 81-100\n",
    "* y_train - y of 1 - 99 time steps\n",
    "* y_test - y of of time steps 81-100"
   ]
  },
  {
   "cell_type": "code",
   "execution_count": 5,
   "metadata": {},
   "outputs": [],
   "source": [
    "X_train = dataset.iloc[0:99,0:2]\n",
    "y_train = dataset.iloc[0:99,2:3]\n",
    "\n",
    "X_test = dataset.iloc[80:100,0:2]\n",
    "y_test = dataset.iloc[80:100,2:3]\n",
    "\n",
    "#converting the dataframes to arrays\n",
    "\n",
    "X_train = np.c_[X_train]\n",
    "X_test = np.c_[X_test]\n",
    "y_train = np.c_[y_train]\n",
    "y_test = np.c_[y_test]\n",
    "\n",
    "\n",
    "#uncomment to view the arrays\n",
    "# X_train\n",
    "# X_test\n",
    "# y_train\n",
    "# y_test"
   ]
  },
  {
   "cell_type": "markdown",
   "metadata": {},
   "source": [
    "**[Back To Top](#Document-Outline)**\n",
    "\n",
    "### Step 3: Construct computation graph for basic RNN\n",
    "\n",
    "* Computation graph for a BasicRNNCell with 200 neurons, 20 time steps (n steps=20) is constructed.\n",
    "* Learning rate is set to 0.001\n",
    "* Adam Optimizer us used for the optimization process."
   ]
  },
  {
   "cell_type": "code",
   "execution_count": 6,
   "metadata": {},
   "outputs": [],
   "source": [
    "# create RNN with required specifications\n",
    "\n",
    "reset_graph()\n",
    "\n",
    "n_steps = 20\n",
    "n_inputs = 2\n",
    "n_neurons = 200\n",
    "n_outputs = 1\n",
    "\n",
    "X = tf.placeholder(tf.float32, [None, n_steps, n_inputs])\n",
    "y = tf.placeholder(tf.float32, [None, n_steps, n_outputs])\n",
    "\n",
    "\n",
    "# wrap the cell in an OutputProjectionWrapper\n",
    "\n",
    "cell = tf.contrib.rnn.OutputProjectionWrapper(\n",
    "    tf.contrib.rnn.BasicRNNCell(num_units=n_neurons, activation=tf.nn.relu),\n",
    "    output_size=n_outputs)\n",
    "\n",
    "\n",
    "# using dynamic rnn\n",
    "\n",
    "outputs, states = tf.nn.dynamic_rnn(cell, X, dtype=tf.float32)\n",
    "\n",
    "# setting learning rate, loss, AdamOptimizer\n",
    "\n",
    "learning_rate = 0.001\n",
    "loss = tf.reduce_mean(tf.square(outputs - y)) # calculating MSE\n",
    "optimizer = tf.train.AdamOptimizer(learning_rate=learning_rate)\n",
    "training_op = optimizer.minimize(loss)\n",
    "\n",
    "init = tf.global_variables_initializer()"
   ]
  },
  {
   "cell_type": "markdown",
   "metadata": {},
   "source": [
    "**[Back To Top](#Document-Outline)**\n",
    "\n",
    "### Step 4: Generate mini batches\n",
    "\n",
    "* The first time step is generated randomly\n",
    "* A sequence of 20 consecutive timesteps is produced, using the first random step as starting value\n",
    "* X_train and y_train of corresponding timesteps are returned\n"
   ]
  },
  {
   "cell_type": "code",
   "execution_count": 7,
   "metadata": {},
   "outputs": [],
   "source": [
    "# mini batches\n",
    "\n",
    "t_min, t_max = 1, 101\n",
    "\n",
    "def next_batch(X_train, y_train, batch_size, n_steps):\n",
    "    \n",
    "    t0 = (np.random.rand(batch_size, 1) * (t_max - t_min - n_steps)).astype(int) #generate random 1st step\n",
    "    Ts = t0 + np.arange(0, n_steps)  #generate 20 consecutive timesteps \n",
    "#     print(\"t0\", t0)\n",
    "#     print(\"ts\", Ts)\n",
    "    return X_train[Ts], y_train[Ts]\n"
   ]
  },
  {
   "cell_type": "markdown",
   "metadata": {},
   "source": [
    "**[Back To Top](#Document-Outline)**\n",
    "\n",
    "### Step 5: Train the RNN\n",
    "\n",
    "* RNN model is trained by executing the computation graph above using 5000 iterations\n",
    "* For every 100th iteration,the mean squared error of the estimated y values is displayed\n",
    "* The model is saved for future use"
   ]
  },
  {
   "cell_type": "code",
   "execution_count": 8,
   "metadata": {},
   "outputs": [
    {
     "name": "stdout",
     "output_type": "stream",
     "text": [
      "100 \tMSE: 0.9184851\n",
      "200 \tMSE: 0.047079835\n",
      "300 \tMSE: 0.023522697\n",
      "400 \tMSE: 0.010255517\n",
      "500 \tMSE: 0.00694199\n",
      "600 \tMSE: 0.004879759\n",
      "700 \tMSE: 0.0043611345\n",
      "800 \tMSE: 0.0031643177\n",
      "900 \tMSE: 0.0032848879\n",
      "1000 \tMSE: 0.0026039947\n",
      "1100 \tMSE: 0.002989747\n",
      "1200 \tMSE: 0.0028543174\n",
      "1300 \tMSE: 0.0024040905\n",
      "1400 \tMSE: 0.002683673\n",
      "1500 \tMSE: 0.002415355\n",
      "1600 \tMSE: 0.0021001643\n",
      "1700 \tMSE: 0.0024607119\n",
      "1800 \tMSE: 0.0029606994\n",
      "1900 \tMSE: 0.002613655\n",
      "2000 \tMSE: 0.0017338909\n",
      "2100 \tMSE: 0.002210307\n",
      "2200 \tMSE: 0.0021279904\n",
      "2300 \tMSE: 0.002555645\n",
      "2400 \tMSE: 0.0021719967\n",
      "2500 \tMSE: 0.002139188\n",
      "2600 \tMSE: 0.0016189163\n",
      "2700 \tMSE: 0.0016124161\n",
      "2800 \tMSE: 0.002340718\n",
      "2900 \tMSE: 0.002530897\n",
      "3000 \tMSE: 0.0015360217\n",
      "3100 \tMSE: 0.0016772485\n",
      "3200 \tMSE: 0.0023018557\n",
      "3300 \tMSE: 0.0016938968\n",
      "3400 \tMSE: 0.0015774353\n",
      "3500 \tMSE: 0.0018997065\n",
      "3600 \tMSE: 0.0021964975\n",
      "3700 \tMSE: 0.0016038347\n",
      "3800 \tMSE: 0.0012130325\n",
      "3900 \tMSE: 0.0016772986\n",
      "4000 \tMSE: 0.0015150746\n",
      "4100 \tMSE: 0.002039236\n",
      "4200 \tMSE: 0.0017949981\n",
      "4300 \tMSE: 0.001831867\n",
      "4400 \tMSE: 0.0015876841\n",
      "4500 \tMSE: 0.0018183836\n",
      "4600 \tMSE: 0.0020375985\n",
      "4700 \tMSE: 0.0018637894\n",
      "4800 \tMSE: 0.0015748786\n",
      "4900 \tMSE: 0.0017687303\n",
      "5000 \tMSE: 0.0011268437\n"
     ]
    },
    {
     "data": {
      "text/plain": [
       "'./time_series_model'"
      ]
     },
     "execution_count": 8,
     "metadata": {},
     "output_type": "execute_result"
    }
   ],
   "source": [
    "saver = tf.train.Saver()\n",
    "\n",
    "n_iterations = 5000\n",
    "batch_size = 25\n",
    "\n",
    "with tf.Session() as sess:\n",
    "    init.run()\n",
    "    for iteration in range(n_iterations):\n",
    "        X_batch, y_batch = next_batch(X_train, y_train, batch_size, n_steps)\n",
    "        sess.run(training_op, feed_dict={X: X_batch, y: y_batch})\n",
    "        if iteration % 100 == 0:\n",
    "            mse = loss.eval(feed_dict={X: X_batch, y: y_batch})\n",
    "            print(iteration+100, \"\\tMSE:\", mse)\n",
    "    saver.save(sess, \"./time_series_model\")"
   ]
  },
  {
   "cell_type": "markdown",
   "metadata": {},
   "source": [
    "**[Back To Top](#Document-Outline)**\n",
    "\n",
    "### Step 6: Test RNN for timesteps 81-100\n",
    "* The test is run to predict values for y81, y82, · · · , y100 and RMSE is reported for each step (below)\n",
    "* Although the RMSEs seem a bit bigger than expected (especially around timesteps 81-83), the predictions are decent."
   ]
  },
  {
   "cell_type": "code",
   "execution_count": 9,
   "metadata": {},
   "outputs": [
    {
     "name": "stdout",
     "output_type": "stream",
     "text": [
      "INFO:tensorflow:Restoring parameters from ./time_series_model\n"
     ]
    }
   ],
   "source": [
    "#testing\n",
    "with tf.Session() as sess:                       \n",
    "    saver.restore(sess, \"./time_series_model\") \n",
    "\n",
    "    X_new = X_test.reshape(1, n_steps, 2)\n",
    "    y_pred = sess.run(outputs, feed_dict={X: X_new})\n",
    "    "
   ]
  },
  {
   "cell_type": "code",
   "execution_count": 10,
   "metadata": {},
   "outputs": [
    {
     "name": "stdout",
     "output_type": "stream",
     "text": [
      "Time-step 81 : [0.1284384]\n",
      "Time-step 82 : [0.40814868]\n",
      "Time-step 83 : [0.11027378]\n",
      "Time-step 84 : [0.12142115]\n",
      "Time-step 85 : [0.07984757]\n",
      "Time-step 86 : [0.04008665]\n",
      "Time-step 87 : [0.02410948]\n",
      "Time-step 88 : [0.00925969]\n",
      "Time-step 89 : [0.02056716]\n",
      "Time-step 90 : [0.03492946]\n",
      "Time-step 91 : [0.03241293]\n",
      "Time-step 92 : [0.00900709]\n",
      "Time-step 93 : [0.01779404]\n",
      "Time-step 94 : [0.00284858]\n",
      "Time-step 95 : [0.0031849]\n",
      "Time-step 96 : [0.02182991]\n",
      "Time-step 97 : [0.02526128]\n",
      "Time-step 98 : [0.02030559]\n",
      "Time-step 99 : [0.03148962]\n",
      "Time-step 100 : [0.0567505]\n"
     ]
    }
   ],
   "source": [
    "#calculating RMSE  \n",
    "rmse = np.sqrt(np.square(y_pred - y_test))\n",
    "\n",
    "# printing RMSE for timesteps 81-100\n",
    "rmse = rmse.reshape(20,1)\n",
    "for i in range(0,20):\n",
    "    print (\"Time-step\", i+81,\":\", rmse[i])"
   ]
  },
  {
   "cell_type": "markdown",
   "metadata": {},
   "source": [
    "**[Back To Top](#Document-Outline)**\n",
    "\n",
    "### Step 7: Plot of actual and predicted values of y versus time-step t\n",
    "* From the plot below, we notice the predictions of starting and ending timesteps (t100) seem to have more RMSE, compared to the time steps in the middle.\n",
    "* Given that we trained a basic RNN, the results obtained are very good. It is possible to improve the performance by increasing the number of iterations or by using a MultiRNNCell."
   ]
  },
  {
   "cell_type": "code",
   "execution_count": 11,
   "metadata": {},
   "outputs": [
    {
     "data": {
      "image/png": "[encoded data removed]",
      "text/plain": [
       "<matplotlib.figure.Figure at 0x12123ea90>"
      ]
     },
     "metadata": {},
     "output_type": "display_data"
    }
   ],
   "source": [
    "# #reshaping the data for plotting\n",
    "y_pred = pd.DataFrame(y_pred.reshape(20,1))\n",
    "y_test = pd.DataFrame(y_test.reshape(20,1))\n",
    "\n",
    "y_pred = y_pred.set_index([[81,82,83,84,85,86,87,88,89,90,91,92,93,94,95,96,97,98,99,100]])\n",
    "y_test = y_test.set_index([[81,82,83,84,85,86,87,88,89,90,91,92,93,94,95,96,97,98,99,100]])\n",
    "\n",
    "#plotting\n",
    "_= plt.title(\"Testing the model\", fontsize=14)\n",
    "_=  plt.plot(y_pred[0], \"*\", markersize=10, label=\"predicted\")\n",
    "_=  plt.plot(y_test[0], \".\", markersize=10, label=\"actual\")\n",
    "_=  plt.legend(loc=\"bottom left\")\n",
    "_=  plt.xlabel(\"Time step\")\n",
    "_= plt.xticks([80,85,90,95,100]) \n",
    "plt.show()"
   ]
  },
  {
   "cell_type": "markdown",
   "metadata": {},
   "source": [
    "**[Back To Top](#Document-Outline)**"
   ]
  }
 ],
 "metadata": {
  "kernelspec": {
   "display_name": "Python 3",
   "language": "python",
   "name": "python3"
  },
  "language_info": {
   "codemirror_mode": {
    "name": "ipython",
    "version": 3
   },
   "file_extension": ".py",
   "mimetype": "text/x-python",
   "name": "python",
   "nbconvert_exporter": "python",
   "pygments_lexer": "ipython3",
   "version": "3.6.4"
  }
 },
 "nbformat": 4,
 "nbformat_minor": 2
}
