{
 "cells": [
  {
   "cell_type": "markdown",
   "metadata": {},
   "source": [
    "## Predicting the age of Abalone using SVM and Random Forest Regressor\n",
    "**Author: Prathyusha Sangam**\n",
    "\n",
    "### Document Outline\n",
    "* [About the data](#About-the-data)\n",
    "* [Project objective](#Project-objective)\n",
    "* [Step 1: Set up imports](#Step-1:-Set-up-imports)\n",
    "* [Step 2: Load and Inspect Data](#Step-2:-Load-and-Inspect-Data)\n",
    "    * [Visualization: Inspect the data for correlations](#Visualization:-Inspect-the-data-for-correlations)\n",
    "    * [Findings from correlation inspection](#Findings-from-correlation-inspection)\n",
    "    * [Expected challenge](#Expected-challenge)\n",
    "* [Step 3: Data Cleaning](#Step-3:-Data-Cleaning)\n",
    "* [Step 4: Train Test Splits and Data Normalization](#Step-4:-Train-Test-Splits-and-Data-Normalization)\n",
    "* [Step 5: Random Forest Regressor](#Step-5:-Random-Forest-Regressor)\n",
    "* [Step 6: Fine tuning Hyperparameters of Random Forest Regressor using GridSearchCV](#Step-6:-Fine-tuning-Hyper-parameters-of-Random-Forest-Regressor-using-GridSearchCV)\n",
    "* [Step 7: Ordering feature importances](#Step-7:-Ordering-feature-importances)\n",
    "    * [Summarizing the results of Random Forest Regressor and hyperparameter tuning (step-5,6,7)](#Summarizing-the-results-of-Random-Forest-Regressor-and--hyperparameter-tuning-(step-5,6,7))\n",
    "* [Step 8: Retraining RF-regressor using best hyperparameters and important features](#Step-8:-Retraining-RF-regressor-using-best-hyperparameters-and-important-features)\n",
    "    * [Analysing the RF regressor using best hyperparameters and important features](#Analysing--the-RF-regressor-using-best-hyperparameters-and-important-features)\n",
    "    * [Analysis of plots of Actual vs Predicted values](#Analysis-of-plots-of-Actual-vs-Predicted-values)\n",
    "* [Step 9:SVM Regressor with RBF Kernel](#Step-9:-SVM-Regressor-with-RBF-Kernel)\n",
    "* [Step 10: Logistic regressor](#Step-10:-Logistic-regressor)\n",
    "* [Step 11: Conclusion](#Step-11:-Conclusion)\n",
    "\n",
    "### About the data\n",
    "**Abalone Data Set:** The data is obtained from UCI repository, originally contributed by Department of Primary Industry and Fisheries, Tasmania and The University of Tasmania. This labelled dataset contains various physical attributes of abalone (sea snails), which could be used to predict their age.\n",
    "\n",
    "**Attributes:**\n",
    "* Sex (Male /Female /Infant)\n",
    "* Length (in mm)\n",
    "* Diameter (in mm)\n",
    "* Height (in mm)\n",
    "* Whole weight (in gm)\n",
    "* Shucked weight (in gm)\n",
    "* Viscera weight (in gm)\n",
    "* Shell weight (in gm)\n",
    "* Rings (number)\n",
    "\n",
    "Age in years is defined by Number of Rings+1.5\n",
    "\n",
    "### Project objective\n",
    "* Train machine learning regressors to predict the number of rings, given the physical attributes of abalone.\n",
    "* Techniques used: Random forest regressor, SVM regressor with a RBF kernel, logistic regressor\n",
    "* Compare the performance of the techniques used\n",
    "\n",
    "### Step 1: Set up imports"
   ]
  },
  {
   "cell_type": "code",
   "execution_count": 1,
   "metadata": {},
   "outputs": [],
   "source": [
    "#Data manipulation\n",
    "import pandas as pd\n",
    "import numpy as np\n",
    "\n",
    "# Visualization\n",
    "import matplotlib.pyplot as plt\n",
    "import seaborn as sns\n",
    "\n",
    "#ignore warnings\n",
    "import warnings\n",
    "warnings.filterwarnings('ignore')\n",
    "\n",
    "# allowing multiple/scrollable outputs\n",
    "from IPython.core.interactiveshell import InteractiveShell\n",
    "InteractiveShell.ast_node_interactivity = \"all\""
   ]
  },
  {
   "cell_type": "markdown",
   "metadata": {},
   "source": [
    "### Step 2: Load and Inspect Data"
   ]
  },
  {
   "cell_type": "code",
   "execution_count": 2,
   "metadata": {},
   "outputs": [],
   "source": [
    "#load data\n",
    "abalone = pd.read_csv(\"Datasets/abalone.data\", sep = ',',header=None)\n",
    "\n",
    "#assign column names\n",
    "abalone.columns=['sex','length','diameter','height','whole_weight',\n",
    "                 'shucked_weight','viscera_weight','shell_weight','rings']\n"
   ]
  },
  {
   "cell_type": "code",
   "execution_count": 3,
   "metadata": {},
   "outputs": [
    {
     "data": {
      "text/html": [
       "<div>\n",
       "<style scoped>\n",
       "    .dataframe tbody tr th:only-of-type {\n",
       "        vertical-align: middle;\n",
       "    }\n",
       "\n",
       "    .dataframe tbody tr th {\n",
       "        vertical-align: top;\n",
       "    }\n",
       "\n",
       "    .dataframe thead th {\n",
       "        text-align: right;\n",
       "    }\n",
       "</style>\n",
       "<table border=\"1\" class=\"dataframe\">\n",
       "  <thead>\n",
       "    <tr style=\"text-align: right;\">\n",
       "      <th></th>\n",
       "      <th>sex</th>\n",
       "      <th>length</th>\n",
       "      <th>diameter</th>\n",
       "      <th>height</th>\n",
       "      <th>whole_weight</th>\n",
       "      <th>shucked_weight</th>\n",
       "      <th>viscera_weight</th>\n",
       "      <th>shell_weight</th>\n",
       "      <th>rings</th>\n",
       "    </tr>\n",
       "  </thead>\n",
       "  <tbody>\n",
       "    <tr>\n",
       "      <th>0</th>\n",
       "      <td>M</td>\n",
       "      <td>0.455</td>\n",
       "      <td>0.365</td>\n",
       "      <td>0.095</td>\n",
       "      <td>0.5140</td>\n",
       "      <td>0.2245</td>\n",
       "      <td>0.1010</td>\n",
       "      <td>0.150</td>\n",
       "      <td>15</td>\n",
       "    </tr>\n",
       "    <tr>\n",
       "      <th>1</th>\n",
       "      <td>M</td>\n",
       "      <td>0.350</td>\n",
       "      <td>0.265</td>\n",
       "      <td>0.090</td>\n",
       "      <td>0.2255</td>\n",
       "      <td>0.0995</td>\n",
       "      <td>0.0485</td>\n",
       "      <td>0.070</td>\n",
       "      <td>7</td>\n",
       "    </tr>\n",
       "    <tr>\n",
       "      <th>2</th>\n",
       "      <td>F</td>\n",
       "      <td>0.530</td>\n",
       "      <td>0.420</td>\n",
       "      <td>0.135</td>\n",
       "      <td>0.6770</td>\n",
       "      <td>0.2565</td>\n",
       "      <td>0.1415</td>\n",
       "      <td>0.210</td>\n",
       "      <td>9</td>\n",
       "    </tr>\n",
       "    <tr>\n",
       "      <th>3</th>\n",
       "      <td>M</td>\n",
       "      <td>0.440</td>\n",
       "      <td>0.365</td>\n",
       "      <td>0.125</td>\n",
       "      <td>0.5160</td>\n",
       "      <td>0.2155</td>\n",
       "      <td>0.1140</td>\n",
       "      <td>0.155</td>\n",
       "      <td>10</td>\n",
       "    </tr>\n",
       "    <tr>\n",
       "      <th>4</th>\n",
       "      <td>I</td>\n",
       "      <td>0.330</td>\n",
       "      <td>0.255</td>\n",
       "      <td>0.080</td>\n",
       "      <td>0.2050</td>\n",
       "      <td>0.0895</td>\n",
       "      <td>0.0395</td>\n",
       "      <td>0.055</td>\n",
       "      <td>7</td>\n",
       "    </tr>\n",
       "  </tbody>\n",
       "</table>\n",
       "</div>"
      ],
      "text/plain": [
       "  sex  length  diameter  height  whole_weight  shucked_weight  viscera_weight  \\\n",
       "0   M   0.455     0.365   0.095        0.5140          0.2245          0.1010   \n",
       "1   M   0.350     0.265   0.090        0.2255          0.0995          0.0485   \n",
       "2   F   0.530     0.420   0.135        0.6770          0.2565          0.1415   \n",
       "3   M   0.440     0.365   0.125        0.5160          0.2155          0.1140   \n",
       "4   I   0.330     0.255   0.080        0.2050          0.0895          0.0395   \n",
       "\n",
       "   shell_weight  rings  \n",
       "0         0.150     15  \n",
       "1         0.070      7  \n",
       "2         0.210      9  \n",
       "3         0.155     10  \n",
       "4         0.055      7  "
      ]
     },
     "execution_count": 3,
     "metadata": {},
     "output_type": "execute_result"
    },
    {
     "data": {
      "text/plain": [
       "(4177, 9)"
      ]
     },
     "execution_count": 3,
     "metadata": {},
     "output_type": "execute_result"
    }
   ],
   "source": [
    "#inspecting how data looks like\n",
    "abalone.head()\n",
    "abalone.shape\n",
    "#abalone.info()"
   ]
  },
  {
   "cell_type": "markdown",
   "metadata": {},
   "source": [
    "### Visualization: Inspect the data for correlations\n",
    "To understand the correlation between 'rings' vs the physical attributes of abalone, we plot scatterplots as below"
   ]
  },
  {
   "cell_type": "code",
   "execution_count": 4,
   "metadata": {},
   "outputs": [
    {
     "data": {
      "image/png": "[encoded data removed]",
      "text/plain": [
       "<matplotlib.figure.Figure at 0x11030b470>"
      ]
     },
     "metadata": {},
     "output_type": "display_data"
    }
   ],
   "source": [
    "# plotting Physical Features of Abalone vs Number of Rings\n",
    "\n",
    "f, ((ax1, ax2, ax3, ax4),(ax5 , ax6 , ax7, ax8)) = plt.subplots(2, 4, sharey='row')\n",
    "_= f.suptitle('Physical Features of Abalone vs Number of Rings');\n",
    "\n",
    "_= ax1.scatter(x=abalone.length,y=abalone.rings)\n",
    "_= ax1.set_title(\"length\");\n",
    "_= ax2.scatter(x=abalone.diameter,y=abalone.rings)\n",
    "_= ax2.set_title(\"diameter\");\n",
    "_= ax3.scatter(x=abalone.height,y=abalone.rings)\n",
    "_= ax3.set_title(\"height\");\n",
    "_= ax4.scatter(x=abalone.whole_weight,y=abalone.rings)\n",
    "_= ax4.set_title(\"whole weight\");\n",
    "_= ax5.scatter(x=abalone.shucked_weight,y=abalone.rings)\n",
    "_= ax5.set_title(\"shucked weight\");\n",
    "_= ax6.scatter(x=abalone.viscera_weight,y=abalone.rings)\n",
    "_= ax6.set_title(\"viscera weight\");\n",
    "_=ax7.scatter(x=abalone.shell_weight,y=abalone.rings)\n",
    "_= ax7.set_title(\"shell weight\");\n",
    "_=ax8.scatter(x=abalone.sex,y=abalone.rings)\n",
    "_= ax8.set_title(\"sex\");\n",
    "\n",
    "f.set_figheight(9)\n",
    "f.set_figwidth(15)\n",
    "f.subplots_adjust(hspace=0.3)"
   ]
  },
  {
   "cell_type": "markdown",
   "metadata": {},
   "source": [
    "### Findings from correlation inspection\n",
    "* From the scatterplots, we notice that there is no strong relationship between 'rings' and the physical features of abalone.\n",
    "* There is a weak positive correlation with respect to length, diameter, and weights, however most samples seem concerated around their means.\n",
    "* Height has no relationship with rings. Some obvious findings are: infants have lesser number of rings.\n",
    "\n",
    "### Expected challenge\n",
    "Since we are performing regression and using data with low correlation, we may not be able to achieve very high performance.\n",
    "\n",
    "### Step 3: Data Cleaning\n",
    "* Ring values 1, 2, and 3 have very small numbers of instances. **Decision: Group 1-3 into 3.**\n",
    "* Similarly, small number of instances in Ring values 23-29 are seen. **Decision: group 23-29 into 23.**\n",
    "* Remap the entries in the “sex” column to numerical values. **Decision: Male =0, Female =1, Infant =2 **"
   ]
  },
  {
   "cell_type": "code",
   "execution_count": 5,
   "metadata": {},
   "outputs": [
    {
     "data": {
      "text/plain": [
       "Text(0.5,1,'Disproportionate distribution of ring values')"
      ]
     },
     "execution_count": 5,
     "metadata": {},
     "output_type": "execute_result"
    },
    {
     "data": {
      "image/png": "[encoded data removed]",
      "text/plain": [
       "<matplotlib.figure.Figure at 0x109e4c518>"
      ]
     },
     "metadata": {},
     "output_type": "display_data"
    }
   ],
   "source": [
    "# Class distributions\n",
    "sns.countplot('rings',data= abalone).set_title('Disproportionate distribution of ring values')"
   ]
  },
  {
   "cell_type": "code",
   "execution_count": 6,
   "metadata": {},
   "outputs": [],
   "source": [
    "#replace class values with small number of instances\n",
    "\n",
    "abalone['rings'] = abalone['rings'].replace([1,2],3)\n",
    "abalone['rings'] = abalone['rings'].replace([24,25,26,27,28,29],23)\n",
    "\n",
    "#Remap the entries in the “sex” column to numerical values\n",
    "\n",
    "abalone['sex'] = abalone['sex'].map( {'M': 0,'F': 1,'I': 2 } ).astype(int)\n",
    "#can also use .replace for this"
   ]
  },
  {
   "cell_type": "markdown",
   "metadata": {},
   "source": [
    "### Step 4: Train-Test Splits and Data Normalization\n",
    "\n",
    "Before performing the regression task, we will make Train Test splits in 80:20 ratio (industry recommended). Since there are huge variations in number of samples of each category, we can perform stratified sampling.\n",
    "\n",
    "Naming convention of the train-test splits:\n",
    "* X_train: Training data frame containing features - without target values\n",
    "* y_train: Target values for training\n",
    "* X_test: Testing data frame containing features - without targets values\n",
    "* y_test: Original data target values of test data\n"
   ]
  },
  {
   "cell_type": "code",
   "execution_count": 7,
   "metadata": {},
   "outputs": [],
   "source": [
    "#Separating X and y from original dataframe\n",
    "\n",
    "X = abalone.drop('rings',axis=1)\n",
    "y = abalone['rings']\n",
    "\n",
    "# uncomment to inspect the columns chosen\n",
    "# X.head()\n",
    "# y.head()\n",
    "\n",
    "#Test train splits\n",
    "\n",
    "from sklearn.model_selection import train_test_split\n",
    "\n",
    "X_train, X_test, y_train, y_test = train_test_split(X, y,\n",
    "                                                    stratify=y, \n",
    "                                                    test_size=0.2, random_state = 42)\n",
    "\n",
    "# Feature scaling using Standard scaler\n",
    "\n",
    "from sklearn.preprocessing import StandardScaler\n",
    "scaler = StandardScaler()\n",
    "\n",
    "X_train = scaler.fit_transform(X_train)\n",
    "X_test = scaler.transform(X_test)\n"
   ]
  },
  {
   "cell_type": "markdown",
   "metadata": {},
   "source": [
    "***A note about scaling of the target values (y):\n",
    "We know feature scaling improves convergence, but scaling of target values is not necessary. However, if we scale the target values, the root mean squared error is automatically scaled and wouldn't represent the true scale of target values, giving an impression of a smaller error. This is why R^2 (coefficient of determination) is the default performance measure of all regressors in SciKit learn. Since we are to use RMSE as our performance measure in this labsheet, I have mentioned this note, to avoid any misunderstanding about larger/smaller RMSEs obtained in comparison other students. ***\n",
    "\n",
    "### Step 5: Random Forest Regressor\n",
    "In this step we define a baseline model of a Random Forest Regressor.5-fold cross validation used on training set. Hyperparameter consideration for baseline model is as follows:\n",
    "* max features=1.0 for using 100% of all attributes\n",
    "* n_estimators = 100 \n",
    "\n",
    "Note: Random Forest Regressor's score() function returns R^2 value (coefficient of determination) by default. For evaluating the performance of regressors using RMSE, it must be computed from 'mean squared error."
   ]
  },
  {
   "cell_type": "code",
   "execution_count": 8,
   "metadata": {},
   "outputs": [
    {
     "data": {
      "text/plain": [
       "RandomForestRegressor(bootstrap=True, criterion='mse', max_depth=None,\n",
       "           max_features=1.0, max_leaf_nodes=None,\n",
       "           min_impurity_decrease=0.0, min_impurity_split=None,\n",
       "           min_samples_leaf=1, min_samples_split=2,\n",
       "           min_weight_fraction_leaf=0.0, n_estimators=100, n_jobs=1,\n",
       "           oob_score=False, random_state=42, verbose=0, warm_start=False)"
      ]
     },
     "execution_count": 8,
     "metadata": {},
     "output_type": "execute_result"
    }
   ],
   "source": [
    "#Define the RF regressor - Baseline model\n",
    "from sklearn.ensemble import RandomForestRegressor\n",
    "baseline_rf = RandomForestRegressor(random_state=42, max_features=1.0, n_estimators=100)\n",
    "\n",
    "# Train the RF regressor\n",
    "baseline_rf.fit(X_train,y_train)\n"
   ]
  },
  {
   "cell_type": "code",
   "execution_count": 9,
   "metadata": {},
   "outputs": [
    {
     "name": "stdout",
     "output_type": "stream",
     "text": [
      "Baseline RMSEs on Train [2.17331946 2.26880376 1.96204983 2.05935092 2.28711039]\n",
      "Baseline RMSE on Test 2.159755684614554\n"
     ]
    }
   ],
   "source": [
    "# Reporting RMSE using cross validation with 5 folds\n",
    "\n",
    "#For training set\n",
    "from sklearn.metrics import mean_squared_error\n",
    "from sklearn.model_selection import cross_val_score\n",
    "from math import sqrt\n",
    "\n",
    "baseline_mse = cross_val_score(baseline_rf, X_train, y_train, cv=5,n_jobs=1,scoring='neg_mean_squared_error')\n",
    "\n",
    "baseline_rmse_train = baseline_mse\n",
    "\n",
    "for i in range(0,len(baseline_mse)):\n",
    "    baseline_rmse_train[i]= sqrt(abs(baseline_mse[i]))\n",
    "\n",
    "\n",
    "print('Baseline RMSEs on Train', baseline_rmse_train)\n",
    "\n",
    "#For testing set\n",
    "baseline_rf_pred = baseline_rf.predict(X_test)\n",
    "baseline_rmse_test = sqrt(mean_squared_error(y_test, baseline_rf_pred))\n",
    "print('Baseline RMSE on Test', baseline_rmse_test)\n",
    "\n"
   ]
  },
  {
   "cell_type": "code",
   "execution_count": 10,
   "metadata": {},
   "outputs": [
    {
     "name": "stdout",
     "output_type": "stream",
     "text": [
      "Baseline R^2 on Test 0.5367264935310023\n"
     ]
    }
   ],
   "source": [
    "#R2 of test\n",
    "baseline_r2_test = baseline_rf.score(X_test,y_test)\n",
    "print('Baseline R^2 on Test', baseline_r2_test)"
   ]
  },
  {
   "cell_type": "markdown",
   "metadata": {},
   "source": [
    "### Step 6: Fine-tuning Hyper-parameters of Random Forest Regressor using GridSearchCV"
   ]
  },
  {
   "cell_type": "code",
   "execution_count": 11,
   "metadata": {},
   "outputs": [],
   "source": [
    "from sklearn.model_selection import GridSearchCV\n",
    "\n",
    "# Create the parameter grid based on the results of random search \n",
    "param_grid = {\n",
    "    'max_depth': [20, 10, 8],\n",
    "    'min_samples_leaf': [2, 3, 4],\n",
    "    'min_samples_split': [2, 5, 10]\n",
    "}\n",
    "\n",
    "# Instantiate the grid search model\n",
    "grid_search = GridSearchCV(estimator = baseline_rf, param_grid = param_grid, \n",
    "                          cv = 3, n_jobs = -1, verbose = 2, scoring='neg_mean_squared_error')\n"
   ]
  },
  {
   "cell_type": "code",
   "execution_count": 12,
   "metadata": {},
   "outputs": [
    {
     "name": "stdout",
     "output_type": "stream",
     "text": [
      "Fitting 3 folds for each of 27 candidates, totalling 81 fits\n",
      "[CV] max_depth=20, min_samples_leaf=2, min_samples_split=2 ...........\n",
      "[CV] max_depth=20, min_samples_leaf=2, min_samples_split=2 ...........\n",
      "[CV] max_depth=20, min_samples_leaf=2, min_samples_split=2 ...........\n",
      "[CV] max_depth=20, min_samples_leaf=2, min_samples_split=5 ...........\n",
      "[CV]  max_depth=20, min_samples_leaf=2, min_samples_split=5, total=   1.6s\n",
      "[CV] max_depth=20, min_samples_leaf=2, min_samples_split=5 ...........\n",
      "[CV]  max_depth=20, min_samples_leaf=2, min_samples_split=2, total=   1.7s\n",
      "[CV] max_depth=20, min_samples_leaf=2, min_samples_split=5 ...........\n",
      "[CV]  max_depth=20, min_samples_leaf=2, min_samples_split=2, total=   1.8s\n",
      "[CV] max_depth=20, min_samples_leaf=2, min_samples_split=10 ..........\n",
      "[CV]  max_depth=20, min_samples_leaf=2, min_samples_split=2, total=   1.9s\n",
      "[CV] max_depth=20, min_samples_leaf=2, min_samples_split=10 ..........\n",
      "[CV]  max_depth=20, min_samples_leaf=2, min_samples_split=5, total=   1.7s\n",
      "[CV] max_depth=20, min_samples_leaf=2, min_samples_split=10 ..........\n",
      "[CV]  max_depth=20, min_samples_leaf=2, min_samples_split=10, total=   1.4s\n",
      "[CV] max_depth=20, min_samples_leaf=3, min_samples_split=2 ...........\n",
      "[CV]  max_depth=20, min_samples_leaf=2, min_samples_split=10, total=   1.6s\n",
      "[CV] max_depth=20, min_samples_leaf=3, min_samples_split=2 ...........\n",
      "[CV]  max_depth=20, min_samples_leaf=2, min_samples_split=5, total=   1.8s\n",
      "[CV] max_depth=20, min_samples_leaf=3, min_samples_split=2 ...........\n",
      "[CV]  max_depth=20, min_samples_leaf=3, min_samples_split=2, total=   1.4s\n",
      "[CV] max_depth=20, min_samples_leaf=3, min_samples_split=5 ...........\n",
      "[CV]  max_depth=20, min_samples_leaf=2, min_samples_split=10, total=   1.5s\n",
      "[CV] max_depth=20, min_samples_leaf=3, min_samples_split=5 ...........\n",
      "[CV]  max_depth=20, min_samples_leaf=3, min_samples_split=2, total=   1.5s\n",
      "[CV]  max_depth=20, min_samples_leaf=3, min_samples_split=2, total=   1.5s\n",
      "[CV] max_depth=20, min_samples_leaf=3, min_samples_split=10 ..........\n",
      "[CV] max_depth=20, min_samples_leaf=3, min_samples_split=5 ...........\n",
      "[CV]  max_depth=20, min_samples_leaf=3, min_samples_split=5, total=   1.4s\n",
      "[CV] max_depth=20, min_samples_leaf=3, min_samples_split=10 ..........\n",
      "[CV]  max_depth=20, min_samples_leaf=3, min_samples_split=5, total=   1.5s\n",
      "[CV] max_depth=20, min_samples_leaf=3, min_samples_split=10 ..........\n",
      "[CV]  max_depth=20, min_samples_leaf=3, min_samples_split=10, total=   1.4s\n",
      "[CV] max_depth=20, min_samples_leaf=4, min_samples_split=2 ...........\n",
      "[CV]  max_depth=20, min_samples_leaf=3, min_samples_split=5, total=   1.4s\n",
      "[CV] max_depth=20, min_samples_leaf=4, min_samples_split=2 ...........\n",
      "[CV]  max_depth=20, min_samples_leaf=3, min_samples_split=10, total=   1.4s\n",
      "[CV] max_depth=20, min_samples_leaf=4, min_samples_split=2 ...........\n",
      "[CV]  max_depth=20, min_samples_leaf=3, min_samples_split=10, total=   1.4s\n",
      "[CV] max_depth=20, min_samples_leaf=4, min_samples_split=5 ...........\n",
      "[CV]  max_depth=20, min_samples_leaf=4, min_samples_split=2, total=   1.3s\n",
      "[CV] max_depth=20, min_samples_leaf=4, min_samples_split=5 ...........\n",
      "[CV]  max_depth=20, min_samples_leaf=4, min_samples_split=2, total=   1.3s\n",
      "[CV] max_depth=20, min_samples_leaf=4, min_samples_split=5 ...........\n",
      "[CV]  max_depth=20, min_samples_leaf=4, min_samples_split=2, total=   1.3s\n",
      "[CV] max_depth=20, min_samples_leaf=4, min_samples_split=10 ..........\n",
      "[CV]  max_depth=20, min_samples_leaf=4, min_samples_split=5, total=   1.3s\n",
      "[CV] max_depth=20, min_samples_leaf=4, min_samples_split=10 ..........\n",
      "[CV]  max_depth=20, min_samples_leaf=4, min_samples_split=5, total=   1.3s\n",
      "[CV] max_depth=20, min_samples_leaf=4, min_samples_split=10 ..........\n",
      "[CV]  max_depth=20, min_samples_leaf=4, min_samples_split=5, total=   1.3s\n",
      "[CV] max_depth=10, min_samples_leaf=2, min_samples_split=2 ...........\n",
      "[CV]  max_depth=20, min_samples_leaf=4, min_samples_split=10, total=   1.3s\n",
      "[CV] max_depth=10, min_samples_leaf=2, min_samples_split=2 ...........\n",
      "[CV]  max_depth=20, min_samples_leaf=4, min_samples_split=10, total=   1.3s\n",
      "[CV] max_depth=10, min_samples_leaf=2, min_samples_split=2 ...........\n",
      "[CV]  max_depth=20, min_samples_leaf=4, min_samples_split=10, total=   1.4s\n",
      "[CV]  max_depth=10, min_samples_leaf=2, min_samples_split=2, total=   1.3s\n",
      "[CV] max_depth=10, min_samples_leaf=2, min_samples_split=5 ...........\n",
      "[CV] max_depth=10, min_samples_leaf=2, min_samples_split=5 ...........\n",
      "[CV]  max_depth=10, min_samples_leaf=2, min_samples_split=2, total=   1.4s\n",
      "[CV] max_depth=10, min_samples_leaf=2, min_samples_split=5 ...........\n",
      "[CV]  max_depth=10, min_samples_leaf=2, min_samples_split=2, total=   1.5s\n",
      "[CV] max_depth=10, min_samples_leaf=2, min_samples_split=10 ..........\n",
      "[CV]  max_depth=10, min_samples_leaf=2, min_samples_split=5, total=   1.5s\n",
      "[CV] max_depth=10, min_samples_leaf=2, min_samples_split=10 ..........\n",
      "[CV]  max_depth=10, min_samples_leaf=2, min_samples_split=5, total=   1.5s\n",
      "[CV] max_depth=10, min_samples_leaf=2, min_samples_split=10 ..........\n",
      "[CV]  max_depth=10, min_samples_leaf=2, min_samples_split=10, total=   1.1s\n",
      "[CV] max_depth=10, min_samples_leaf=3, min_samples_split=2 ...........\n",
      "[CV]  max_depth=10, min_samples_leaf=2, min_samples_split=5, total=   1.2s\n",
      "[CV] max_depth=10, min_samples_leaf=3, min_samples_split=2 ...........\n",
      "[CV]  max_depth=10, min_samples_leaf=2, min_samples_split=10, total=   1.2s\n",
      "[CV] max_depth=10, min_samples_leaf=3, min_samples_split=2 ...........\n",
      "[CV]  max_depth=10, min_samples_leaf=2, min_samples_split=10, total=   1.2s\n",
      "[CV] max_depth=10, min_samples_leaf=3, min_samples_split=5 ...........\n"
     ]
    },
    {
     "name": "stderr",
     "output_type": "stream",
     "text": [
      "[Parallel(n_jobs=-1)]: Done  33 tasks      | elapsed:   13.6s\n"
     ]
    },
    {
     "name": "stdout",
     "output_type": "stream",
     "text": [
      "[CV]  max_depth=10, min_samples_leaf=3, min_samples_split=2, total=   1.5s\n",
      "[CV] max_depth=10, min_samples_leaf=3, min_samples_split=5 ...........\n",
      "[CV]  max_depth=10, min_samples_leaf=3, min_samples_split=2, total=   1.6s\n",
      "[CV] max_depth=10, min_samples_leaf=3, min_samples_split=5 ...........\n",
      "[CV]  max_depth=10, min_samples_leaf=3, min_samples_split=5, total=   1.8s\n",
      "[CV]  max_depth=10, min_samples_leaf=3, min_samples_split=2, total=   1.9s\n",
      "[CV] max_depth=10, min_samples_leaf=3, min_samples_split=10 ..........\n",
      "[CV] max_depth=10, min_samples_leaf=3, min_samples_split=10 ..........\n",
      "[CV]  max_depth=10, min_samples_leaf=3, min_samples_split=5, total=   1.5s\n",
      "[CV] max_depth=10, min_samples_leaf=3, min_samples_split=10 ..........\n",
      "[CV]  max_depth=10, min_samples_leaf=3, min_samples_split=10, total=   1.2s\n",
      "[CV] max_depth=10, min_samples_leaf=4, min_samples_split=2 ...........\n",
      "[CV]  max_depth=10, min_samples_leaf=3, min_samples_split=5, total=   1.3s\n",
      "[CV] max_depth=10, min_samples_leaf=4, min_samples_split=2 ...........\n",
      "[CV]  max_depth=10, min_samples_leaf=3, min_samples_split=10, total=   1.2s\n",
      "[CV] max_depth=10, min_samples_leaf=4, min_samples_split=2 ...........\n",
      "[CV]  max_depth=10, min_samples_leaf=3, min_samples_split=10, total=   1.1s\n",
      "[CV] max_depth=10, min_samples_leaf=4, min_samples_split=5 ...........\n",
      "[CV]  max_depth=10, min_samples_leaf=4, min_samples_split=2, total=   1.2s\n",
      "[CV] max_depth=10, min_samples_leaf=4, min_samples_split=5 ...........\n",
      "[CV]  max_depth=10, min_samples_leaf=4, min_samples_split=2, total=   1.1s\n",
      "[CV] max_depth=10, min_samples_leaf=4, min_samples_split=5 ...........\n",
      "[CV]  max_depth=10, min_samples_leaf=4, min_samples_split=2, total=   1.2s\n",
      "[CV] max_depth=10, min_samples_leaf=4, min_samples_split=10 ..........\n",
      "[CV]  max_depth=10, min_samples_leaf=4, min_samples_split=5, total=   1.2s\n",
      "[CV] max_depth=10, min_samples_leaf=4, min_samples_split=10 ..........\n",
      "[CV]  max_depth=10, min_samples_leaf=4, min_samples_split=5, total=   1.2s\n",
      "[CV] max_depth=10, min_samples_leaf=4, min_samples_split=10 ..........\n",
      "[CV]  max_depth=10, min_samples_leaf=4, min_samples_split=5, total=   1.2s\n",
      "[CV] max_depth=8, min_samples_leaf=2, min_samples_split=2 ............\n",
      "[CV]  max_depth=10, min_samples_leaf=4, min_samples_split=10, total=   1.2s\n",
      "[CV] max_depth=8, min_samples_leaf=2, min_samples_split=2 ............\n",
      "[CV]  max_depth=8, min_samples_leaf=2, min_samples_split=2, total=   1.0s\n",
      "[CV] max_depth=8, min_samples_leaf=2, min_samples_split=2 ............\n",
      "[CV]  max_depth=10, min_samples_leaf=4, min_samples_split=10, total=   1.2s\n",
      "[CV] max_depth=8, min_samples_leaf=2, min_samples_split=5 ............\n",
      "[CV]  max_depth=8, min_samples_leaf=2, min_samples_split=2, total=   1.2s\n",
      "[CV] max_depth=8, min_samples_leaf=2, min_samples_split=5 ............\n",
      "[CV]  max_depth=10, min_samples_leaf=4, min_samples_split=10, total=   1.2s\n",
      "[CV] max_depth=8, min_samples_leaf=2, min_samples_split=5 ............\n",
      "[CV]  max_depth=8, min_samples_leaf=2, min_samples_split=2, total=   1.1s\n",
      "[CV] max_depth=8, min_samples_leaf=2, min_samples_split=10 ...........\n",
      "[CV]  max_depth=8, min_samples_leaf=2, min_samples_split=5, total=   1.1s\n",
      "[CV] max_depth=8, min_samples_leaf=2, min_samples_split=10 ...........\n",
      "[CV]  max_depth=8, min_samples_leaf=2, min_samples_split=5, total=   1.1s\n",
      "[CV] max_depth=8, min_samples_leaf=2, min_samples_split=10 ...........\n",
      "[CV]  max_depth=8, min_samples_leaf=2, min_samples_split=5, total=   1.2s\n",
      "[CV] max_depth=8, min_samples_leaf=3, min_samples_split=2 ............\n",
      "[CV]  max_depth=8, min_samples_leaf=2, min_samples_split=10, total=   1.1s\n",
      "[CV] max_depth=8, min_samples_leaf=3, min_samples_split=2 ............\n",
      "[CV]  max_depth=8, min_samples_leaf=2, min_samples_split=10, total=   1.1s\n",
      "[CV]  max_depth=8, min_samples_leaf=2, min_samples_split=10, total=   1.2s\n",
      "[CV] max_depth=8, min_samples_leaf=3, min_samples_split=2 ............\n",
      "[CV] max_depth=8, min_samples_leaf=3, min_samples_split=5 ............\n",
      "[CV]  max_depth=8, min_samples_leaf=3, min_samples_split=2, total=   1.1s\n",
      "[CV] max_depth=8, min_samples_leaf=3, min_samples_split=5 ............\n",
      "[CV]  max_depth=8, min_samples_leaf=3, min_samples_split=2, total=   1.1s\n",
      "[CV] max_depth=8, min_samples_leaf=3, min_samples_split=5 ............\n",
      "[CV]  max_depth=8, min_samples_leaf=3, min_samples_split=5, total=   1.1s\n",
      "[CV] max_depth=8, min_samples_leaf=3, min_samples_split=10 ...........\n",
      "[CV]  max_depth=8, min_samples_leaf=3, min_samples_split=2, total=   1.1s\n",
      "[CV] max_depth=8, min_samples_leaf=3, min_samples_split=10 ...........\n",
      "[CV]  max_depth=8, min_samples_leaf=3, min_samples_split=5, total=   1.1s\n",
      "[CV] max_depth=8, min_samples_leaf=3, min_samples_split=10 ...........\n",
      "[CV]  max_depth=8, min_samples_leaf=3, min_samples_split=5, total=   1.4s\n",
      "[CV] max_depth=8, min_samples_leaf=4, min_samples_split=2 ............\n",
      "[CV]  max_depth=8, min_samples_leaf=3, min_samples_split=10, total=   1.4s\n",
      "[CV] max_depth=8, min_samples_leaf=4, min_samples_split=2 ............\n",
      "[CV]  max_depth=8, min_samples_leaf=3, min_samples_split=10, total=   1.4s\n",
      "[CV] max_depth=8, min_samples_leaf=4, min_samples_split=2 ............\n",
      "[CV]  max_depth=8, min_samples_leaf=3, min_samples_split=10, total=   1.5s\n",
      "[CV] max_depth=8, min_samples_leaf=4, min_samples_split=5 ............\n",
      "[CV]  max_depth=8, min_samples_leaf=4, min_samples_split=2, total=   1.0s\n",
      "[CV] max_depth=8, min_samples_leaf=4, min_samples_split=5 ............\n",
      "[CV]  max_depth=8, min_samples_leaf=4, min_samples_split=2, total=   1.1s\n",
      "[CV] max_depth=8, min_samples_leaf=4, min_samples_split=5 ............\n",
      "[CV]  max_depth=8, min_samples_leaf=4, min_samples_split=2, total=   1.1s\n",
      "[CV] max_depth=8, min_samples_leaf=4, min_samples_split=10 ...........\n",
      "[CV]  max_depth=8, min_samples_leaf=4, min_samples_split=5, total=   1.1s\n",
      "[CV] max_depth=8, min_samples_leaf=4, min_samples_split=10 ...........\n",
      "[CV]  max_depth=8, min_samples_leaf=4, min_samples_split=5, total=   1.1s\n",
      "[CV] max_depth=8, min_samples_leaf=4, min_samples_split=10 ...........\n",
      "[CV]  max_depth=8, min_samples_leaf=4, min_samples_split=5, total=   1.0s\n",
      "[CV]  max_depth=8, min_samples_leaf=4, min_samples_split=10, total=   1.0s\n",
      "[CV]  max_depth=8, min_samples_leaf=4, min_samples_split=10, total=   1.0s\n",
      "[CV]  max_depth=8, min_samples_leaf=4, min_samples_split=10, total=   0.7s\n"
     ]
    },
    {
     "name": "stderr",
     "output_type": "stream",
     "text": [
      "[Parallel(n_jobs=-1)]: Done  81 out of  81 | elapsed:   28.4s finished\n"
     ]
    }
   ],
   "source": [
    "# Fit the grid search to the data\n",
    "grid_search.fit(X_train,y_train);"
   ]
  },
  {
   "cell_type": "code",
   "execution_count": 13,
   "metadata": {},
   "outputs": [
    {
     "data": {
      "text/plain": [
       "{'max_depth': 8, 'min_samples_leaf': 4, 'min_samples_split': 10}"
      ]
     },
     "execution_count": 13,
     "metadata": {},
     "output_type": "execute_result"
    }
   ],
   "source": [
    "grid_search.best_params_"
   ]
  },
  {
   "cell_type": "code",
   "execution_count": 14,
   "metadata": {},
   "outputs": [
    {
     "data": {
      "text/plain": [
       "RandomForestRegressor(bootstrap=True, criterion='mse', max_depth=8,\n",
       "           max_features=1.0, max_leaf_nodes=None,\n",
       "           min_impurity_decrease=0.0, min_impurity_split=None,\n",
       "           min_samples_leaf=4, min_samples_split=10,\n",
       "           min_weight_fraction_leaf=0.0, n_estimators=100, n_jobs=1,\n",
       "           oob_score=False, random_state=42, verbose=0, warm_start=False)"
      ]
     },
     "execution_count": 14,
     "metadata": {},
     "output_type": "execute_result"
    }
   ],
   "source": [
    "#using Grid Search Best Parameters to see if there is an improvement in performance\n",
    "\n",
    "besthp_rf= RandomForestRegressor(random_state=42, max_features=1.0,n_estimators=100,\n",
    "                                 max_depth=8,min_samples_leaf = 4,min_samples_split =10)\n",
    "\n",
    "besthp_rf.fit(X_train, y_train)\n"
   ]
  },
  {
   "cell_type": "code",
   "execution_count": 15,
   "metadata": {
    "scrolled": true
   },
   "outputs": [
    {
     "name": "stdout",
     "output_type": "stream",
     "text": [
      "RMSEs on Train after Grid Search [2.15906655 2.21112677 1.88529533 2.05910272 2.28035107]\n",
      "RMSE on Test after Grid Search 2.1232989000892184\n"
     ]
    }
   ],
   "source": [
    "#For training set\n",
    "besthp_mse = cross_val_score(besthp_rf, X_train, y_train, cv=5,n_jobs=1,scoring='neg_mean_squared_error')\n",
    "\n",
    "besthp_rmse_train = besthp_mse\n",
    "\n",
    "for i in range(0,len(besthp_mse)):\n",
    "    besthp_rmse_train[i]= sqrt(abs(besthp_mse[i]))\n",
    "\n",
    "\n",
    "print('RMSEs on Train after Grid Search', besthp_rmse_train)\n",
    "\n",
    "#For testing set\n",
    "besthp_rf_pred = besthp_rf.predict(X_test)\n",
    "besthp_rmse_test = sqrt(mean_squared_error(y_test, besthp_rf_pred))\n",
    "\n",
    "print('RMSE on Test after Grid Search', besthp_rmse_test)\n"
   ]
  },
  {
   "cell_type": "code",
   "execution_count": 16,
   "metadata": {},
   "outputs": [
    {
     "name": "stdout",
     "output_type": "stream",
     "text": [
      "R^2 on Test after Grid Search 0.5522346503412912\n"
     ]
    }
   ],
   "source": [
    "#R2 of test\n",
    "besthp_r2_test = besthp_rf.score(X_test,y_test)\n",
    "print('R^2 on Test after Grid Search', besthp_r2_test)"
   ]
  },
  {
   "cell_type": "markdown",
   "metadata": {},
   "source": [
    "### Step 7: Ordering feature importances"
   ]
  },
  {
   "cell_type": "code",
   "execution_count": 17,
   "metadata": {},
   "outputs": [
    {
     "data": {
      "text/plain": [
       "[(0.6345, 'whole_weight'),\n",
       " (0.1578, 'length'),\n",
       " (0.0552, 'viscera_weight'),\n",
       " (0.0392, 'diameter'),\n",
       " (0.0365, 'shell_weight'),\n",
       " (0.0274, 'sex'),\n",
       " (0.0265, 'shucked_weight'),\n",
       " (0.0228, 'height')]"
      ]
     },
     "execution_count": 17,
     "metadata": {},
     "output_type": "execute_result"
    }
   ],
   "source": [
    "# listing out the important variables in descending order\n",
    "\n",
    "names = {'sex','length','diameter','height','whole_weight',\n",
    "                 'shucked_weight','viscera_weight','shell_weight' }\n",
    "\n",
    "var_importance = sorted(zip(map(lambda x: round(x, 4), besthp_rf.feature_importances_), names),reverse=True)\n",
    "\n",
    "var_importance"
   ]
  },
  {
   "cell_type": "markdown",
   "metadata": {},
   "source": [
    "### Summarizing the results of Random Forest Regressor and  hyperparameter tuning (step 5,6,7)\n",
    "1\\. Optimal values of chosen hyperparameters:\n",
    "* max_depth: 8\n",
    "* min_samples_leaf: 4\n",
    "* min_samples_split: 10\n",
    "\n",
    "2\\. On baseline Random Forest Model, 5-fold cross validation RMSEs on the training set,the RMSE on the test set are higher. After hyperparameter tuning the RMSEs on the training set, RMSE on the test set have improved.\n",
    "\n",
    "\n",
    "3\\. 95% variable importance can be obtained from 6 out of 8 features, i.e., excluding 'height'and 'sex'. Note: The Feature importance is prone to variability due to the stochastic nature of random forest trees. On repeated trials, sex and height are least important. This can be confirmed from the histograms as well."
   ]
  },
  {
   "cell_type": "markdown",
   "metadata": {},
   "source": [
    "### Step 8: Retraining RF regressor using best hyperparameters and important features\n",
    "Dropping features height and sex - unimportant features"
   ]
  },
  {
   "cell_type": "code",
   "execution_count": 18,
   "metadata": {},
   "outputs": [],
   "source": [
    "#Separating X_new and y_new from original dataframe\n",
    "\n",
    "X_new = abalone.drop(['rings','height','sex'],axis=1)\n",
    "y_new = abalone['rings']\n",
    "\n",
    "#Test train splits\n",
    "\n",
    "X_new_train, X_new_test, y_new_train, y_new_test = train_test_split(X_new, y_new,\n",
    "                                                    stratify=y_new, \n",
    "                                                    test_size=0.2, random_state = 42)\n",
    "\n",
    "# Feature scaling using Standard scaler\n",
    "\n",
    "X_new_train = scaler.fit_transform(X_new_train)\n",
    "X_new_test = scaler.transform(X_new_test)"
   ]
  },
  {
   "cell_type": "code",
   "execution_count": 19,
   "metadata": {},
   "outputs": [
    {
     "data": {
      "text/plain": [
       "RandomForestRegressor(bootstrap=True, criterion='mse', max_depth=8,\n",
       "           max_features=1.0, max_leaf_nodes=None,\n",
       "           min_impurity_decrease=0.0, min_impurity_split=None,\n",
       "           min_samples_leaf=4, min_samples_split=10,\n",
       "           min_weight_fraction_leaf=0.0, n_estimators=100, n_jobs=1,\n",
       "           oob_score=False, random_state=42, verbose=0, warm_start=False)"
      ]
     },
     "execution_count": 19,
     "metadata": {},
     "output_type": "execute_result"
    }
   ],
   "source": [
    "#using best combination of hyperparams and reduced dimensions for RFR\n",
    "\n",
    "best_rf= RandomForestRegressor(random_state=42, max_features=1.0,n_estimators=100,\n",
    "                                 max_depth=8,min_samples_leaf = 4,min_samples_split =10)\n",
    "\n",
    "best_rf.fit(X_new_train, y_new_train)"
   ]
  },
  {
   "cell_type": "code",
   "execution_count": 20,
   "metadata": {},
   "outputs": [
    {
     "name": "stdout",
     "output_type": "stream",
     "text": [
      "RMSEs on Train with best hyperparams, imp features [2.17651397 2.25102924 1.91673382 2.05650224 2.29632258]\n",
      "RMSE with best hyperparams, imp features 2.163907298298553\n"
     ]
    }
   ],
   "source": [
    "#For training set\n",
    "best_mse = cross_val_score(best_rf, X_new_train, y_new_train, cv=5,n_jobs=1,scoring='neg_mean_squared_error')\n",
    "\n",
    "best_rmse_train = best_mse\n",
    "\n",
    "for i in range(0,len(best_mse)):\n",
    "    best_rmse_train[i]= sqrt(abs(best_mse[i]))\n",
    "\n",
    "\n",
    "print('RMSEs on Train with best hyperparams, imp features', best_rmse_train)\n",
    "\n",
    "#For testing set\n",
    "best_rf_pred = best_rf.predict(X_new_test)\n",
    "best_rmse_test = sqrt(mean_squared_error(y_new_test, best_rf_pred))\n",
    "\n",
    "print('RMSE with best hyperparams, imp features', best_rmse_test)"
   ]
  },
  {
   "cell_type": "code",
   "execution_count": 21,
   "metadata": {},
   "outputs": [
    {
     "name": "stdout",
     "output_type": "stream",
     "text": [
      "R^2 on Test using best hp, reducing dimensions 0.5349437166955838\n"
     ]
    }
   ],
   "source": [
    "#R2 of test\n",
    "best_r2_test = best_rf.score(X_new_test,y_new_test)\n",
    "print('R^2 on Test using best hp, reducing dimensions', best_r2_test)"
   ]
  },
  {
   "cell_type": "markdown",
   "metadata": {},
   "source": [
    "### Analysing  the RF regressor using best hyperparameters and important features\n",
    "1\\. As seen above, reducing the dimension has increased the RMSE, indicating decrease in performance.\n",
    "\n",
    "2\\. The below graph shows that best performance (RMSE) was obtained when all features are used on the regressor with best hyperparameter combination.\n"
   ]
  },
  {
   "cell_type": "code",
   "execution_count": 22,
   "metadata": {},
   "outputs": [
    {
     "data": {
      "image/png": "[encoded data removed]",
      "text/plain": [
       "<matplotlib.figure.Figure at 0x10b77e320>"
      ]
     },
     "metadata": {},
     "output_type": "display_data"
    }
   ],
   "source": [
    "#test RMSEs\n",
    "x = ['baseline','after hp tuning', 'best hp, top features']\n",
    "y = [baseline_rmse_test, besthp_rmse_test, best_rmse_test]\n",
    "\n",
    "\n",
    "_= plt.bar(x,y)\n",
    "_= plt.title(\"RMSE comparison (test)\")\n",
    "_= plt.ylim(ymin = 2, ymax = 2.21)"
   ]
  },
  {
   "cell_type": "code",
   "execution_count": 23,
   "metadata": {},
   "outputs": [
    {
     "data": {
      "image/png": "[encoded data removed]",
      "text/plain": [
       "<matplotlib.figure.Figure at 0x112dca6a0>"
      ]
     },
     "metadata": {},
     "output_type": "display_data"
    }
   ],
   "source": [
    "#Actual vs predicted after grid search\n",
    "y = besthp_rf_pred\n",
    "dy = 0.8\n",
    "x = y_test\n",
    "plt.figure(figsize=(12,6))\n",
    "plt.title(\"Actual VS predicted ring values with error bars - Using Best Hyperparameters\")\n",
    "plt.xlabel('Actual')\n",
    "plt.ylabel('Predicted')\n",
    "plt.plot(x, x)\n",
    "plt.errorbar(x, y, yerr=dy, fmt='.k');\n"
   ]
  },
  {
   "cell_type": "code",
   "execution_count": 24,
   "metadata": {},
   "outputs": [
    {
     "data": {
      "image/png": "[encoded data removed]",
      "text/plain": [
       "<matplotlib.figure.Figure at 0x1104ea0b8>"
      ]
     },
     "metadata": {},
     "output_type": "display_data"
    }
   ],
   "source": [
    "#Actual vs predicted after grid search\n",
    "y = best_rf_pred\n",
    "dy = 0.8\n",
    "x = y_test\n",
    "plt.figure(figsize=(12,6))\n",
    "plt.title(\"Actual VS predicted ring values with error bars - Best HP and Reduced Dimensions\")\n",
    "plt.xlabel('Actual')\n",
    "plt.ylabel('Predicted')\n",
    "plt.plot(x, x)\n",
    "plt.errorbar(x, y, yerr=dy, fmt='.k');"
   ]
  },
  {
   "cell_type": "markdown",
   "metadata": {},
   "source": [
    "### Analysis of plots of Actual vs Predicted values\n",
    "\n",
    "1\\. Above are the error graphs of i. actual vs predicted on the regressor with best hyperparameter combination and ii. actual vs predicted on the regressor with best hyperparameter combination and reduced dimensions.\n",
    "\n",
    "2\\. The points on the actual vs predicted graph don't quite lie on the diagonal, indicating that the R^2 value was quite low. The regressors perform better prediction for smaller values of 'rings' than larger values. \n",
    "\n",
    "3\\. In both the graphs we notice poor performance for ring values above 15, for these values, the regressors predict smaller values than expected/original value of 'rings'."
   ]
  },
  {
   "cell_type": "markdown",
   "metadata": {},
   "source": [
    "### Step 9: SVM Regressor with RBF Kernel\n",
    "* X_train, X_test have already been scaled in the previous steps\n",
    "* Using all features to train the regressor"
   ]
  },
  {
   "cell_type": "code",
   "execution_count": 25,
   "metadata": {},
   "outputs": [
    {
     "data": {
      "text/plain": [
       "SVR(C=1.0, cache_size=200, coef0=0.0, degree=3, epsilon=0.1, gamma='auto',\n",
       "  kernel='rbf', max_iter=-1, shrinking=True, tol=0.001, verbose=False)"
      ]
     },
     "execution_count": 25,
     "metadata": {},
     "output_type": "execute_result"
    },
    {
     "name": "stdout",
     "output_type": "stream",
     "text": [
      "SVR RMSEs on Train [2.20263806 2.2338789  1.84537542 2.10447064 2.30647513]\n",
      "SVR RMSE on Test 2.1479977940564763\n"
     ]
    }
   ],
   "source": [
    "\n",
    "# Note: X_train, X_test have already been scaled in the previous steps #Using All dimensions\n",
    "\n",
    "from sklearn.svm import SVR\n",
    "\n",
    "#SVR with default hyperparameters\n",
    "svr = SVR(kernel='rbf')\n",
    "\n",
    "svr.fit(X_train,y_train)\n",
    "\n",
    "# Reporting RMSE using cross validation with 5 folds\n",
    "\n",
    "#For training set\n",
    "svr_mse = cross_val_score(svr, X_train, y_train, cv=5,n_jobs=1,scoring='neg_mean_squared_error')\n",
    "\n",
    "svr_rmse_train = svr_mse\n",
    "\n",
    "for i in range(0,len(svr_mse)):\n",
    "    svr_rmse_train[i]= sqrt(abs(svr_mse[i]))\n",
    "\n",
    "print('SVR RMSEs on Train', svr_rmse_train)\n",
    "\n",
    "# RMSE For testing set\n",
    "svr_pred = svr.predict(X_test)\n",
    "svr_rmse_test = sqrt(mean_squared_error(y_test, svr_pred))\n",
    "\n",
    "print('SVR RMSE on Test', svr_rmse_test)"
   ]
  },
  {
   "cell_type": "code",
   "execution_count": 26,
   "metadata": {},
   "outputs": [
    {
     "name": "stdout",
     "output_type": "stream",
     "text": [
      "R^2 on SVR 0.5417569624308223\n"
     ]
    }
   ],
   "source": [
    "#R2 of test\n",
    "svr_r2_test = svr.score(X_test,y_test)\n",
    "print('R^2 on SVR', svr_r2_test)"
   ]
  },
  {
   "cell_type": "markdown",
   "metadata": {},
   "source": [
    "### Step 10: Logistic regressor"
   ]
  },
  {
   "cell_type": "code",
   "execution_count": 27,
   "metadata": {},
   "outputs": [
    {
     "data": {
      "text/plain": [
       "LogisticRegression(C=1.0, class_weight=None, dual=False, fit_intercept=True,\n",
       "          intercept_scaling=1, max_iter=100, multi_class='ovr', n_jobs=1,\n",
       "          penalty='l2', random_state=42, solver='liblinear', tol=0.0001,\n",
       "          verbose=0, warm_start=False)"
      ]
     },
     "execution_count": 27,
     "metadata": {},
     "output_type": "execute_result"
    },
    {
     "name": "stdout",
     "output_type": "stream",
     "text": [
      "logreg RMSEs on Train [2.76816534 2.63419591 2.59135919 2.55953215 2.65548363]\n",
      "logreg RMSE on Test 2.6976864090776913\n"
     ]
    }
   ],
   "source": [
    "from sklearn.linear_model import LogisticRegression\n",
    "\n",
    "logreg = LogisticRegression(random_state=42)\n",
    "\n",
    "logreg.fit(X_train,y_train)\n",
    "\n",
    "# Reporting RMSE using cross validation with 5 folds\n",
    "\n",
    "#For training set\n",
    "logreg_mse = cross_val_score(logreg, X_train, y_train, cv=5,n_jobs=1,scoring='neg_mean_squared_error')\n",
    "\n",
    "logreg_rmse_train = logreg_mse\n",
    "\n",
    "for i in range(0,len(logreg_mse)):\n",
    "    logreg_rmse_train[i]= sqrt(abs(logreg_mse[i]))\n",
    "\n",
    "print('logreg RMSEs on Train', logreg_rmse_train)\n",
    "\n",
    "# RMSE For testing set\n",
    "logreg_pred = logreg.predict(X_test)\n",
    "logreg_rmse_test = sqrt(mean_squared_error(y_test, logreg_pred))\n",
    "\n",
    "print('logreg RMSE on Test', logreg_rmse_test)"
   ]
  },
  {
   "cell_type": "code",
   "execution_count": 28,
   "metadata": {},
   "outputs": [
    {
     "name": "stdout",
     "output_type": "stream",
     "text": [
      "R^2 on logreg 0.2727272727272727\n"
     ]
    }
   ],
   "source": [
    "#R2 of test\n",
    "logreg_r2_test = logreg.score(X_test,y_test)\n",
    "print('R^2 on logreg', logreg_r2_test)"
   ]
  },
  {
   "cell_type": "markdown",
   "metadata": {},
   "source": [
    "### Step 11: Conclusion\n",
    "* Among the models, Random Forest Regressor with hyper parameter tuning performed the best.\n",
    "* However, it is interesting to note that SVR with RBF kernel, with default hyperparameters, achieved an RMSE and R^2 values very close to the tuned Random Forest Model. It might be a good option to tune hyperparameters on SVR and check it if could be a more suitable algortihm for the data.\n",
    "* Logistic Regressor performed the worst among the models tested."
   ]
  },
  {
   "cell_type": "code",
   "execution_count": 29,
   "metadata": {},
   "outputs": [
    {
     "data": {
      "text/html": [
       "<div>\n",
       "<style scoped>\n",
       "    .dataframe tbody tr th:only-of-type {\n",
       "        vertical-align: middle;\n",
       "    }\n",
       "\n",
       "    .dataframe tbody tr th {\n",
       "        vertical-align: top;\n",
       "    }\n",
       "\n",
       "    .dataframe thead th {\n",
       "        text-align: right;\n",
       "    }\n",
       "</style>\n",
       "<table border=\"1\" class=\"dataframe\">\n",
       "  <thead>\n",
       "    <tr style=\"text-align: right;\">\n",
       "      <th></th>\n",
       "      <th>RMSE on Test</th>\n",
       "      <th>Value</th>\n",
       "    </tr>\n",
       "  </thead>\n",
       "  <tbody>\n",
       "    <tr>\n",
       "      <th>0</th>\n",
       "      <td>Baseline RF</td>\n",
       "      <td>2.159756</td>\n",
       "    </tr>\n",
       "    <tr>\n",
       "      <th>1</th>\n",
       "      <td>RF - HP tuned</td>\n",
       "      <td>2.123299</td>\n",
       "    </tr>\n",
       "    <tr>\n",
       "      <th>2</th>\n",
       "      <td>RF - Reduced Dim</td>\n",
       "      <td>2.163907</td>\n",
       "    </tr>\n",
       "    <tr>\n",
       "      <th>3</th>\n",
       "      <td>SVR</td>\n",
       "      <td>2.147998</td>\n",
       "    </tr>\n",
       "    <tr>\n",
       "      <th>4</th>\n",
       "      <td>log Reg</td>\n",
       "      <td>2.697686</td>\n",
       "    </tr>\n",
       "  </tbody>\n",
       "</table>\n",
       "</div>"
      ],
      "text/plain": [
       "       RMSE on Test     Value\n",
       "0       Baseline RF  2.159756\n",
       "1     RF - HP tuned  2.123299\n",
       "2  RF - Reduced Dim  2.163907\n",
       "3               SVR  2.147998\n",
       "4           log Reg  2.697686"
      ]
     },
     "execution_count": 29,
     "metadata": {},
     "output_type": "execute_result"
    }
   ],
   "source": [
    "modelRMSE = pd.DataFrame({\n",
    "    'RMSE on Test': ['Baseline RF','RF - HP tuned','RF - Reduced Dim','SVR','log Reg'],\n",
    "    'Value': [baseline_rmse_test, besthp_rmse_test, best_rmse_test,svr_rmse_test,logreg_rmse_test]})\n",
    "\n",
    "modelRMSE"
   ]
  },
  {
   "cell_type": "code",
   "execution_count": 30,
   "metadata": {},
   "outputs": [
    {
     "data": {
      "text/html": [
       "<div>\n",
       "<style scoped>\n",
       "    .dataframe tbody tr th:only-of-type {\n",
       "        vertical-align: middle;\n",
       "    }\n",
       "\n",
       "    .dataframe tbody tr th {\n",
       "        vertical-align: top;\n",
       "    }\n",
       "\n",
       "    .dataframe thead th {\n",
       "        text-align: right;\n",
       "    }\n",
       "</style>\n",
       "<table border=\"1\" class=\"dataframe\">\n",
       "  <thead>\n",
       "    <tr style=\"text-align: right;\">\n",
       "      <th></th>\n",
       "      <th>R^2 on Test</th>\n",
       "      <th>Value</th>\n",
       "    </tr>\n",
       "  </thead>\n",
       "  <tbody>\n",
       "    <tr>\n",
       "      <th>0</th>\n",
       "      <td>Baseline RF</td>\n",
       "      <td>0.536726</td>\n",
       "    </tr>\n",
       "    <tr>\n",
       "      <th>1</th>\n",
       "      <td>RF - HP tuned</td>\n",
       "      <td>0.552235</td>\n",
       "    </tr>\n",
       "    <tr>\n",
       "      <th>2</th>\n",
       "      <td>RF - Reduced Dim</td>\n",
       "      <td>0.534944</td>\n",
       "    </tr>\n",
       "    <tr>\n",
       "      <th>3</th>\n",
       "      <td>SVR</td>\n",
       "      <td>0.541757</td>\n",
       "    </tr>\n",
       "    <tr>\n",
       "      <th>4</th>\n",
       "      <td>log Reg</td>\n",
       "      <td>0.272727</td>\n",
       "    </tr>\n",
       "  </tbody>\n",
       "</table>\n",
       "</div>"
      ],
      "text/plain": [
       "        R^2 on Test     Value\n",
       "0       Baseline RF  0.536726\n",
       "1     RF - HP tuned  0.552235\n",
       "2  RF - Reduced Dim  0.534944\n",
       "3               SVR  0.541757\n",
       "4           log Reg  0.272727"
      ]
     },
     "execution_count": 30,
     "metadata": {},
     "output_type": "execute_result"
    }
   ],
   "source": [
    "modelR2 = pd.DataFrame({\n",
    "    'R^2 on Test': ['Baseline RF','RF - HP tuned','RF - Reduced Dim','SVR','log Reg'],\n",
    "    'Value': [baseline_r2_test, besthp_r2_test, best_r2_test,svr_r2_test,logreg_r2_test]})\n",
    "\n",
    "modelR2"
   ]
  },
  {
   "cell_type": "markdown",
   "metadata": {},
   "source": [
    "**REFERENCES:**\n",
    "\n",
    "Textbook: Hands-On Machine Learning with Scikit-Learn and TensorFlow\n",
    "Python / Scikit Learn documentation"
   ]
  },
  {
   "cell_type": "code",
   "execution_count": null,
   "metadata": {},
   "outputs": [],
   "source": []
  }
 ],
 "metadata": {
  "kernelspec": {
   "display_name": "Python 3",
   "language": "python",
   "name": "python3"
  },
  "language_info": {
   "codemirror_mode": {
    "name": "ipython",
    "version": 3
   },
   "file_extension": ".py",
   "mimetype": "text/x-python",
   "name": "python",
   "nbconvert_exporter": "python",
   "pygments_lexer": "ipython3",
   "version": "3.6.4"
  }
 },
 "nbformat": 4,
 "nbformat_minor": 2
}
