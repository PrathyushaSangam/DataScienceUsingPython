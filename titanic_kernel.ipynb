{
  "metadata": {
    "language_info": {
      "name": "python",
      "mimetype": "text/x-python",
      "file_extension": ".py",
      "nbconvert_exporter": "python",
      "version": "3.6.4",
      "codemirror_mode": {
        "name": "ipython",
        "version": 3
      },
      "pygments_lexer": "ipython3"
    },
    "kernelspec": {
      "name": "python3",
      "language": "python",
      "display_name": "Python 3"
    }
  },
  "nbformat": 4,
  "nbformat_minor": 1,
  "cells": [
    {
      "metadata": {
        "_cell_guid": "80c99bda-0756-4b45-bf15-2472f15dd36e",
        "collapsed": true,
        "_uuid": "60ba6ef361010a8981764c50697d0c679cf94589"
      },
      "source": [
        "** This is a work in progress **\n",
        "## Objective:\n",
        "1.\tAnalysing the Titanic dataset to obtain useful and interesting insights.\n",
        "2.\tPredicting survival using multiple ML techniques\n",
        "After poking around for inspiration from fellow kagglers, i noticed Random Forest Trees to be the go-to technique for prediction in this competition.. Having python at my disposal, i figured i am interested in attempting multiple ML techniques and hope to analyze how they fare.\n",
        "\n",
        "## Step 1:  Import Libraries"
      ],
      "cell_type": "markdown"
    },
    {
      "metadata": {
        "_cell_guid": "c0e5dfbd-b87c-4c6d-b25d-0ea09842fc7e",
        "collapsed": true,
        "_uuid": "c20fa76767668c9e013e5c1c4f08d3c1a2beaffa"
      },
      "outputs": [],
      "execution_count": null,
      "cell_type": "code",
      "source": [
        "# Data Analysis and Wrangling\n",
        "import numpy as np \n",
        "import pandas as pd\n",
        "\n",
        "# Data Visualization\n",
        "import matplotlib.pyplot as plt\n",
        "import seaborn as sns\n",
        "\n",
        "# allowing multiple scrollable outputs\n",
        "from IPython.core.interactiveshell import InteractiveShell\n",
        "InteractiveShell.ast_node_interactivity = \"all\"\n"
      ]
    },
    {
      "metadata": {
        "_cell_guid": "429fb00a-a0d7-4fb1-b79e-9b75aa6a0dda",
        "_uuid": "00ebfaa08a4f8a685741532ae18905fa306274cc"
      },
      "source": [
        "## Step 2: Load Data\n",
        "we create a combined dataframe - Full, to allow us perform operations both datasets require, without repetition."
      ],
      "cell_type": "markdown"
    },
    {
      "metadata": {
        "_cell_guid": "4fd9c147-fd68-43af-ba10-09f253a2ba84",
        "collapsed": true,
        "_uuid": "b59da9741b12d6bc4655620a7123a9ede0666d90"
      },
      "outputs": [],
      "execution_count": null,
      "cell_type": "code",
      "source": [
        "# Load data\n",
        "train = pd.read_csv('../input/train.csv')\n",
        "test = pd.read_csv('../input/test.csv')\n",
        "\n",
        "# To perform manipulation that both datasets need in common\n",
        "full = train.append(test,ignore_index = True) \n"
      ]
    },
    {
      "metadata": {
        "_cell_guid": "0a243c0f-87b1-43f5-b493-241734e5ccf1",
        "_uuid": "55e79d59acc0a83e125591182be63afb1dc9e9ba"
      },
      "source": [
        "## Step 3: Preliminary/Descriptive Analysis \n",
        "Now that we have our data ready, we can look at the variables, shape of the data, missing values and some standard descriptive stats. Further, we can figure out sensible data cleaning and possible feature extraction/engineering opportunities.\n"
      ],
      "cell_type": "markdown"
    },
    {
      "metadata": {
        "_cell_guid": "e8c1f5fb-bb57-4df3-8f1f-eca42454693d",
        "scrolled": false,
        "_uuid": "72f9e54ae28adb372ff6fdc8fd1be7bf3139667a"
      },
      "outputs": [],
      "execution_count": null,
      "cell_type": "code",
      "source": [
        "# preliminary analysis\n",
        "print('Train:', train.shape, 'Test:', test.shape, \"Full:\", full.shape)\n",
        "full.head()\n",
        "full.isnull().sum()\n",
        "full.describe()"
      ]
    },
    {
      "metadata": {
        "_cell_guid": "c44e34df-52c2-451c-882d-af98df0ed930",
        "_uuid": "0d95549fb0df276796b2c3d3bb111a3106bf80fc"
      },
      "source": [
        "* Train has 891 records, Test has 418 records (total: 1309), we will use Test to predict survival after building model(s).\n",
        "* Missing values Age - 263 (~20%), Cabin - 1014 (~77%) , Embarked- 2, Fare 1. The missing values might be important in deciding the survival of a passenger, hence, the missingness has to be dealth with.\n",
        "* Names have titles (Royalty, Mr, Master, Mrs and so on.) which might have some correlation with survival rates.\n",
        "\n",
        "### Some initial data cleaning for better visualization to aid analysis"
      ],
      "cell_type": "markdown"
    },
    {
      "metadata": {
        "_cell_guid": "d6bf06af-dbca-4143-a27b-558ff9e41d77",
        "collapsed": true,
        "_uuid": "353b23138e9d212817f84aff39fce4bea1e7e3d6"
      },
      "outputs": [],
      "execution_count": null,
      "cell_type": "code",
      "source": [
        "#filling unknown cabin with U\n",
        "full.Cabin = train.Cabin.fillna('U')\n",
        "\n",
        "#convert male,female to 0,1\n",
        "full['Sex'].replace([\"male\",\"female\"],[0,1],inplace= True)"
      ]
    },
    {
      "metadata": {
        "_cell_guid": "081147e6-6320-46a5-9bd9-c43590790bef",
        "collapsed": true,
        "_uuid": "b77c96bec2cec1d1ff1d83373f654753cb3970e7"
      },
      "outputs": [],
      "execution_count": null,
      "cell_type": "code",
      "source": [
        "#deciding importance of variables\n",
        "corr = train.corr()\n",
        "sns.heatmap(corr, annot= True, cmap=\"YlGnBu\")\n"
      ]
    }
  ]
}
