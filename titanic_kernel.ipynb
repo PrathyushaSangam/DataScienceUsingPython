{
  "metadata": {
    "kernelspec": {
      "name": "python3",
      "language": "python",
      "display_name": "Python 3"
    },
    "language_info": {
      "name": "python",
      "mimetype": "text/x-python",
      "pygments_lexer": "ipython3",
      "file_extension": ".py",
      "version": "3.6.4",
      "nbconvert_exporter": "python",
      "codemirror_mode": {
        "name": "ipython",
        "version": 3
      }
    }
  },
  "cells": [
    {
      "source": [
        "** This is a work in progress **\n",
        "# Objective:\n",
        "1.\tAnalysing the Titanic dataset to obtain useful and interesting insights.\n",
        "2.\tPredicting survival using multiple ML techniques\n",
        "After poking around for inspiration from fellow kagglers, i noticed Random Forest Trees to be the go-to technique for prediction in this competition.. Having python at my disposal, i figured i am interested in attempting multiple ML techniques and hope to analyze how they fare."
      ],
      "cell_type": "markdown",
      "metadata": {
        "_cell_guid": "80c99bda-0756-4b45-bf15-2472f15dd36e",
        "collapsed": true,
        "_uuid": "60ba6ef361010a8981764c50697d0c679cf94589"
      }
    },
    {
      "source": [
        "# Data Analysis and Wrangling\n",
        "import numpy as np \n",
        "import pandas as pd\n",
        "\n",
        "# Data Visualization\n",
        "import matplotlib.pyplot as plt\n",
        "import seaborn as sns\n",
        "\n",
        "# allowing multiple scrollable outputs\n",
        "from IPython.core.interactiveshell import InteractiveShell\n",
        "InteractiveShell.ast_node_interactivity = \"all\"\n"
      ],
      "cell_type": "code",
      "execution_count": null,
      "outputs": [],
      "metadata": {
        "collapsed": true
      }
    },
    {
      "source": [
        "# Load data\n",
        "train = pd.read_csv('../input/train.csv')\n",
        "test = pd.read_csv('../input/test.csv')\n",
        "\n",
        "# To perform manipulation that both datasets need in common\n",
        "full = train.append(test,ignore_index = True) \n"
      ],
      "cell_type": "code",
      "execution_count": null,
      "outputs": [],
      "metadata": {
        "collapsed": true
      }
    },
    {
      "source": [
        "Now that we have our data ready, we can look at the variables, shape of the data, missing values and some standard descriptive stats. Further, we can figure out sensible data cleaning and possible feature extraction/engineering opportunities."
      ],
      "cell_type": "markdown",
      "attachments": {},
      "metadata": {}
    },
    {
      "source": [
        "# preliminary analysis\n",
        "full.isnull().sum()"
      ],
      "cell_type": "code",
      "execution_count": null,
      "outputs": [],
      "metadata": {}
    }
  ],
  "nbformat_minor": 1,
  "nbformat": 4
}
