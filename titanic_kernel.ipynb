{
  "cells": [
    {
      "metadata": {
        "_uuid": "60ba6ef361010a8981764c50697d0c679cf94589",
        "_cell_guid": "80c99bda-0756-4b45-bf15-2472f15dd36e",
        "collapsed": true
      },
      "cell_type": "markdown",
      "source": "\nAfter looking around for inspiration from fellow kagglers, i gained some great insights about the Titanic dataset. I noticed Random Forest Trees to be the go-to technique for prediction in this competition. Having python at my disposal, i figured i am interested in attempting multiple ML techniques and hope to analyze how they fare. \n\n## Project Plan: \n![img](https://github.com/PrathyushaSangam/DataScienceUsingPython/blob/master/Images/DataScience%20Proj%20Lifecycle.png?raw=true)\n\n***Reference: Zumel, N. and Mount, J. (2014). Practical data science with R. Shelter Island, NY: Manning Publications Co., p.6.***\n\nThis image I saw on the first day school, showing how a Data Science Project Lifecycle works, really stuck around. It shows what questions we need to address, how we may go back and forth in various stages. It's a good starting point for anyone, to lay out a project plan.\n\n** How do we go ahead? **  \n* Define the objective\n* Set up helpful functions\n* Load data\n* Perform preliminary analysis on what we have\n* Try digging deeper - finding correlations, importance of variables\n* Data Cleaning - dealing with missing values\n* Feature Engineering / Extraction - creation and convertion\n* Dropping unfixable/unimportant features\n* Modelling using multiple ML techniques\n* Evaluation\n\n## Objective:\n1.\tAnalysing the Titanic dataset to obtain useful and interesting insights.\n2.\tPredicting survival on the Titanic using multiple ML techniques.\n\n## Setting up libraries and functions"
    },
    {
      "metadata": {
        "_uuid": "c20fa76767668c9e013e5c1c4f08d3c1a2beaffa",
        "_cell_guid": "c0e5dfbd-b87c-4c6d-b25d-0ea09842fc7e",
        "trusted": true
      },
      "cell_type": "code",
      "source": "# Data Analysis\nimport numpy as np \nimport pandas as pd\n\n# Data Visualization\nimport matplotlib as mpl\nimport matplotlib.pyplot as plt\nimport matplotlib.pylab as pylab\nimport seaborn as sns\n\n# allowing multiple/scrollable outputs\nfrom IPython.core.interactiveshell import InteractiveShell\nInteractiveShell.ast_node_interactivity = \"all\"\n\n#machine Learning\n\nfrom sklearn.linear_model import LogisticRegression\nfrom sklearn.svm import SVC\nfrom sklearn.ensemble import RandomForestClassifier\nfrom sklearn.neighbors import KNeighborsClassifier\nfrom sklearn.naive_bayes import GaussianNB\nfrom sklearn.linear_model import Perceptron\nfrom sklearn.linear_model import SGDClassifier\nfrom sklearn.tree import DecisionTreeClassifier\nfrom xgboost import XGBClassifier\nfrom fancyimpute import KNN\n",
      "execution_count": 1,
      "outputs": [
        {
          "output_type": "stream",
          "text": "Using TensorFlow backend.\n",
          "name": "stderr"
        }
      ]
    },
    {
      "metadata": {
        "_uuid": "8cb0640711a1ca179878b7bd0a4ee49be087c0a4",
        "_cell_guid": "8b801407-1f52-4b16-8461-f45d4550f85f",
        "collapsed": true,
        "trusted": true
      },
      "cell_type": "code",
      "source": "#Setting up functions for visualization\n\ndef plot_distribution( df , var , target , **kwargs ):\n    row = kwargs.get( 'row' , None )\n    col = kwargs.get( 'col' , None )\n    facet = sns.FacetGrid( df , hue=target , aspect=4 , row = row , col = col )\n    facet.map( plt.hist , var , alpha=0.5)\n    facet.set( xlim=( 0 , df[ var ].max() ) )\n    facet.add_legend()\n    \n# Function inspired by Helge Bjorland: An Interactive Data Science Tutorial",
      "execution_count": 2,
      "outputs": []
    },
    {
      "metadata": {
        "_uuid": "00ebfaa08a4f8a685741532ae18905fa306274cc",
        "_cell_guid": "429fb00a-a0d7-4fb1-b79e-9b75aa6a0dda"
      },
      "cell_type": "markdown",
      "source": "## Load Data\nWe create a combined list of dataframes - df_full, to allow us perform operations both datasets require at once, using a simple for loop."
    },
    {
      "metadata": {
        "_uuid": "b59da9741b12d6bc4655620a7123a9ede0666d90",
        "_cell_guid": "4fd9c147-fd68-43af-ba10-09f253a2ba84",
        "collapsed": true,
        "trusted": true
      },
      "cell_type": "code",
      "source": "# Load data\ndf_train = pd.read_csv('../input/train.csv')\ndf_test = pd.read_csv('../input/test.csv')\n\ndf_full = [df_train, df_test]",
      "execution_count": 3,
      "outputs": []
    },
    {
      "metadata": {
        "_uuid": "55e79d59acc0a83e125591182be63afb1dc9e9ba",
        "_cell_guid": "0a243c0f-87b1-43f5-b493-241734e5ccf1"
      },
      "cell_type": "markdown",
      "source": "## Preliminary/Descriptive Analysis \nNow that we have our data ready, we can look at the variables, shape of the data, missing values and some standard descriptive stats. Further, we can figure out sensible data cleaning and possible feature extraction/engineering opportunities.\n"
    },
    {
      "metadata": {
        "_uuid": "72f9e54ae28adb372ff6fdc8fd1be7bf3139667a",
        "_cell_guid": "e8c1f5fb-bb57-4df3-8f1f-eca42454693d",
        "scrolled": true,
        "trusted": true
      },
      "cell_type": "code",
      "source": "# preliminary analysis\nprint('Shape of the Data -> Train:', df_train.shape, 'Test:', df_test.shape)\npd.crosstab(index = df_train['Survived'], columns = \"count\")",
      "execution_count": 4,
      "outputs": [
        {
          "output_type": "stream",
          "text": "Shape of the Data -> Train: (891, 12) Test: (418, 11)\n",
          "name": "stdout"
        },
        {
          "output_type": "execute_result",
          "execution_count": 4,
          "data": {
            "text/plain": "col_0     count\nSurvived       \n0           549\n1           342",
            "text/html": "<div>\n<style>\n    .dataframe thead tr:only-child th {\n        text-align: right;\n    }\n\n    .dataframe thead th {\n        text-align: left;\n    }\n\n    .dataframe tbody tr th {\n        vertical-align: top;\n    }\n</style>\n<table border=\"1\" class=\"dataframe\">\n  <thead>\n    <tr style=\"text-align: right;\">\n      <th>col_0</th>\n      <th>count</th>\n    </tr>\n    <tr>\n      <th>Survived</th>\n      <th></th>\n    </tr>\n  </thead>\n  <tbody>\n    <tr>\n      <th>0</th>\n      <td>549</td>\n    </tr>\n    <tr>\n      <th>1</th>\n      <td>342</td>\n    </tr>\n  </tbody>\n</table>\n</div>"
          },
          "metadata": {}
        }
      ]
    },
    {
      "metadata": {
        "_uuid": "db0d571c8cae208ce836cbdcc4d8b047fb850296",
        "_cell_guid": "2595fb29-5b1d-4ca8-bd11-467d4847d282",
        "trusted": true
      },
      "cell_type": "code",
      "source": "# preliminary analysis\ndf_train.describe()\ndf_train.isnull().sum()\ndf_test.isnull().sum()\n\n#for understanding datatypes of columns\n#df_train.info()\n#df_test.info()",
      "execution_count": 5,
      "outputs": [
        {
          "output_type": "execute_result",
          "execution_count": 5,
          "data": {
            "text/plain": "       PassengerId    Survived      Pclass         Age       SibSp  \\\ncount   891.000000  891.000000  891.000000  714.000000  891.000000   \nmean    446.000000    0.383838    2.308642   29.699118    0.523008   \nstd     257.353842    0.486592    0.836071   14.526497    1.102743   \nmin       1.000000    0.000000    1.000000    0.420000    0.000000   \n25%     223.500000    0.000000    2.000000   20.125000    0.000000   \n50%     446.000000    0.000000    3.000000   28.000000    0.000000   \n75%     668.500000    1.000000    3.000000   38.000000    1.000000   \nmax     891.000000    1.000000    3.000000   80.000000    8.000000   \n\n            Parch        Fare  \ncount  891.000000  891.000000  \nmean     0.381594   32.204208  \nstd      0.806057   49.693429  \nmin      0.000000    0.000000  \n25%      0.000000    7.910400  \n50%      0.000000   14.454200  \n75%      0.000000   31.000000  \nmax      6.000000  512.329200  ",
            "text/html": "<div>\n<style>\n    .dataframe thead tr:only-child th {\n        text-align: right;\n    }\n\n    .dataframe thead th {\n        text-align: left;\n    }\n\n    .dataframe tbody tr th {\n        vertical-align: top;\n    }\n</style>\n<table border=\"1\" class=\"dataframe\">\n  <thead>\n    <tr style=\"text-align: right;\">\n      <th></th>\n      <th>PassengerId</th>\n      <th>Survived</th>\n      <th>Pclass</th>\n      <th>Age</th>\n      <th>SibSp</th>\n      <th>Parch</th>\n      <th>Fare</th>\n    </tr>\n  </thead>\n  <tbody>\n    <tr>\n      <th>count</th>\n      <td>891.000000</td>\n      <td>891.000000</td>\n      <td>891.000000</td>\n      <td>714.000000</td>\n      <td>891.000000</td>\n      <td>891.000000</td>\n      <td>891.000000</td>\n    </tr>\n    <tr>\n      <th>mean</th>\n      <td>446.000000</td>\n      <td>0.383838</td>\n      <td>2.308642</td>\n      <td>29.699118</td>\n      <td>0.523008</td>\n      <td>0.381594</td>\n      <td>32.204208</td>\n    </tr>\n    <tr>\n      <th>std</th>\n      <td>257.353842</td>\n      <td>0.486592</td>\n      <td>0.836071</td>\n      <td>14.526497</td>\n      <td>1.102743</td>\n      <td>0.806057</td>\n      <td>49.693429</td>\n    </tr>\n    <tr>\n      <th>min</th>\n      <td>1.000000</td>\n      <td>0.000000</td>\n      <td>1.000000</td>\n      <td>0.420000</td>\n      <td>0.000000</td>\n      <td>0.000000</td>\n      <td>0.000000</td>\n    </tr>\n    <tr>\n      <th>25%</th>\n      <td>223.500000</td>\n      <td>0.000000</td>\n      <td>2.000000</td>\n      <td>20.125000</td>\n      <td>0.000000</td>\n      <td>0.000000</td>\n      <td>7.910400</td>\n    </tr>\n    <tr>\n      <th>50%</th>\n      <td>446.000000</td>\n      <td>0.000000</td>\n      <td>3.000000</td>\n      <td>28.000000</td>\n      <td>0.000000</td>\n      <td>0.000000</td>\n      <td>14.454200</td>\n    </tr>\n    <tr>\n      <th>75%</th>\n      <td>668.500000</td>\n      <td>1.000000</td>\n      <td>3.000000</td>\n      <td>38.000000</td>\n      <td>1.000000</td>\n      <td>0.000000</td>\n      <td>31.000000</td>\n    </tr>\n    <tr>\n      <th>max</th>\n      <td>891.000000</td>\n      <td>1.000000</td>\n      <td>3.000000</td>\n      <td>80.000000</td>\n      <td>8.000000</td>\n      <td>6.000000</td>\n      <td>512.329200</td>\n    </tr>\n  </tbody>\n</table>\n</div>"
          },
          "metadata": {}
        },
        {
          "output_type": "execute_result",
          "execution_count": 5,
          "data": {
            "text/plain": "PassengerId      0\nSurvived         0\nPclass           0\nName             0\nSex              0\nAge            177\nSibSp            0\nParch            0\nTicket           0\nFare             0\nCabin          687\nEmbarked         2\ndtype: int64"
          },
          "metadata": {}
        },
        {
          "output_type": "execute_result",
          "execution_count": 5,
          "data": {
            "text/plain": "PassengerId      0\nPclass           0\nName             0\nSex              0\nAge             86\nSibSp            0\nParch            0\nTicket           0\nFare             1\nCabin          327\nEmbarked         0\ndtype: int64"
          },
          "metadata": {}
        }
      ]
    },
    {
      "metadata": {
        "_uuid": "0d95549fb0df276796b2c3d3bb111a3106bf80fc",
        "_cell_guid": "c44e34df-52c2-451c-882d-af98df0ed930"
      },
      "cell_type": "markdown",
      "source": "### What we know so far:\n* Train has 891 records, Test has 418 records, amounting to a total of 1309. The original passenger count on Titanic was 2208. So we can say we have 59.3% of data for this competition.\n\n*  From our dataset, we see 38.3% chance of survival (Positive samples of Survival: 342 , negative samples: 549). On the Titanic, 705/2208 passengers survived i.e., 32% survived.\n\n* Missing values - both datasets: Age - 263 (~20%), Cabin - 1014 (~77%) , Embarked- 2, Fare- 1. The missing values of Age, Fare and Embarked might be important in deciding the survival of a passenger, hence have to be filled. Though we can assume that Cabin might have been an important variable, defining the closeness to a lifeboat; with almost 77% missingness, this feature can be dropped.\nNote: NaN in Survived column of df_full (in last 418 records) are added due to coercion, since df_test has no Survived column\n\n*  Mean age of the passengers is 29.68 and ranges between 0.42 - 80 years\n\n* There is a large variation in fare, someone (or some people) travelled for free (\\$0), the mean of fare is \\$32.20, ranging upto a costly \\$512.33.\n\n* Names have titles, which describe their social status, sometimes age, marital status in women and even occupation! (Royalty, Mr, Dr, Master, Mrs and so on.) which might have some correlation with survival rates. However, names can be dropped while retaining the title."
    },
    {
      "metadata": {
        "_uuid": "82f37684189f48f907cac214603d54a3fc9571f3",
        "_cell_guid": "e6ca4268-f509-4373-9916-8d62de1d2b57"
      },
      "cell_type": "markdown",
      "source": "## Digging Deeper - Finding correlations and variable importance\n\n* Using Cross-tabulation/ frequency tables and visualizations, we can look at correlations among the features and also guage their importance in predicting survival. \n\n* High School Math Rocks: Since survival is binary (0/1), the mean of survived directly gives probability of survival in any given category! We can use this simple calculation to check the chance of survival given sex, pclass, embarkation etc.\n\n\n### Categorical Variables : Pclass, Family Size (SibSp & Parch), Embarked vs Survival"
    },
    {
      "metadata": {
        "_uuid": "26d73275614f6835576b20ed302be38b5e931c9b",
        "_cell_guid": "854ad04a-7cfd-4f82-8cab-10142bdf30cb",
        "trusted": true
      },
      "cell_type": "code",
      "source": "table1 = pd.pivot_table(df_train, values='Survived', index=['Pclass'])\ntable1",
      "execution_count": 6,
      "outputs": [
        {
          "output_type": "execute_result",
          "execution_count": 6,
          "data": {
            "text/plain": "        Survived\nPclass          \n1       0.629630\n2       0.472826\n3       0.242363",
            "text/html": "<div>\n<style>\n    .dataframe thead tr:only-child th {\n        text-align: right;\n    }\n\n    .dataframe thead th {\n        text-align: left;\n    }\n\n    .dataframe tbody tr th {\n        vertical-align: top;\n    }\n</style>\n<table border=\"1\" class=\"dataframe\">\n  <thead>\n    <tr style=\"text-align: right;\">\n      <th></th>\n      <th>Survived</th>\n    </tr>\n    <tr>\n      <th>Pclass</th>\n      <th></th>\n    </tr>\n  </thead>\n  <tbody>\n    <tr>\n      <th>1</th>\n      <td>0.629630</td>\n    </tr>\n    <tr>\n      <th>2</th>\n      <td>0.472826</td>\n    </tr>\n    <tr>\n      <th>3</th>\n      <td>0.242363</td>\n    </tr>\n  </tbody>\n</table>\n</div>"
          },
          "metadata": {}
        }
      ]
    },
    {
      "metadata": {
        "_uuid": "2b8e7dae3e444dcb05270251d7b5dcc64bfcf80a",
        "_cell_guid": "13b41c1e-6d92-4a00-a75d-6af5cbc3ca0f",
        "trusted": true
      },
      "cell_type": "code",
      "source": "for dataset in df_full:\n    family_size = dataset.SibSp + dataset.Parch +1 #including themselves\n    dataset['FamilySize'] = family_size\n\n\ntable2 = pd.pivot_table(df_train, values = 'Survived', index= ['FamilySize'])\ntable2",
      "execution_count": 7,
      "outputs": [
        {
          "output_type": "execute_result",
          "execution_count": 7,
          "data": {
            "text/plain": "            Survived\nFamilySize          \n1           0.303538\n2           0.552795\n3           0.578431\n4           0.724138\n5           0.200000\n6           0.136364\n7           0.333333\n8           0.000000\n11          0.000000",
            "text/html": "<div>\n<style>\n    .dataframe thead tr:only-child th {\n        text-align: right;\n    }\n\n    .dataframe thead th {\n        text-align: left;\n    }\n\n    .dataframe tbody tr th {\n        vertical-align: top;\n    }\n</style>\n<table border=\"1\" class=\"dataframe\">\n  <thead>\n    <tr style=\"text-align: right;\">\n      <th></th>\n      <th>Survived</th>\n    </tr>\n    <tr>\n      <th>FamilySize</th>\n      <th></th>\n    </tr>\n  </thead>\n  <tbody>\n    <tr>\n      <th>1</th>\n      <td>0.303538</td>\n    </tr>\n    <tr>\n      <th>2</th>\n      <td>0.552795</td>\n    </tr>\n    <tr>\n      <th>3</th>\n      <td>0.578431</td>\n    </tr>\n    <tr>\n      <th>4</th>\n      <td>0.724138</td>\n    </tr>\n    <tr>\n      <th>5</th>\n      <td>0.200000</td>\n    </tr>\n    <tr>\n      <th>6</th>\n      <td>0.136364</td>\n    </tr>\n    <tr>\n      <th>7</th>\n      <td>0.333333</td>\n    </tr>\n    <tr>\n      <th>8</th>\n      <td>0.000000</td>\n    </tr>\n    <tr>\n      <th>11</th>\n      <td>0.000000</td>\n    </tr>\n  </tbody>\n</table>\n</div>"
          },
          "metadata": {}
        }
      ]
    },
    {
      "metadata": {
        "_uuid": "3c75391191dbb32cbd8fc2c9ce0a8a42707f139d",
        "_cell_guid": "5b58a77f-2e5f-42b6-85a2-395ef6922ccf",
        "trusted": true
      },
      "cell_type": "code",
      "source": "sns.barplot(x=df_train['Embarked'],y=df_train['Survived'] )",
      "execution_count": 8,
      "outputs": [
        {
          "output_type": "execute_result",
          "execution_count": 8,
          "data": {
            "text/plain": "<matplotlib.axes._subplots.AxesSubplot at 0x7f2f5a443be0>"
          },
          "metadata": {}
        },
        {
          "output_type": "display_data",
          "data": {
            "text/plain": "<matplotlib.figure.Figure at 0x7f2f5a44ff28>",
            "image/png": "[encoded data removed]"
          },
          "metadata": {}
        }
      ]
    },
    {
      "metadata": {
        "_uuid": "b77c96bec2cec1d1ff1d83373f654753cb3970e7",
        "_cell_guid": "081147e6-6320-46a5-9bd9-c43590790bef"
      },
      "cell_type": "markdown",
      "source": "### Findings:\n* Women and passengers from higher classes had a better chance of survival.\n* Women in Pclass 3 had lower survival rates than Pclass 1 and 2, which are above 90%. Men from Pclass 1 had slightly better survival rates than men in other classes.\n* Having family members improves survival than those travelling alone. On the contrary bigger familes sink together!\n* Passengers who embarked in C=Cherbourg had more chance of survival, followed by Q=Queenstown\n\n### Continuous Variables: Age, Fare vs Survival"
    },
    {
      "metadata": {
        "_uuid": "22fe0012f19ef9619bdf32e883fb2a8e03674333",
        "_cell_guid": "a91c863b-efb1-48fa-af08-c21e1a659823",
        "scrolled": true,
        "trusted": true
      },
      "cell_type": "code",
      "source": "plot_distribution( df_train , var = 'Age' , target = 'Survived', row = 'Sex')",
      "execution_count": 9,
      "outputs": [
        {
          "output_type": "display_data",
          "data": {
            "text/plain": "<matplotlib.figure.Figure at 0x7f2f5a5f5b00>",
            "image/png": "[encoded data removed]"
          },
          "metadata": {}
        }
      ]
    },
    {
      "metadata": {
        "_uuid": "3d32e1e40ec011a1573333871869eeeffdb19e5a",
        "_cell_guid": "d89bcc63-b329-4c1c-a4b1-0c5636f3efe0",
        "trusted": true
      },
      "cell_type": "code",
      "source": "plot_distribution( df_train , var = 'Age' , target = 'Survived')",
      "execution_count": 10,
      "outputs": [
        {
          "output_type": "display_data",
          "data": {
            "text/plain": "<matplotlib.figure.Figure at 0x7f2f5a42d550>",
            "image/png": "[encoded data removed]"
          },
          "metadata": {}
        }
      ]
    },
    {
      "metadata": {
        "_uuid": "c14cd13756a1b956eb2ff18861cf3b3772418f7f",
        "_cell_guid": "b7be96a8-6a74-4a8a-9174-8c99bc928e08",
        "trusted": true
      },
      "cell_type": "code",
      "source": "child = df_train[(df_train['Age']<=10)]\npd.pivot_table(child, index = ['Sex'], values = 'Survived')",
      "execution_count": 11,
      "outputs": [
        {
          "output_type": "execute_result",
          "execution_count": 11,
          "data": {
            "text/plain": "        Survived\nSex             \nfemale  0.612903\nmale    0.575758",
            "text/html": "<div>\n<style>\n    .dataframe thead tr:only-child th {\n        text-align: right;\n    }\n\n    .dataframe thead th {\n        text-align: left;\n    }\n\n    .dataframe tbody tr th {\n        vertical-align: top;\n    }\n</style>\n<table border=\"1\" class=\"dataframe\">\n  <thead>\n    <tr style=\"text-align: right;\">\n      <th></th>\n      <th>Survived</th>\n    </tr>\n    <tr>\n      <th>Sex</th>\n      <th></th>\n    </tr>\n  </thead>\n  <tbody>\n    <tr>\n      <th>female</th>\n      <td>0.612903</td>\n    </tr>\n    <tr>\n      <th>male</th>\n      <td>0.575758</td>\n    </tr>\n  </tbody>\n</table>\n</div>"
          },
          "metadata": {}
        }
      ]
    },
    {
      "metadata": {
        "_uuid": "7cbd60b46e6034c9c156eff18d1b39d8981b3ea7",
        "_cell_guid": "e23eea4b-2cc5-4609-be01-12cc99433dc5",
        "trusted": true
      },
      "cell_type": "code",
      "source": "plot_distribution( df_train , var = 'Fare' , target = 'Survived')",
      "execution_count": 12,
      "outputs": [
        {
          "output_type": "display_data",
          "data": {
            "text/plain": "<matplotlib.figure.Figure at 0x7f2f52f8a518>",
            "image/png": "[encoded data removed]"
          },
          "metadata": {}
        }
      ]
    },
    {
      "metadata": {
        "_uuid": "f2d2d5f913fa066406febff14ded24dc677207f6",
        "_cell_guid": "cdad2060-9d19-4c8c-a045-592702d3aeab"
      },
      "cell_type": "markdown",
      "source": "### Findings\n* Among males,  57.6% children age <=10 survived. The survival rate got lower as age increased, with an exception of age 80.\n* Among females, 61.2% children age <=10 survived, whereas, women in general had a good chance of survival.\n* Overall, children had better survival rates than adults\n*  Passengers who paid more fare had better chance of survival.\n\n### Decisions\nAge and Fare are continuous variables. These variables can be converted into categorical / ordinals by diving them into bands and assigning each band an ordinal value.\n"
    },
    {
      "metadata": {
        "_uuid": "190d978bca55a1e05f7d56e336b24d6b294b32b2",
        "_cell_guid": "3e182dac-66c7-4d69-ac4f-b05220dcac4b"
      },
      "cell_type": "markdown",
      "source": "## Feature Extraction and Data Cleaning \n\n**Missingness**\n* Filling missing Embarked in df_train: with most common port of embarkation\n* Filling missing fare df_test: with the median fare\n* Filling Missing Age : using KNN. lets push this task to post feature extraction, title could help with filling missing age.\n\n**Features to numeric**\n* Converting Sex to numeric (male:0 female:1)\n* Converting Embarked to numeric (S:0, C:1, Q:2)\n\n**Binning FamilySize**\n * FamilySize =1 | alone|  ordinal =0\n * FamilySize >1 and < 4 | small family | ordinal =1\n * FamilySize >4 | Large Family | ordinal = 2\n \n** Binning: Age bands and Fare bands**\n* Age: Ordinal age bands - By dividing age into 5 age groups\n* Fare: Ordinal fare bands - By dividing into 4 groups based on quantiles\n\n** Extracting new features**\n * **Title** counting number of titles in entire dataset (both test and train, since both need cleaning) , replacing rare titles and synonymous titles, giving category number to each title\n\n**Dropping columns**\n* Ticket\n* PassengerId\n* Name\n* Cabin"
    },
    {
      "metadata": {
        "_uuid": "942059863fe284c8d443d6528d683bcef1a0bdbc",
        "_cell_guid": "81492c85-3241-4252-abda-d3b9a161e1e4",
        "collapsed": true,
        "trusted": true
      },
      "cell_type": "code",
      "source": "#missing Embarked\nport_mode = df_train.Embarked.mode()[0]\n#port_mode\ndf_train['Embarked'] = df_train['Embarked'].fillna(port_mode)\n\n#missing Fare\nfare_median = df_test.Fare.median()\n#fare_median\ndf_test['Fare'] = df_test['Fare'].fillna(fare_median)",
      "execution_count": 13,
      "outputs": []
    },
    {
      "metadata": {
        "_uuid": "d02d89f5203669978847cbda6be3a0b3e9a1438b",
        "_cell_guid": "383c9ab3-0eaf-4ada-9d26-d4c051c8d453",
        "collapsed": true,
        "trusted": true
      },
      "cell_type": "code",
      "source": "#numeric values for Sex\nfor dataset in df_full:\n    dataset['Sex'] = dataset['Sex'].map( {'female': 1, 'male': 0} ).astype(int)",
      "execution_count": 14,
      "outputs": []
    },
    {
      "metadata": {
        "_uuid": "5b527ac628994955badbb0ecd09a49100d483b59",
        "_cell_guid": "aef575b8-f75b-4b66-907c-b1b0a4d93d00",
        "collapsed": true,
        "trusted": true
      },
      "cell_type": "code",
      "source": "#numeric values to Embarked\nfor dataset in df_full:\n    dataset['Embarked'] = dataset['Embarked'].map({'S':0 , 'C':1 , 'Q':2}).astype(int)",
      "execution_count": 15,
      "outputs": []
    },
    {
      "metadata": {
        "_uuid": "23718ad70c747bb4cfe36042aae7c6fdc05716f8",
        "_cell_guid": "8ed4da36-c2c5-4f67-b9db-30a6136b6c67",
        "trusted": true
      },
      "cell_type": "code",
      "source": "# Grouping Family Size to Ordinals\nfor dataset in df_full:\n    dataset['FamilySize'] = dataset['FamilySize'].replace([1], 0)\n    dataset['FamilySize'] = dataset['FamilySize'].replace([2,3,4], 1)\n    dataset['FamilySize'] = dataset['FamilySize'].replace([5,6,7,8,9,10,11], 2)\n\npd.pivot_table(df_train, index = 'FamilySize' , values= 'Survived')",
      "execution_count": 16,
      "outputs": [
        {
          "output_type": "execute_result",
          "execution_count": 16,
          "data": {
            "text/plain": "            Survived\nFamilySize          \n0           0.303538\n1           0.578767\n2           0.161290",
            "text/html": "<div>\n<style>\n    .dataframe thead tr:only-child th {\n        text-align: right;\n    }\n\n    .dataframe thead th {\n        text-align: left;\n    }\n\n    .dataframe tbody tr th {\n        vertical-align: top;\n    }\n</style>\n<table border=\"1\" class=\"dataframe\">\n  <thead>\n    <tr style=\"text-align: right;\">\n      <th></th>\n      <th>Survived</th>\n    </tr>\n    <tr>\n      <th>FamilySize</th>\n      <th></th>\n    </tr>\n  </thead>\n  <tbody>\n    <tr>\n      <th>0</th>\n      <td>0.303538</td>\n    </tr>\n    <tr>\n      <th>1</th>\n      <td>0.578767</td>\n    </tr>\n    <tr>\n      <th>2</th>\n      <td>0.161290</td>\n    </tr>\n  </tbody>\n</table>\n</div>"
          },
          "metadata": {}
        }
      ]
    },
    {
      "metadata": {
        "_uuid": "d35779acc855165dfac1bd79294cbb90532b8a0b",
        "_cell_guid": "9588356d-829d-432b-830b-5fd027d3e485",
        "trusted": true
      },
      "cell_type": "code",
      "source": "#quantiles for fare attribute\npd.qcut(df_train['Fare'],4, retbins=True)[1]",
      "execution_count": 17,
      "outputs": [
        {
          "output_type": "execute_result",
          "execution_count": 17,
          "data": {
            "text/plain": "array([   0.    ,    7.9104,   14.4542,   31.    ,  512.3292])"
          },
          "metadata": {}
        }
      ]
    },
    {
      "metadata": {
        "_uuid": "eca909db4c83e8d7d0ea48409d83345cac5cee91",
        "_cell_guid": "5b258fa3-9884-4311-8270-6d1a643a8566",
        "trusted": true
      },
      "cell_type": "code",
      "source": "#creating same bins for fare bands in train and test based on quantiles in train\n#giving ordinal labels 0-3\n\nbins = [0,7.91,14.454,31.0,513.0]\nlabels = [0,1,2,3]\n\nfor dataset in df_full:\n    dataset['Fareband'] = pd.cut(dataset['Fare'], bins=bins, labels=labels, include_lowest = True)\n    dataset['Fareband'] = dataset['Fareband'].astype(int)\n\npd.pivot_table(df_train, index = df_train['Fareband'],values = 'Survived' )",
      "execution_count": 18,
      "outputs": [
        {
          "output_type": "execute_result",
          "execution_count": 18,
          "data": {
            "text/plain": "          Survived\nFareband          \n0         0.197309\n1         0.308756\n2         0.445415\n3         0.581081",
            "text/html": "<div>\n<style>\n    .dataframe thead tr:only-child th {\n        text-align: right;\n    }\n\n    .dataframe thead th {\n        text-align: left;\n    }\n\n    .dataframe tbody tr th {\n        vertical-align: top;\n    }\n</style>\n<table border=\"1\" class=\"dataframe\">\n  <thead>\n    <tr style=\"text-align: right;\">\n      <th></th>\n      <th>Survived</th>\n    </tr>\n    <tr>\n      <th>Fareband</th>\n      <th></th>\n    </tr>\n  </thead>\n  <tbody>\n    <tr>\n      <th>0</th>\n      <td>0.197309</td>\n    </tr>\n    <tr>\n      <th>1</th>\n      <td>0.308756</td>\n    </tr>\n    <tr>\n      <th>2</th>\n      <td>0.445415</td>\n    </tr>\n    <tr>\n      <th>3</th>\n      <td>0.581081</td>\n    </tr>\n  </tbody>\n</table>\n</div>"
          },
          "metadata": {}
        }
      ]
    },
    {
      "metadata": {
        "_uuid": "38353fa2c2a03531ed200267526b0d7c7b20bd25",
        "_cell_guid": "b135f2ec-9dbd-44aa-934e-e5cea22f3eab",
        "collapsed": true,
        "trusted": true
      },
      "cell_type": "code",
      "source": "for dataset in df_full:\n dataset['Title'] = dataset.Name.str.extract(' ([A-Za-z]+)\\.', expand=False)",
      "execution_count": 19,
      "outputs": []
    },
    {
      "metadata": {
        "_uuid": "5abba08b7e9b93d8f5bb3b01828fe793dc8aad06",
        "_cell_guid": "cc9daee5-0635-49aa-8802-b7ca8cd0726b",
        "trusted": true
      },
      "cell_type": "code",
      "source": "# to get an idea of all titles in both datasets (to make cleaning easier)\nall_titles = df_test['Title'].append(df_train['Title'])\npd.crosstab(all_titles,'count')",
      "execution_count": 20,
      "outputs": [
        {
          "output_type": "execute_result",
          "execution_count": 20,
          "data": {
            "text/plain": "col_0     count\nTitle          \nCapt          1\nCol           4\nCountess      1\nDon           1\nDona          1\nDr            8\nJonkheer      1\nLady          1\nMajor         2\nMaster       61\nMiss        260\nMlle          2\nMme           1\nMr          757\nMrs         197\nMs            2\nRev           8\nSir           1",
            "text/html": "<div>\n<style>\n    .dataframe thead tr:only-child th {\n        text-align: right;\n    }\n\n    .dataframe thead th {\n        text-align: left;\n    }\n\n    .dataframe tbody tr th {\n        vertical-align: top;\n    }\n</style>\n<table border=\"1\" class=\"dataframe\">\n  <thead>\n    <tr style=\"text-align: right;\">\n      <th>col_0</th>\n      <th>count</th>\n    </tr>\n    <tr>\n      <th>Title</th>\n      <th></th>\n    </tr>\n  </thead>\n  <tbody>\n    <tr>\n      <th>Capt</th>\n      <td>1</td>\n    </tr>\n    <tr>\n      <th>Col</th>\n      <td>4</td>\n    </tr>\n    <tr>\n      <th>Countess</th>\n      <td>1</td>\n    </tr>\n    <tr>\n      <th>Don</th>\n      <td>1</td>\n    </tr>\n    <tr>\n      <th>Dona</th>\n      <td>1</td>\n    </tr>\n    <tr>\n      <th>Dr</th>\n      <td>8</td>\n    </tr>\n    <tr>\n      <th>Jonkheer</th>\n      <td>1</td>\n    </tr>\n    <tr>\n      <th>Lady</th>\n      <td>1</td>\n    </tr>\n    <tr>\n      <th>Major</th>\n      <td>2</td>\n    </tr>\n    <tr>\n      <th>Master</th>\n      <td>61</td>\n    </tr>\n    <tr>\n      <th>Miss</th>\n      <td>260</td>\n    </tr>\n    <tr>\n      <th>Mlle</th>\n      <td>2</td>\n    </tr>\n    <tr>\n      <th>Mme</th>\n      <td>1</td>\n    </tr>\n    <tr>\n      <th>Mr</th>\n      <td>757</td>\n    </tr>\n    <tr>\n      <th>Mrs</th>\n      <td>197</td>\n    </tr>\n    <tr>\n      <th>Ms</th>\n      <td>2</td>\n    </tr>\n    <tr>\n      <th>Rev</th>\n      <td>8</td>\n    </tr>\n    <tr>\n      <th>Sir</th>\n      <td>1</td>\n    </tr>\n  </tbody>\n</table>\n</div>"
          },
          "metadata": {}
        }
      ]
    },
    {
      "metadata": {
        "_uuid": "4138ba259bd4812e9e07206cfacdbb8a2238df8f",
        "_cell_guid": "a9820a3a-b078-444a-b94d-952bfbe3900d",
        "collapsed": true,
        "trusted": true
      },
      "cell_type": "code",
      "source": "for dataset in df_full:\n    dataset['Title'] = dataset['Title'].replace(['Mlle','Ms'],'Miss')\n    dataset['Title'] = dataset['Title'].replace(['Mme'], 'Mrs')\n    dataset['Title'] = dataset['Title'].replace(['Capt','Col','Don','Jonkheer','Major','Sir','Rev','Dr'],'Raremale')\n    dataset['Title'] = dataset['Title'].replace(['Countess','Dona','Lady'],'Rarefemale')",
      "execution_count": 21,
      "outputs": []
    },
    {
      "metadata": {
        "_uuid": "669b2e978a99d97f5e3ccf378a1a08e7345d8d0c",
        "_cell_guid": "af77f0fe-2f43-4723-a673-3f836eb60295",
        "trusted": true
      },
      "cell_type": "code",
      "source": "pd.pivot_table(df_train, index = df_train['Title'], values = 'Survived')",
      "execution_count": 22,
      "outputs": [
        {
          "output_type": "execute_result",
          "execution_count": 22,
          "data": {
            "text/plain": "            Survived\nTitle               \nMaster      0.575000\nMiss        0.702703\nMr          0.156673\nMrs         0.793651\nRarefemale  1.000000\nRaremale    0.285714",
            "text/html": "<div>\n<style>\n    .dataframe thead tr:only-child th {\n        text-align: right;\n    }\n\n    .dataframe thead th {\n        text-align: left;\n    }\n\n    .dataframe tbody tr th {\n        vertical-align: top;\n    }\n</style>\n<table border=\"1\" class=\"dataframe\">\n  <thead>\n    <tr style=\"text-align: right;\">\n      <th></th>\n      <th>Survived</th>\n    </tr>\n    <tr>\n      <th>Title</th>\n      <th></th>\n    </tr>\n  </thead>\n  <tbody>\n    <tr>\n      <th>Master</th>\n      <td>0.575000</td>\n    </tr>\n    <tr>\n      <th>Miss</th>\n      <td>0.702703</td>\n    </tr>\n    <tr>\n      <th>Mr</th>\n      <td>0.156673</td>\n    </tr>\n    <tr>\n      <th>Mrs</th>\n      <td>0.793651</td>\n    </tr>\n    <tr>\n      <th>Rarefemale</th>\n      <td>1.000000</td>\n    </tr>\n    <tr>\n      <th>Raremale</th>\n      <td>0.285714</td>\n    </tr>\n  </tbody>\n</table>\n</div>"
          },
          "metadata": {}
        }
      ]
    },
    {
      "metadata": {
        "_uuid": "3477e8295b144278813cdb1e912cf386d982992d",
        "_cell_guid": "cdb21721-0326-4860-80b9-d8b5e6898ad3",
        "collapsed": true,
        "trusted": true
      },
      "cell_type": "code",
      "source": "title_map = {\"Master\":1, \"Miss\":2, \"Mr\":3, \"Mrs\":4, \"Rarefemale\":5, \"Raremale\":6}\nfor dataset in df_full:\n    dataset['Title'] = dataset['Title'].map(title_map)\n    ",
      "execution_count": 23,
      "outputs": []
    },
    {
      "metadata": {
        "_uuid": "a1b2b87bf9dd165260743c00801a797a2e7cad48",
        "_cell_guid": "c436248e-7c71-442d-8034-893de8e4db23",
        "trusted": true
      },
      "cell_type": "code",
      "source": "df_train.head()\ndf_test.head()",
      "execution_count": 24,
      "outputs": [
        {
          "output_type": "execute_result",
          "execution_count": 24,
          "data": {
            "text/plain": "   PassengerId  Survived  Pclass  \\\n0            1         0       3   \n1            2         1       1   \n2            3         1       3   \n3            4         1       1   \n4            5         0       3   \n\n                                                Name  Sex   Age  SibSp  Parch  \\\n0                            Braund, Mr. Owen Harris    0  22.0      1      0   \n1  Cumings, Mrs. John Bradley (Florence Briggs Th...    1  38.0      1      0   \n2                             Heikkinen, Miss. Laina    1  26.0      0      0   \n3       Futrelle, Mrs. Jacques Heath (Lily May Peel)    1  35.0      1      0   \n4                           Allen, Mr. William Henry    0  35.0      0      0   \n\n             Ticket     Fare Cabin  Embarked  FamilySize  Fareband  Title  \n0         A/5 21171   7.2500   NaN         0           1         0      3  \n1          PC 17599  71.2833   C85         1           1         3      4  \n2  STON/O2. 3101282   7.9250   NaN         0           0         1      2  \n3            113803  53.1000  C123         0           1         3      4  \n4            373450   8.0500   NaN         0           0         1      3  ",
            "text/html": "<div>\n<style>\n    .dataframe thead tr:only-child th {\n        text-align: right;\n    }\n\n    .dataframe thead th {\n        text-align: left;\n    }\n\n    .dataframe tbody tr th {\n        vertical-align: top;\n    }\n</style>\n<table border=\"1\" class=\"dataframe\">\n  <thead>\n    <tr style=\"text-align: right;\">\n      <th></th>\n      <th>PassengerId</th>\n      <th>Survived</th>\n      <th>Pclass</th>\n      <th>Name</th>\n      <th>Sex</th>\n      <th>Age</th>\n      <th>SibSp</th>\n      <th>Parch</th>\n      <th>Ticket</th>\n      <th>Fare</th>\n      <th>Cabin</th>\n      <th>Embarked</th>\n      <th>FamilySize</th>\n      <th>Fareband</th>\n      <th>Title</th>\n    </tr>\n  </thead>\n  <tbody>\n    <tr>\n      <th>0</th>\n      <td>1</td>\n      <td>0</td>\n      <td>3</td>\n      <td>Braund, Mr. Owen Harris</td>\n      <td>0</td>\n      <td>22.0</td>\n      <td>1</td>\n      <td>0</td>\n      <td>A/5 21171</td>\n      <td>7.2500</td>\n      <td>NaN</td>\n      <td>0</td>\n      <td>1</td>\n      <td>0</td>\n      <td>3</td>\n    </tr>\n    <tr>\n      <th>1</th>\n      <td>2</td>\n      <td>1</td>\n      <td>1</td>\n      <td>Cumings, Mrs. John Bradley (Florence Briggs Th...</td>\n      <td>1</td>\n      <td>38.0</td>\n      <td>1</td>\n      <td>0</td>\n      <td>PC 17599</td>\n      <td>71.2833</td>\n      <td>C85</td>\n      <td>1</td>\n      <td>1</td>\n      <td>3</td>\n      <td>4</td>\n    </tr>\n    <tr>\n      <th>2</th>\n      <td>3</td>\n      <td>1</td>\n      <td>3</td>\n      <td>Heikkinen, Miss. Laina</td>\n      <td>1</td>\n      <td>26.0</td>\n      <td>0</td>\n      <td>0</td>\n      <td>STON/O2. 3101282</td>\n      <td>7.9250</td>\n      <td>NaN</td>\n      <td>0</td>\n      <td>0</td>\n      <td>1</td>\n      <td>2</td>\n    </tr>\n    <tr>\n      <th>3</th>\n      <td>4</td>\n      <td>1</td>\n      <td>1</td>\n      <td>Futrelle, Mrs. Jacques Heath (Lily May Peel)</td>\n      <td>1</td>\n      <td>35.0</td>\n      <td>1</td>\n      <td>0</td>\n      <td>113803</td>\n      <td>53.1000</td>\n      <td>C123</td>\n      <td>0</td>\n      <td>1</td>\n      <td>3</td>\n      <td>4</td>\n    </tr>\n    <tr>\n      <th>4</th>\n      <td>5</td>\n      <td>0</td>\n      <td>3</td>\n      <td>Allen, Mr. William Henry</td>\n      <td>0</td>\n      <td>35.0</td>\n      <td>0</td>\n      <td>0</td>\n      <td>373450</td>\n      <td>8.0500</td>\n      <td>NaN</td>\n      <td>0</td>\n      <td>0</td>\n      <td>1</td>\n      <td>3</td>\n    </tr>\n  </tbody>\n</table>\n</div>"
          },
          "metadata": {}
        },
        {
          "output_type": "execute_result",
          "execution_count": 24,
          "data": {
            "text/plain": "   PassengerId  Pclass                                          Name  Sex  \\\n0          892       3                              Kelly, Mr. James    0   \n1          893       3              Wilkes, Mrs. James (Ellen Needs)    1   \n2          894       2                     Myles, Mr. Thomas Francis    0   \n3          895       3                              Wirz, Mr. Albert    0   \n4          896       3  Hirvonen, Mrs. Alexander (Helga E Lindqvist)    1   \n\n    Age  SibSp  Parch   Ticket     Fare Cabin  Embarked  FamilySize  Fareband  \\\n0  34.5      0      0   330911   7.8292   NaN         2           0         0   \n1  47.0      1      0   363272   7.0000   NaN         0           1         0   \n2  62.0      0      0   240276   9.6875   NaN         2           0         1   \n3  27.0      0      0   315154   8.6625   NaN         0           0         1   \n4  22.0      1      1  3101298  12.2875   NaN         0           1         1   \n\n   Title  \n0      3  \n1      4  \n2      3  \n3      3  \n4      4  ",
            "text/html": "<div>\n<style>\n    .dataframe thead tr:only-child th {\n        text-align: right;\n    }\n\n    .dataframe thead th {\n        text-align: left;\n    }\n\n    .dataframe tbody tr th {\n        vertical-align: top;\n    }\n</style>\n<table border=\"1\" class=\"dataframe\">\n  <thead>\n    <tr style=\"text-align: right;\">\n      <th></th>\n      <th>PassengerId</th>\n      <th>Pclass</th>\n      <th>Name</th>\n      <th>Sex</th>\n      <th>Age</th>\n      <th>SibSp</th>\n      <th>Parch</th>\n      <th>Ticket</th>\n      <th>Fare</th>\n      <th>Cabin</th>\n      <th>Embarked</th>\n      <th>FamilySize</th>\n      <th>Fareband</th>\n      <th>Title</th>\n    </tr>\n  </thead>\n  <tbody>\n    <tr>\n      <th>0</th>\n      <td>892</td>\n      <td>3</td>\n      <td>Kelly, Mr. James</td>\n      <td>0</td>\n      <td>34.5</td>\n      <td>0</td>\n      <td>0</td>\n      <td>330911</td>\n      <td>7.8292</td>\n      <td>NaN</td>\n      <td>2</td>\n      <td>0</td>\n      <td>0</td>\n      <td>3</td>\n    </tr>\n    <tr>\n      <th>1</th>\n      <td>893</td>\n      <td>3</td>\n      <td>Wilkes, Mrs. James (Ellen Needs)</td>\n      <td>1</td>\n      <td>47.0</td>\n      <td>1</td>\n      <td>0</td>\n      <td>363272</td>\n      <td>7.0000</td>\n      <td>NaN</td>\n      <td>0</td>\n      <td>1</td>\n      <td>0</td>\n      <td>4</td>\n    </tr>\n    <tr>\n      <th>2</th>\n      <td>894</td>\n      <td>2</td>\n      <td>Myles, Mr. Thomas Francis</td>\n      <td>0</td>\n      <td>62.0</td>\n      <td>0</td>\n      <td>0</td>\n      <td>240276</td>\n      <td>9.6875</td>\n      <td>NaN</td>\n      <td>2</td>\n      <td>0</td>\n      <td>1</td>\n      <td>3</td>\n    </tr>\n    <tr>\n      <th>3</th>\n      <td>895</td>\n      <td>3</td>\n      <td>Wirz, Mr. Albert</td>\n      <td>0</td>\n      <td>27.0</td>\n      <td>0</td>\n      <td>0</td>\n      <td>315154</td>\n      <td>8.6625</td>\n      <td>NaN</td>\n      <td>0</td>\n      <td>0</td>\n      <td>1</td>\n      <td>3</td>\n    </tr>\n    <tr>\n      <th>4</th>\n      <td>896</td>\n      <td>3</td>\n      <td>Hirvonen, Mrs. Alexander (Helga E Lindqvist)</td>\n      <td>1</td>\n      <td>22.0</td>\n      <td>1</td>\n      <td>1</td>\n      <td>3101298</td>\n      <td>12.2875</td>\n      <td>NaN</td>\n      <td>0</td>\n      <td>1</td>\n      <td>1</td>\n      <td>4</td>\n    </tr>\n  </tbody>\n</table>\n</div>"
          },
          "metadata": {}
        }
      ]
    },
    {
      "metadata": {
        "_uuid": "7bfbd664ed2139b8bd2102f2875f7a44e9f6bf94",
        "_cell_guid": "18a18c26-ad95-4c50-97fa-b15d61e6dc93"
      },
      "cell_type": "markdown",
      "source": "### Fill in missing age, creating age bands, mapping age bands to ordinals\n"
    },
    {
      "metadata": {
        "_uuid": "9b3d3299586f212c617a0c32843d8fac67438b4a",
        "_cell_guid": "753cb0c2-9777-49a8-a821-d0675527b94e",
        "collapsed": true,
        "trusted": true
      },
      "cell_type": "code",
      "source": "#dropping columns which we may not need / use\nfor dataset in df_full:\n    dataset.drop(['Name','SibSp','Parch','Ticket','Cabin','Fare'], axis= 1, inplace = True)",
      "execution_count": 25,
      "outputs": []
    },
    {
      "metadata": {
        "_uuid": "bcb7ef9fcd688a7dd66e8e553551fe82a028a2e5",
        "_cell_guid": "a7c3c37d-1742-4fd6-a1e9-6b5c167b4505",
        "trusted": true
      },
      "cell_type": "code",
      "source": "#dataframes we are left with : age still has missing values\ndf_train.head()\ndf_test.head()",
      "execution_count": 26,
      "outputs": [
        {
          "output_type": "execute_result",
          "execution_count": 26,
          "data": {
            "text/plain": "   PassengerId  Survived  Pclass  Sex   Age  Embarked  FamilySize  Fareband  \\\n0            1         0       3    0  22.0         0           1         0   \n1            2         1       1    1  38.0         1           1         3   \n2            3         1       3    1  26.0         0           0         1   \n3            4         1       1    1  35.0         0           1         3   \n4            5         0       3    0  35.0         0           0         1   \n\n   Title  \n0      3  \n1      4  \n2      2  \n3      4  \n4      3  ",
            "text/html": "<div>\n<style>\n    .dataframe thead tr:only-child th {\n        text-align: right;\n    }\n\n    .dataframe thead th {\n        text-align: left;\n    }\n\n    .dataframe tbody tr th {\n        vertical-align: top;\n    }\n</style>\n<table border=\"1\" class=\"dataframe\">\n  <thead>\n    <tr style=\"text-align: right;\">\n      <th></th>\n      <th>PassengerId</th>\n      <th>Survived</th>\n      <th>Pclass</th>\n      <th>Sex</th>\n      <th>Age</th>\n      <th>Embarked</th>\n      <th>FamilySize</th>\n      <th>Fareband</th>\n      <th>Title</th>\n    </tr>\n  </thead>\n  <tbody>\n    <tr>\n      <th>0</th>\n      <td>1</td>\n      <td>0</td>\n      <td>3</td>\n      <td>0</td>\n      <td>22.0</td>\n      <td>0</td>\n      <td>1</td>\n      <td>0</td>\n      <td>3</td>\n    </tr>\n    <tr>\n      <th>1</th>\n      <td>2</td>\n      <td>1</td>\n      <td>1</td>\n      <td>1</td>\n      <td>38.0</td>\n      <td>1</td>\n      <td>1</td>\n      <td>3</td>\n      <td>4</td>\n    </tr>\n    <tr>\n      <th>2</th>\n      <td>3</td>\n      <td>1</td>\n      <td>3</td>\n      <td>1</td>\n      <td>26.0</td>\n      <td>0</td>\n      <td>0</td>\n      <td>1</td>\n      <td>2</td>\n    </tr>\n    <tr>\n      <th>3</th>\n      <td>4</td>\n      <td>1</td>\n      <td>1</td>\n      <td>1</td>\n      <td>35.0</td>\n      <td>0</td>\n      <td>1</td>\n      <td>3</td>\n      <td>4</td>\n    </tr>\n    <tr>\n      <th>4</th>\n      <td>5</td>\n      <td>0</td>\n      <td>3</td>\n      <td>0</td>\n      <td>35.0</td>\n      <td>0</td>\n      <td>0</td>\n      <td>1</td>\n      <td>3</td>\n    </tr>\n  </tbody>\n</table>\n</div>"
          },
          "metadata": {}
        },
        {
          "output_type": "execute_result",
          "execution_count": 26,
          "data": {
            "text/plain": "   PassengerId  Pclass  Sex   Age  Embarked  FamilySize  Fareband  Title\n0          892       3    0  34.5         2           0         0      3\n1          893       3    1  47.0         0           1         0      4\n2          894       2    0  62.0         2           0         1      3\n3          895       3    0  27.0         0           0         1      3\n4          896       3    1  22.0         0           1         1      4",
            "text/html": "<div>\n<style>\n    .dataframe thead tr:only-child th {\n        text-align: right;\n    }\n\n    .dataframe thead th {\n        text-align: left;\n    }\n\n    .dataframe tbody tr th {\n        vertical-align: top;\n    }\n</style>\n<table border=\"1\" class=\"dataframe\">\n  <thead>\n    <tr style=\"text-align: right;\">\n      <th></th>\n      <th>PassengerId</th>\n      <th>Pclass</th>\n      <th>Sex</th>\n      <th>Age</th>\n      <th>Embarked</th>\n      <th>FamilySize</th>\n      <th>Fareband</th>\n      <th>Title</th>\n    </tr>\n  </thead>\n  <tbody>\n    <tr>\n      <th>0</th>\n      <td>892</td>\n      <td>3</td>\n      <td>0</td>\n      <td>34.5</td>\n      <td>2</td>\n      <td>0</td>\n      <td>0</td>\n      <td>3</td>\n    </tr>\n    <tr>\n      <th>1</th>\n      <td>893</td>\n      <td>3</td>\n      <td>1</td>\n      <td>47.0</td>\n      <td>0</td>\n      <td>1</td>\n      <td>0</td>\n      <td>4</td>\n    </tr>\n    <tr>\n      <th>2</th>\n      <td>894</td>\n      <td>2</td>\n      <td>0</td>\n      <td>62.0</td>\n      <td>2</td>\n      <td>0</td>\n      <td>1</td>\n      <td>3</td>\n    </tr>\n    <tr>\n      <th>3</th>\n      <td>895</td>\n      <td>3</td>\n      <td>0</td>\n      <td>27.0</td>\n      <td>0</td>\n      <td>0</td>\n      <td>1</td>\n      <td>3</td>\n    </tr>\n    <tr>\n      <th>4</th>\n      <td>896</td>\n      <td>3</td>\n      <td>1</td>\n      <td>22.0</td>\n      <td>0</td>\n      <td>1</td>\n      <td>1</td>\n      <td>4</td>\n    </tr>\n  </tbody>\n</table>\n</div>"
          },
          "metadata": {}
        }
      ]
    },
    {
      "metadata": {
        "_kg_hide-output": true,
        "_uuid": "67c3b159cd9b9003ca7b3333f4b6e9ffa3e7130e",
        "_cell_guid": "287e2e57-1a54-4833-bd32-70aeae28a346",
        "scrolled": true,
        "trusted": true
      },
      "cell_type": "code",
      "source": "#impute age in df_train and df_test\nfor dataset in df_full:\n    new_df = dataset[['PassengerId','Pclass','Sex','Age','Embarked','FamilySize','Fareband','Title']]\n    filled = KNN(k=3).complete(new_df)\n    filled = pd.DataFrame(filled, columns =['PassengerId','Pclass','Sex','Age','Embarked','FamilySize','Fareband','Title'])\n#separate modifying original dataframe, add histograms for comparison\n    dataset['Age'] = filled['Age']\n    dataset.head()\n    dataset.isnull().sum()\n",
      "execution_count": 27,
      "outputs": [
        {
          "output_type": "stream",
          "text": "Imputing row 1/891 with 0 missing, elapsed time: 0.112\nImputing row 101/891 with 0 missing, elapsed time: 0.113\nImputing row 201/891 with 0 missing, elapsed time: 0.114\nImputing row 301/891 with 1 missing, elapsed time: 0.114\nImputing row 401/891 with 0 missing, elapsed time: 0.115\nImputing row 501/891 with 0 missing, elapsed time: 0.116\nImputing row 601/891 with 0 missing, elapsed time: 0.117\nImputing row 701/891 with 0 missing, elapsed time: 0.117\nImputing row 801/891 with 0 missing, elapsed time: 0.119\n",
          "name": "stdout"
        },
        {
          "output_type": "execute_result",
          "execution_count": 27,
          "data": {
            "text/plain": "   PassengerId  Survived  Pclass  Sex   Age  Embarked  FamilySize  Fareband  \\\n0            1         0       3    0  22.0         0           1         0   \n1            2         1       1    1  38.0         1           1         3   \n2            3         1       3    1  26.0         0           0         1   \n3            4         1       1    1  35.0         0           1         3   \n4            5         0       3    0  35.0         0           0         1   \n\n   Title  \n0      3  \n1      4  \n2      2  \n3      4  \n4      3  ",
            "text/html": "<div>\n<style>\n    .dataframe thead tr:only-child th {\n        text-align: right;\n    }\n\n    .dataframe thead th {\n        text-align: left;\n    }\n\n    .dataframe tbody tr th {\n        vertical-align: top;\n    }\n</style>\n<table border=\"1\" class=\"dataframe\">\n  <thead>\n    <tr style=\"text-align: right;\">\n      <th></th>\n      <th>PassengerId</th>\n      <th>Survived</th>\n      <th>Pclass</th>\n      <th>Sex</th>\n      <th>Age</th>\n      <th>Embarked</th>\n      <th>FamilySize</th>\n      <th>Fareband</th>\n      <th>Title</th>\n    </tr>\n  </thead>\n  <tbody>\n    <tr>\n      <th>0</th>\n      <td>1</td>\n      <td>0</td>\n      <td>3</td>\n      <td>0</td>\n      <td>22.0</td>\n      <td>0</td>\n      <td>1</td>\n      <td>0</td>\n      <td>3</td>\n    </tr>\n    <tr>\n      <th>1</th>\n      <td>2</td>\n      <td>1</td>\n      <td>1</td>\n      <td>1</td>\n      <td>38.0</td>\n      <td>1</td>\n      <td>1</td>\n      <td>3</td>\n      <td>4</td>\n    </tr>\n    <tr>\n      <th>2</th>\n      <td>3</td>\n      <td>1</td>\n      <td>3</td>\n      <td>1</td>\n      <td>26.0</td>\n      <td>0</td>\n      <td>0</td>\n      <td>1</td>\n      <td>2</td>\n    </tr>\n    <tr>\n      <th>3</th>\n      <td>4</td>\n      <td>1</td>\n      <td>1</td>\n      <td>1</td>\n      <td>35.0</td>\n      <td>0</td>\n      <td>1</td>\n      <td>3</td>\n      <td>4</td>\n    </tr>\n    <tr>\n      <th>4</th>\n      <td>5</td>\n      <td>0</td>\n      <td>3</td>\n      <td>0</td>\n      <td>35.0</td>\n      <td>0</td>\n      <td>0</td>\n      <td>1</td>\n      <td>3</td>\n    </tr>\n  </tbody>\n</table>\n</div>"
          },
          "metadata": {}
        },
        {
          "output_type": "execute_result",
          "execution_count": 27,
          "data": {
            "text/plain": "PassengerId    0\nSurvived       0\nPclass         0\nSex            0\nAge            0\nEmbarked       0\nFamilySize     0\nFareband       0\nTitle          0\ndtype: int64"
          },
          "metadata": {}
        },
        {
          "output_type": "stream",
          "text": "Imputing row 1/418 with 0 missing, elapsed time: 0.025\nImputing row 101/418 with 0 missing, elapsed time: 0.026\nImputing row 201/418 with 1 missing, elapsed time: 0.027\nImputing row 301/418 with 0 missing, elapsed time: 0.027\nImputing row 401/418 with 0 missing, elapsed time: 0.028\n",
          "name": "stdout"
        },
        {
          "output_type": "execute_result",
          "execution_count": 27,
          "data": {
            "text/plain": "   PassengerId  Pclass  Sex   Age  Embarked  FamilySize  Fareband  Title\n0          892       3    0  34.5         2           0         0      3\n1          893       3    1  47.0         0           1         0      4\n2          894       2    0  62.0         2           0         1      3\n3          895       3    0  27.0         0           0         1      3\n4          896       3    1  22.0         0           1         1      4",
            "text/html": "<div>\n<style>\n    .dataframe thead tr:only-child th {\n        text-align: right;\n    }\n\n    .dataframe thead th {\n        text-align: left;\n    }\n\n    .dataframe tbody tr th {\n        vertical-align: top;\n    }\n</style>\n<table border=\"1\" class=\"dataframe\">\n  <thead>\n    <tr style=\"text-align: right;\">\n      <th></th>\n      <th>PassengerId</th>\n      <th>Pclass</th>\n      <th>Sex</th>\n      <th>Age</th>\n      <th>Embarked</th>\n      <th>FamilySize</th>\n      <th>Fareband</th>\n      <th>Title</th>\n    </tr>\n  </thead>\n  <tbody>\n    <tr>\n      <th>0</th>\n      <td>892</td>\n      <td>3</td>\n      <td>0</td>\n      <td>34.5</td>\n      <td>2</td>\n      <td>0</td>\n      <td>0</td>\n      <td>3</td>\n    </tr>\n    <tr>\n      <th>1</th>\n      <td>893</td>\n      <td>3</td>\n      <td>1</td>\n      <td>47.0</td>\n      <td>0</td>\n      <td>1</td>\n      <td>0</td>\n      <td>4</td>\n    </tr>\n    <tr>\n      <th>2</th>\n      <td>894</td>\n      <td>2</td>\n      <td>0</td>\n      <td>62.0</td>\n      <td>2</td>\n      <td>0</td>\n      <td>1</td>\n      <td>3</td>\n    </tr>\n    <tr>\n      <th>3</th>\n      <td>895</td>\n      <td>3</td>\n      <td>0</td>\n      <td>27.0</td>\n      <td>0</td>\n      <td>0</td>\n      <td>1</td>\n      <td>3</td>\n    </tr>\n    <tr>\n      <th>4</th>\n      <td>896</td>\n      <td>3</td>\n      <td>1</td>\n      <td>22.0</td>\n      <td>0</td>\n      <td>1</td>\n      <td>1</td>\n      <td>4</td>\n    </tr>\n  </tbody>\n</table>\n</div>"
          },
          "metadata": {}
        },
        {
          "output_type": "execute_result",
          "execution_count": 27,
          "data": {
            "text/plain": "PassengerId    0\nPclass         0\nSex            0\nAge            0\nEmbarked       0\nFamilySize     0\nFareband       0\nTitle          0\ndtype: int64"
          },
          "metadata": {}
        }
      ]
    },
    {
      "metadata": {
        "_uuid": "1f50a464a5dce59eaab3dc88d3cdce54496f6a8e",
        "_cell_guid": "9b260e88-8b81-418a-aa93-cf67f109208a",
        "collapsed": true,
        "trusted": true
      },
      "cell_type": "code",
      "source": "#hist before and after imputation\n#plt.hist(filled['Age'],bins=10, alpha=0.5)\n#plt.hist(new_df.Age[~np.isnan(df_train.Age)], bins =10, alpha = 0.5)",
      "execution_count": 28,
      "outputs": []
    },
    {
      "metadata": {
        "_uuid": "e9c4c975110db39c2c547d9e1602ef4e8e5ed8a1",
        "_cell_guid": "c8c43f86-7c85-4ea2-9218-5674b1357c4c",
        "collapsed": true,
        "trusted": true
      },
      "cell_type": "code",
      "source": "#plt.hist(filled_df['Age'],bins=10, alpha=0.5)\n#plt.hist(df_train.Age[~np.isnan(df_train.Age)], bins =10, alpha = 0.5)\n#plt.hist(df_test.Age[~np.isnan(df_test.Age)], bins =10, alpha = 0.5)",
      "execution_count": 29,
      "outputs": []
    },
    {
      "metadata": {
        "_uuid": "684da02044210e34be1c402aa4ff000aeef89912",
        "_cell_guid": "54d44ca9-3ece-4249-9cfe-8c61bdb1bb6a",
        "trusted": true
      },
      "cell_type": "code",
      "source": "#Discretize age into 5 equal groups and assign ordinal agebands\npd.cut(df_train['Age'],5).unique()\nbins = [0,16,32,48,64,80]\nlabels = [0,1,2,3,4]\n\nfor dataset in df_full:\n    dataset['Ageband'] = pd.cut(dataset['Age'],bins = bins,labels = labels, include_lowest=True)\n    dataset['Ageband'] = dataset['Ageband'].astype(int)\n\npd.pivot_table(df_train, index = ['Ageband'],values = 'Survived',columns=['Sex'])",
      "execution_count": 30,
      "outputs": [
        {
          "output_type": "execute_result",
          "execution_count": 30,
          "data": {
            "text/plain": "[(16.336, 32.252], (32.252, 48.168], (48.168, 64.084], (0.34, 16.336], (64.084, 80.0]]\nCategories (5, interval[float64]): [(0.34, 16.336] < (16.336, 32.252] < (32.252, 48.168] < (48.168, 64.084] < (64.084, 80.0]]"
          },
          "metadata": {}
        },
        {
          "output_type": "execute_result",
          "execution_count": 30,
          "data": {
            "text/plain": "Sex             0         1\nAgeband                    \n0        0.421053  0.673077\n1        0.167235  0.709459\n2        0.155689  0.784091\n3        0.183673  0.923077\n4        0.090909       NaN",
            "text/html": "<div>\n<style>\n    .dataframe thead tr:only-child th {\n        text-align: right;\n    }\n\n    .dataframe thead th {\n        text-align: left;\n    }\n\n    .dataframe tbody tr th {\n        vertical-align: top;\n    }\n</style>\n<table border=\"1\" class=\"dataframe\">\n  <thead>\n    <tr style=\"text-align: right;\">\n      <th>Sex</th>\n      <th>0</th>\n      <th>1</th>\n    </tr>\n    <tr>\n      <th>Ageband</th>\n      <th></th>\n      <th></th>\n    </tr>\n  </thead>\n  <tbody>\n    <tr>\n      <th>0</th>\n      <td>0.421053</td>\n      <td>0.673077</td>\n    </tr>\n    <tr>\n      <th>1</th>\n      <td>0.167235</td>\n      <td>0.709459</td>\n    </tr>\n    <tr>\n      <th>2</th>\n      <td>0.155689</td>\n      <td>0.784091</td>\n    </tr>\n    <tr>\n      <th>3</th>\n      <td>0.183673</td>\n      <td>0.923077</td>\n    </tr>\n    <tr>\n      <th>4</th>\n      <td>0.090909</td>\n      <td>NaN</td>\n    </tr>\n  </tbody>\n</table>\n</div>"
          },
          "metadata": {}
        }
      ]
    },
    {
      "metadata": {
        "_uuid": "3a3e36ddd1c22cbf3a56b7ca820292e7d92dbe88",
        "_cell_guid": "aaa8c592-ee2a-4b15-baf7-e07c635dec5e",
        "trusted": true
      },
      "cell_type": "code",
      "source": "for dataset in df_full:\n    dataset.drop(\"Age\", axis= 1, inplace = True)\n    \ndf_train.head()\ndf_test.head()",
      "execution_count": 31,
      "outputs": [
        {
          "output_type": "execute_result",
          "execution_count": 31,
          "data": {
            "text/plain": "   PassengerId  Survived  Pclass  Sex  Embarked  FamilySize  Fareband  Title  \\\n0            1         0       3    0         0           1         0      3   \n1            2         1       1    1         1           1         3      4   \n2            3         1       3    1         0           0         1      2   \n3            4         1       1    1         0           1         3      4   \n4            5         0       3    0         0           0         1      3   \n\n   Ageband  \n0        1  \n1        2  \n2        1  \n3        2  \n4        2  ",
            "text/html": "<div>\n<style>\n    .dataframe thead tr:only-child th {\n        text-align: right;\n    }\n\n    .dataframe thead th {\n        text-align: left;\n    }\n\n    .dataframe tbody tr th {\n        vertical-align: top;\n    }\n</style>\n<table border=\"1\" class=\"dataframe\">\n  <thead>\n    <tr style=\"text-align: right;\">\n      <th></th>\n      <th>PassengerId</th>\n      <th>Survived</th>\n      <th>Pclass</th>\n      <th>Sex</th>\n      <th>Embarked</th>\n      <th>FamilySize</th>\n      <th>Fareband</th>\n      <th>Title</th>\n      <th>Ageband</th>\n    </tr>\n  </thead>\n  <tbody>\n    <tr>\n      <th>0</th>\n      <td>1</td>\n      <td>0</td>\n      <td>3</td>\n      <td>0</td>\n      <td>0</td>\n      <td>1</td>\n      <td>0</td>\n      <td>3</td>\n      <td>1</td>\n    </tr>\n    <tr>\n      <th>1</th>\n      <td>2</td>\n      <td>1</td>\n      <td>1</td>\n      <td>1</td>\n      <td>1</td>\n      <td>1</td>\n      <td>3</td>\n      <td>4</td>\n      <td>2</td>\n    </tr>\n    <tr>\n      <th>2</th>\n      <td>3</td>\n      <td>1</td>\n      <td>3</td>\n      <td>1</td>\n      <td>0</td>\n      <td>0</td>\n      <td>1</td>\n      <td>2</td>\n      <td>1</td>\n    </tr>\n    <tr>\n      <th>3</th>\n      <td>4</td>\n      <td>1</td>\n      <td>1</td>\n      <td>1</td>\n      <td>0</td>\n      <td>1</td>\n      <td>3</td>\n      <td>4</td>\n      <td>2</td>\n    </tr>\n    <tr>\n      <th>4</th>\n      <td>5</td>\n      <td>0</td>\n      <td>3</td>\n      <td>0</td>\n      <td>0</td>\n      <td>0</td>\n      <td>1</td>\n      <td>3</td>\n      <td>2</td>\n    </tr>\n  </tbody>\n</table>\n</div>"
          },
          "metadata": {}
        },
        {
          "output_type": "execute_result",
          "execution_count": 31,
          "data": {
            "text/plain": "   PassengerId  Pclass  Sex  Embarked  FamilySize  Fareband  Title  Ageband\n0          892       3    0         2           0         0      3        2\n1          893       3    1         0           1         0      4        2\n2          894       2    0         2           0         1      3        3\n3          895       3    0         0           0         1      3        1\n4          896       3    1         0           1         1      4        1",
            "text/html": "<div>\n<style>\n    .dataframe thead tr:only-child th {\n        text-align: right;\n    }\n\n    .dataframe thead th {\n        text-align: left;\n    }\n\n    .dataframe tbody tr th {\n        vertical-align: top;\n    }\n</style>\n<table border=\"1\" class=\"dataframe\">\n  <thead>\n    <tr style=\"text-align: right;\">\n      <th></th>\n      <th>PassengerId</th>\n      <th>Pclass</th>\n      <th>Sex</th>\n      <th>Embarked</th>\n      <th>FamilySize</th>\n      <th>Fareband</th>\n      <th>Title</th>\n      <th>Ageband</th>\n    </tr>\n  </thead>\n  <tbody>\n    <tr>\n      <th>0</th>\n      <td>892</td>\n      <td>3</td>\n      <td>0</td>\n      <td>2</td>\n      <td>0</td>\n      <td>0</td>\n      <td>3</td>\n      <td>2</td>\n    </tr>\n    <tr>\n      <th>1</th>\n      <td>893</td>\n      <td>3</td>\n      <td>1</td>\n      <td>0</td>\n      <td>1</td>\n      <td>0</td>\n      <td>4</td>\n      <td>2</td>\n    </tr>\n    <tr>\n      <th>2</th>\n      <td>894</td>\n      <td>2</td>\n      <td>0</td>\n      <td>2</td>\n      <td>0</td>\n      <td>1</td>\n      <td>3</td>\n      <td>3</td>\n    </tr>\n    <tr>\n      <th>3</th>\n      <td>895</td>\n      <td>3</td>\n      <td>0</td>\n      <td>0</td>\n      <td>0</td>\n      <td>1</td>\n      <td>3</td>\n      <td>1</td>\n    </tr>\n    <tr>\n      <th>4</th>\n      <td>896</td>\n      <td>3</td>\n      <td>1</td>\n      <td>0</td>\n      <td>1</td>\n      <td>1</td>\n      <td>4</td>\n      <td>1</td>\n    </tr>\n  </tbody>\n</table>\n</div>"
          },
          "metadata": {}
        }
      ]
    },
    {
      "metadata": {
        "_uuid": "fd9b2214f1f698f7004e65a79e07f7295361e8d8",
        "_cell_guid": "4a001bc8-4db0-4413-9a9a-c37df25050f5"
      },
      "cell_type": "markdown",
      "source": "## Model Building and Prediction\n* Creating variables for building our models\n* Training the models\n* Calculating accuracy/score (during training)"
    },
    {
      "metadata": {
        "_uuid": "59e12bec437e8fcb6145695392fad41114b795ad",
        "_cell_guid": "34cfc6d0-60e7-4e5b-b643-2a1098ee13fe",
        "collapsed": true,
        "trusted": true
      },
      "cell_type": "code",
      "source": "# Variables needed for building prediction model\nX_train = df_train.drop([\"Survived\",\"PassengerId\"], axis=1)\nY_train = df_train[\"Survived\"]\nX_test  = df_test.drop([\"PassengerId\"], axis=1).copy()",
      "execution_count": 32,
      "outputs": []
    },
    {
      "metadata": {
        "_uuid": "b10f1b1ff72c10d1f67a225ccbf343a5f3aa4f93",
        "_cell_guid": "bb9ef7cf-41b6-4597-9694-829288a227cf",
        "trusted": true
      },
      "cell_type": "code",
      "source": "#logistic regression\nlogreg = LogisticRegression()\nlogreg.fit(X_train, Y_train)\nY_pred = logreg.predict(X_test)\n#Y_pred\nacc_log = round(logreg.score(X_train, Y_train) * 100, 2)\nacc_log",
      "execution_count": 33,
      "outputs": [
        {
          "output_type": "execute_result",
          "execution_count": 33,
          "data": {
            "text/plain": "LogisticRegression(C=1.0, class_weight=None, dual=False, fit_intercept=True,\n          intercept_scaling=1, max_iter=100, multi_class='ovr', n_jobs=1,\n          penalty='l2', random_state=None, solver='liblinear', tol=0.0001,\n          verbose=0, warm_start=False)"
          },
          "metadata": {}
        },
        {
          "output_type": "execute_result",
          "execution_count": 33,
          "data": {
            "text/plain": "78.900000000000006"
          },
          "metadata": {}
        }
      ]
    },
    {
      "metadata": {
        "_uuid": "571bd644268826c197b5e98e32956b6f387ac77d",
        "_cell_guid": "dc229f2f-ba29-4e68-8d7a-204e5e91c36d",
        "trusted": true
      },
      "cell_type": "code",
      "source": "# Support Vector Machines\n\nsvc = SVC()\nsvc.fit(X_train, Y_train)\nY_pred = svc.predict(X_test)\nacc_svc = round(svc.score(X_train, Y_train) * 100, 2)\nacc_svc",
      "execution_count": 34,
      "outputs": [
        {
          "output_type": "execute_result",
          "execution_count": 34,
          "data": {
            "text/plain": "SVC(C=1.0, cache_size=200, class_weight=None, coef0=0.0,\n  decision_function_shape='ovr', degree=3, gamma='auto', kernel='rbf',\n  max_iter=-1, probability=False, random_state=None, shrinking=True,\n  tol=0.001, verbose=False)"
          },
          "metadata": {}
        },
        {
          "output_type": "execute_result",
          "execution_count": 34,
          "data": {
            "text/plain": "83.5"
          },
          "metadata": {}
        }
      ]
    },
    {
      "metadata": {
        "_uuid": "113a17c3ce9316f3717999d07fe3a05dcb081ad4",
        "_cell_guid": "27d33d0b-7186-4fcb-a94e-989330ff57fa",
        "trusted": true
      },
      "cell_type": "code",
      "source": "# Decision Tree\n\ndecision_tree = DecisionTreeClassifier()\ndecision_tree.fit(X_train, Y_train)\nY_pred = decision_tree.predict(X_test)\nacc_decision_tree = round(decision_tree.score(X_train, Y_train) * 100, 2)\nacc_decision_tree",
      "execution_count": 35,
      "outputs": [
        {
          "output_type": "execute_result",
          "execution_count": 35,
          "data": {
            "text/plain": "DecisionTreeClassifier(class_weight=None, criterion='gini', max_depth=None,\n            max_features=None, max_leaf_nodes=None,\n            min_impurity_decrease=0.0, min_impurity_split=None,\n            min_samples_leaf=1, min_samples_split=2,\n            min_weight_fraction_leaf=0.0, presort=False, random_state=None,\n            splitter='best')"
          },
          "metadata": {}
        },
        {
          "output_type": "execute_result",
          "execution_count": 35,
          "data": {
            "text/plain": "88.099999999999994"
          },
          "metadata": {}
        }
      ]
    },
    {
      "metadata": {
        "_uuid": "bdbee63177b7ea23b22ec1af92766558f60f4c35",
        "_cell_guid": "ba52f267-8bfd-4351-b0da-eefe6fcedab7",
        "trusted": true
      },
      "cell_type": "code",
      "source": "#KNN k=3\n\nknn = KNeighborsClassifier(n_neighbors = 3)\nknn.fit(X_train, Y_train)\nY_pred = knn.predict(X_test)\nacc_knn = round(knn.score(X_train, Y_train) * 100, 2)\nacc_knn",
      "execution_count": 36,
      "outputs": [
        {
          "output_type": "execute_result",
          "execution_count": 36,
          "data": {
            "text/plain": "KNeighborsClassifier(algorithm='auto', leaf_size=30, metric='minkowski',\n           metric_params=None, n_jobs=1, n_neighbors=3, p=2,\n           weights='uniform')"
          },
          "metadata": {}
        },
        {
          "output_type": "execute_result",
          "execution_count": 36,
          "data": {
            "text/plain": "85.189999999999998"
          },
          "metadata": {}
        }
      ]
    },
    {
      "metadata": {
        "_uuid": "3641f2dbb8255a6e4eb05bc403980b2f0c5b233d",
        "_cell_guid": "95e33582-c0cf-4965-9152-65f6f77ea820",
        "trusted": true
      },
      "cell_type": "code",
      "source": "# Gaussian Naive Bayes\n\ngaussian = GaussianNB()\ngaussian.fit(X_train, Y_train)\nY_pred = gaussian.predict(X_test)\nacc_gaussian = round(gaussian.score(X_train, Y_train) * 100, 2)\nacc_gaussian",
      "execution_count": 37,
      "outputs": [
        {
          "output_type": "execute_result",
          "execution_count": 37,
          "data": {
            "text/plain": "GaussianNB(priors=None)"
          },
          "metadata": {}
        },
        {
          "output_type": "execute_result",
          "execution_count": 37,
          "data": {
            "text/plain": "77.780000000000001"
          },
          "metadata": {}
        }
      ]
    },
    {
      "metadata": {
        "_uuid": "45d046fc7c9c576e19738432ab47dfb032ba3f6b",
        "_cell_guid": "feb32e1e-052e-441a-99eb-30a0d9917cd3",
        "trusted": true
      },
      "cell_type": "code",
      "source": "# Perceptron\n\nperceptron = Perceptron()\nperceptron.fit(X_train, Y_train)\nY_pred = perceptron.predict(X_test)\nacc_perceptron = round(perceptron.score(X_train, Y_train) * 100, 2)\nacc_perceptron",
      "execution_count": 38,
      "outputs": [
        {
          "output_type": "stream",
          "text": "/opt/conda/lib/python3.6/site-packages/sklearn/linear_model/stochastic_gradient.py:128: FutureWarning: max_iter and tol parameters have been added in <class 'sklearn.linear_model.perceptron.Perceptron'> in 0.19. If both are left unset, they default to max_iter=5 and tol=None. If tol is not None, max_iter defaults to max_iter=1000. From 0.21, default max_iter will be 1000, and default tol will be 1e-3.\n  \"and default tol will be 1e-3.\" % type(self), FutureWarning)\n",
          "name": "stderr"
        },
        {
          "output_type": "execute_result",
          "execution_count": 38,
          "data": {
            "text/plain": "Perceptron(alpha=0.0001, class_weight=None, eta0=1.0, fit_intercept=True,\n      max_iter=None, n_iter=None, n_jobs=1, penalty=None, random_state=0,\n      shuffle=True, tol=None, verbose=0, warm_start=False)"
          },
          "metadata": {}
        },
        {
          "output_type": "execute_result",
          "execution_count": 38,
          "data": {
            "text/plain": "80.700000000000003"
          },
          "metadata": {}
        }
      ]
    },
    {
      "metadata": {
        "_uuid": "f3fd24ec98010e2f917b6b2cc06b70baf914f263",
        "_cell_guid": "56e5a181-8deb-40d6-a80d-a11834bd81b8",
        "trusted": true
      },
      "cell_type": "code",
      "source": "# Stochastic Gradient Descent\n\nsgd = SGDClassifier()\nsgd.fit(X_train, Y_train)\nY_pred = sgd.predict(X_test)\nacc_sgd = round(sgd.score(X_train, Y_train) * 100, 2)\nacc_sgd",
      "execution_count": 39,
      "outputs": [
        {
          "output_type": "stream",
          "text": "/opt/conda/lib/python3.6/site-packages/sklearn/linear_model/stochastic_gradient.py:128: FutureWarning: max_iter and tol parameters have been added in <class 'sklearn.linear_model.stochastic_gradient.SGDClassifier'> in 0.19. If both are left unset, they default to max_iter=5 and tol=None. If tol is not None, max_iter defaults to max_iter=1000. From 0.21, default max_iter will be 1000, and default tol will be 1e-3.\n  \"and default tol will be 1e-3.\" % type(self), FutureWarning)\n",
          "name": "stderr"
        },
        {
          "output_type": "execute_result",
          "execution_count": 39,
          "data": {
            "text/plain": "SGDClassifier(alpha=0.0001, average=False, class_weight=None, epsilon=0.1,\n       eta0=0.0, fit_intercept=True, l1_ratio=0.15,\n       learning_rate='optimal', loss='hinge', max_iter=None, n_iter=None,\n       n_jobs=1, penalty='l2', power_t=0.5, random_state=None,\n       shuffle=True, tol=None, verbose=0, warm_start=False)"
          },
          "metadata": {}
        },
        {
          "output_type": "execute_result",
          "execution_count": 39,
          "data": {
            "text/plain": "69.579999999999998"
          },
          "metadata": {}
        }
      ]
    },
    {
      "metadata": {
        "_uuid": "81000233c449a5ae415efd937e2adb695b9ba806",
        "_cell_guid": "9c973fd8-293f-4381-89d6-31adcce6516a",
        "trusted": true
      },
      "cell_type": "code",
      "source": "#X_train['Fareband'] = X_train['Fareband'].astype('int')\n#X_train.apply(pd.to_numeric)\nX_train.info()\n\nxgb = XGBClassifier()\nxgb.fit(X_train,Y_train)\ny_pred = xgb.predict(X_test)\n\nacc_xgb = round(sgd.score(X_train, Y_train) * 100, 2)\nacc_xgb\n",
      "execution_count": 40,
      "outputs": [
        {
          "output_type": "stream",
          "text": "<class 'pandas.core.frame.DataFrame'>\nRangeIndex: 891 entries, 0 to 890\nData columns (total 7 columns):\nPclass        891 non-null int64\nSex           891 non-null int64\nEmbarked      891 non-null int64\nFamilySize    891 non-null int64\nFareband      891 non-null int64\nTitle         891 non-null int64\nAgeband       891 non-null int64\ndtypes: int64(7)\nmemory usage: 48.8 KB\n",
          "name": "stdout"
        },
        {
          "output_type": "execute_result",
          "execution_count": 40,
          "data": {
            "text/plain": "XGBClassifier(base_score=0.5, booster='gbtree', colsample_bylevel=1,\n       colsample_bytree=1, gamma=0, learning_rate=0.1, max_delta_step=0,\n       max_depth=3, min_child_weight=1, missing=None, n_estimators=100,\n       n_jobs=1, nthread=None, objective='binary:logistic', random_state=0,\n       reg_alpha=0, reg_lambda=1, scale_pos_weight=1, seed=None,\n       silent=True, subsample=1)"
          },
          "metadata": {}
        },
        {
          "output_type": "execute_result",
          "execution_count": 40,
          "data": {
            "text/plain": "69.579999999999998"
          },
          "metadata": {}
        }
      ]
    },
    {
      "metadata": {
        "_uuid": "b19a9af5b29261c6c891b20c93cf42fd1f50f3b7",
        "_cell_guid": "df14b1a0-57c9-494c-840f-aac7e88a8125",
        "trusted": true
      },
      "cell_type": "code",
      "source": "# Random Forest\n\nrandom_forest = RandomForestClassifier(n_estimators=100)\nrandom_forest.fit(X_train, Y_train)\nY_pred = random_forest.predict(X_test)\n\nY_pred\n\nrandom_forest.score(X_train, Y_train)\nacc_random_forest = round(random_forest.score(X_train, Y_train) * 100, 2)\nacc_random_forest",
      "execution_count": 41,
      "outputs": [
        {
          "output_type": "execute_result",
          "execution_count": 41,
          "data": {
            "text/plain": "RandomForestClassifier(bootstrap=True, class_weight=None, criterion='gini',\n            max_depth=None, max_features='auto', max_leaf_nodes=None,\n            min_impurity_decrease=0.0, min_impurity_split=None,\n            min_samples_leaf=1, min_samples_split=2,\n            min_weight_fraction_leaf=0.0, n_estimators=100, n_jobs=1,\n            oob_score=False, random_state=None, verbose=0,\n            warm_start=False)"
          },
          "metadata": {}
        },
        {
          "output_type": "execute_result",
          "execution_count": 41,
          "data": {
            "text/plain": "array([0, 0, 0, 0, 1, 0, 1, 0, 1, 0, 0, 1, 1, 0, 1, 1, 0, 0, 0, 1, 0, 1, 1,\n       0, 1, 0, 1, 0, 1, 0, 0, 0, 1, 0, 0, 0, 0, 0, 0, 1, 0, 1, 0, 1, 1, 0,\n       1, 0, 1, 1, 0, 0, 1, 1, 0, 0, 0, 0, 0, 1, 0, 0, 0, 1, 1, 1, 1, 0, 0,\n       1, 1, 0, 0, 0, 1, 0, 0, 1, 0, 1, 1, 0, 0, 0, 0, 0, 1, 0, 1, 1, 1, 0,\n       1, 0, 0, 0, 1, 0, 1, 0, 1, 0, 0, 0, 1, 0, 0, 0, 0, 0, 0, 1, 1, 1, 1,\n       0, 0, 1, 0, 1, 1, 0, 1, 0, 0, 0, 0, 1, 0, 0, 0, 0, 0, 0, 0, 0, 0, 0,\n       0, 0, 0, 1, 0, 0, 1, 0, 0, 0, 1, 0, 1, 0, 0, 0, 0, 0, 1, 1, 1, 1, 1,\n       1, 1, 0, 0, 0, 0, 0, 1, 0, 0, 0, 0, 0, 0, 1, 1, 0, 1, 1, 0, 1, 1, 0,\n       1, 0, 1, 0, 0, 0, 0, 1, 1, 0, 1, 0, 1, 1, 0, 1, 1, 1, 1, 1, 0, 0, 1,\n       0, 1, 0, 0, 0, 0, 1, 0, 0, 1, 0, 1, 0, 1, 0, 1, 0, 1, 0, 0, 1, 0, 0,\n       0, 1, 0, 0, 1, 0, 0, 0, 1, 1, 1, 1, 1, 0, 1, 0, 1, 0, 1, 1, 1, 0, 0,\n       0, 0, 0, 0, 0, 1, 0, 0, 0, 1, 1, 0, 0, 0, 0, 0, 0, 0, 0, 1, 1, 0, 1,\n       0, 0, 0, 0, 0, 1, 1, 1, 1, 0, 0, 0, 0, 0, 0, 1, 0, 1, 0, 0, 1, 0, 0,\n       0, 0, 0, 0, 0, 1, 1, 0, 1, 0, 0, 0, 0, 0, 1, 1, 1, 0, 0, 0, 0, 0, 0,\n       0, 1, 1, 0, 1, 0, 0, 0, 1, 1, 0, 1, 0, 1, 0, 0, 0, 1, 0, 0, 0, 1, 1,\n       0, 0, 1, 0, 1, 1, 0, 0, 0, 1, 0, 1, 0, 0, 0, 0, 1, 1, 0, 1, 0, 0, 0,\n       1, 0, 0, 1, 0, 0, 1, 1, 0, 0, 0, 0, 0, 0, 1, 0, 0, 1, 0, 0, 0, 0, 0,\n       1, 1, 0, 0, 1, 0, 1, 0, 0, 1, 0, 1, 0, 0, 0, 0, 0, 1, 1, 1, 1, 1, 0,\n       1, 0, 0, 1])"
          },
          "metadata": {}
        },
        {
          "output_type": "execute_result",
          "execution_count": 41,
          "data": {
            "text/plain": "0.88103254769921435"
          },
          "metadata": {}
        },
        {
          "output_type": "execute_result",
          "execution_count": 41,
          "data": {
            "text/plain": "88.099999999999994"
          },
          "metadata": {}
        }
      ]
    },
    {
      "metadata": {
        "_uuid": "ddbc6b285bce80a4002ae26edb10430bb39887ba",
        "_cell_guid": "3f9b3ef6-b7ac-4c27-a6d3-b2a3945edaf9"
      },
      "cell_type": "markdown",
      "source": "## Model Evaluation\n* Comparing the scores of various ML algorithms"
    },
    {
      "metadata": {
        "_uuid": "0d6c0102053ad68e3ffc5959e42f9ff55c8e2fec",
        "_cell_guid": "133a96ec-d747-4478-9c01-5922a69e1b4a",
        "trusted": true
      },
      "cell_type": "code",
      "source": "# Model Evaluation\n\nmodels = pd.DataFrame({\n    'Model': ['Support Vector Machines', 'KNN', 'Logistic Regression', \n              'Random Forest', 'Naive Bayes', 'Perceptron', \n              'Stochastic Gradient Decent', 'XGBoost', \n              'Decision Tree'],\n    'Score': [acc_svc, acc_knn, acc_log, \n              acc_random_forest, acc_gaussian, acc_perceptron, \n              acc_sgd, acc_xgb, acc_decision_tree]})\nmodels.sort_values(by='Score', ascending=False)",
      "execution_count": 42,
      "outputs": [
        {
          "output_type": "execute_result",
          "execution_count": 42,
          "data": {
            "text/plain": "                        Model  Score\n3               Random Forest  88.10\n8               Decision Tree  88.10\n1                         KNN  85.19\n0     Support Vector Machines  83.50\n5                  Perceptron  80.70\n2         Logistic Regression  78.90\n4                 Naive Bayes  77.78\n6  Stochastic Gradient Decent  69.58\n7                     XGBoost  69.58",
            "text/html": "<div>\n<style>\n    .dataframe thead tr:only-child th {\n        text-align: right;\n    }\n\n    .dataframe thead th {\n        text-align: left;\n    }\n\n    .dataframe tbody tr th {\n        vertical-align: top;\n    }\n</style>\n<table border=\"1\" class=\"dataframe\">\n  <thead>\n    <tr style=\"text-align: right;\">\n      <th></th>\n      <th>Model</th>\n      <th>Score</th>\n    </tr>\n  </thead>\n  <tbody>\n    <tr>\n      <th>3</th>\n      <td>Random Forest</td>\n      <td>88.10</td>\n    </tr>\n    <tr>\n      <th>8</th>\n      <td>Decision Tree</td>\n      <td>88.10</td>\n    </tr>\n    <tr>\n      <th>1</th>\n      <td>KNN</td>\n      <td>85.19</td>\n    </tr>\n    <tr>\n      <th>0</th>\n      <td>Support Vector Machines</td>\n      <td>83.50</td>\n    </tr>\n    <tr>\n      <th>5</th>\n      <td>Perceptron</td>\n      <td>80.70</td>\n    </tr>\n    <tr>\n      <th>2</th>\n      <td>Logistic Regression</td>\n      <td>78.90</td>\n    </tr>\n    <tr>\n      <th>4</th>\n      <td>Naive Bayes</td>\n      <td>77.78</td>\n    </tr>\n    <tr>\n      <th>6</th>\n      <td>Stochastic Gradient Decent</td>\n      <td>69.58</td>\n    </tr>\n    <tr>\n      <th>7</th>\n      <td>XGBoost</td>\n      <td>69.58</td>\n    </tr>\n  </tbody>\n</table>\n</div>"
          },
          "metadata": {}
        }
      ]
    },
    {
      "metadata": {
        "_uuid": "d65fd7192eb91c7e640690266b4607ff41755906"
      },
      "cell_type": "markdown",
      "source": "## Submission"
    },
    {
      "metadata": {
        "_uuid": "0556f51ae8edccafaf2c8344a79ffad4a81cfb09",
        "_cell_guid": "f3b2968e-3229-447f-9531-4d4ba3b024e2",
        "collapsed": true,
        "trusted": true
      },
      "cell_type": "code",
      "source": "# #competition submission: Random Forest Trees\n# submission = pd.DataFrame({\n#         \"PassengerId\": df_test[\"PassengerId\"],\n#         \"Survived\": Y_pred\n#     })\n# submission.to_csv('submission.csv', index=False)",
      "execution_count": 43,
      "outputs": []
    }
  ],
  "metadata": {
    "kernelspec": {
      "display_name": "Python 3",
      "language": "python",
      "name": "python3"
    },
    "language_info": {
      "name": "python",
      "version": "3.6.4",
      "mimetype": "text/x-python",
      "codemirror_mode": {
        "name": "ipython",
        "version": 3
      },
      "pygments_lexer": "ipython3",
      "nbconvert_exporter": "python",
      "file_extension": ".py"
    }
  },
  "nbformat": 4,
  "nbformat_minor": 1
}